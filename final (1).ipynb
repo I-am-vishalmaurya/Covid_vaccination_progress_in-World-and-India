{
 "cells": [
  {
   "cell_type": "markdown",
   "metadata": {},
   "source": [
    "# Importing the Dependenices"
   ]
  },
  {
   "cell_type": "code",
   "execution_count": 2,
   "metadata": {},
   "outputs": [],
   "source": [
    "import matplotlib.pyplot as plt\n",
    "import pandas as pd\n",
    "import plotly.express as px\n",
    "import seaborn as sns\n",
    "%matplotlib inline"
   ]
  },
  {
   "cell_type": "code",
   "execution_count": 3,
   "metadata": {},
   "outputs": [
    {
     "name": "stdout",
     "output_type": "stream",
     "text": [
      "<class 'pandas.core.frame.DataFrame'>\n",
      "RangeIndex: 1676 entries, 0 to 1675\n",
      "Data columns (total 15 columns):\n",
      " #   Column                               Non-Null Count  Dtype  \n",
      "---  ------                               --------------  -----  \n",
      " 0   country                              1676 non-null   object \n",
      " 1   iso_code                             1491 non-null   object \n",
      " 2   date                                 1676 non-null   object \n",
      " 3   total_vaccinations                   1105 non-null   float64\n",
      " 4   people_vaccinated                    842 non-null    float64\n",
      " 5   people_fully_vaccinated              416 non-null    float64\n",
      " 6   daily_vaccinations_raw               891 non-null    float64\n",
      " 7   daily_vaccinations                   1604 non-null   float64\n",
      " 8   total_vaccinations_per_hundred       1105 non-null   float64\n",
      " 9   people_vaccinated_per_hundred        842 non-null    float64\n",
      " 10  people_fully_vaccinated_per_hundred  416 non-null    float64\n",
      " 11  daily_vaccinations_per_million       1604 non-null   float64\n",
      " 12  vaccines                             1676 non-null   object \n",
      " 13  source_name                          1676 non-null   object \n",
      " 14  source_website                       1676 non-null   object \n",
      "dtypes: float64(9), object(6)\n",
      "memory usage: 196.5+ KB\n"
     ]
    },
    {
     "data": {
      "text/html": [
       "<div>\n",
       "<style scoped>\n",
       "    .dataframe tbody tr th:only-of-type {\n",
       "        vertical-align: middle;\n",
       "    }\n",
       "\n",
       "    .dataframe tbody tr th {\n",
       "        vertical-align: top;\n",
       "    }\n",
       "\n",
       "    .dataframe thead th {\n",
       "        text-align: right;\n",
       "    }\n",
       "</style>\n",
       "<table border=\"1\" class=\"dataframe\">\n",
       "  <thead>\n",
       "    <tr style=\"text-align: right;\">\n",
       "      <th></th>\n",
       "      <th>country</th>\n",
       "      <th>iso_code</th>\n",
       "      <th>date</th>\n",
       "      <th>total_vaccinations</th>\n",
       "      <th>people_vaccinated</th>\n",
       "      <th>people_fully_vaccinated</th>\n",
       "      <th>daily_vaccinations_raw</th>\n",
       "      <th>daily_vaccinations</th>\n",
       "      <th>total_vaccinations_per_hundred</th>\n",
       "      <th>people_vaccinated_per_hundred</th>\n",
       "      <th>people_fully_vaccinated_per_hundred</th>\n",
       "      <th>daily_vaccinations_per_million</th>\n",
       "      <th>vaccines</th>\n",
       "      <th>source_name</th>\n",
       "      <th>source_website</th>\n",
       "    </tr>\n",
       "  </thead>\n",
       "  <tbody>\n",
       "    <tr>\n",
       "      <th>0</th>\n",
       "      <td>Argentina</td>\n",
       "      <td>ARG</td>\n",
       "      <td>2020-12-29</td>\n",
       "      <td>700.0</td>\n",
       "      <td>NaN</td>\n",
       "      <td>NaN</td>\n",
       "      <td>NaN</td>\n",
       "      <td>NaN</td>\n",
       "      <td>0.00</td>\n",
       "      <td>NaN</td>\n",
       "      <td>NaN</td>\n",
       "      <td>NaN</td>\n",
       "      <td>Sputnik V</td>\n",
       "      <td>Ministry of Health</td>\n",
       "      <td>http://datos.salud.gob.ar/dataset/vacunas-cont...</td>\n",
       "    </tr>\n",
       "    <tr>\n",
       "      <th>1</th>\n",
       "      <td>Argentina</td>\n",
       "      <td>ARG</td>\n",
       "      <td>2020-12-30</td>\n",
       "      <td>NaN</td>\n",
       "      <td>NaN</td>\n",
       "      <td>NaN</td>\n",
       "      <td>NaN</td>\n",
       "      <td>15656.0</td>\n",
       "      <td>NaN</td>\n",
       "      <td>NaN</td>\n",
       "      <td>NaN</td>\n",
       "      <td>346.0</td>\n",
       "      <td>Sputnik V</td>\n",
       "      <td>Ministry of Health</td>\n",
       "      <td>http://datos.salud.gob.ar/dataset/vacunas-cont...</td>\n",
       "    </tr>\n",
       "    <tr>\n",
       "      <th>2</th>\n",
       "      <td>Argentina</td>\n",
       "      <td>ARG</td>\n",
       "      <td>2020-12-31</td>\n",
       "      <td>32013.0</td>\n",
       "      <td>NaN</td>\n",
       "      <td>NaN</td>\n",
       "      <td>NaN</td>\n",
       "      <td>15656.0</td>\n",
       "      <td>0.07</td>\n",
       "      <td>NaN</td>\n",
       "      <td>NaN</td>\n",
       "      <td>346.0</td>\n",
       "      <td>Sputnik V</td>\n",
       "      <td>Ministry of Health</td>\n",
       "      <td>http://datos.salud.gob.ar/dataset/vacunas-cont...</td>\n",
       "    </tr>\n",
       "    <tr>\n",
       "      <th>3</th>\n",
       "      <td>Argentina</td>\n",
       "      <td>ARG</td>\n",
       "      <td>2021-01-01</td>\n",
       "      <td>NaN</td>\n",
       "      <td>NaN</td>\n",
       "      <td>NaN</td>\n",
       "      <td>NaN</td>\n",
       "      <td>11070.0</td>\n",
       "      <td>NaN</td>\n",
       "      <td>NaN</td>\n",
       "      <td>NaN</td>\n",
       "      <td>245.0</td>\n",
       "      <td>Sputnik V</td>\n",
       "      <td>Ministry of Health</td>\n",
       "      <td>http://datos.salud.gob.ar/dataset/vacunas-cont...</td>\n",
       "    </tr>\n",
       "    <tr>\n",
       "      <th>4</th>\n",
       "      <td>Argentina</td>\n",
       "      <td>ARG</td>\n",
       "      <td>2021-01-02</td>\n",
       "      <td>NaN</td>\n",
       "      <td>NaN</td>\n",
       "      <td>NaN</td>\n",
       "      <td>NaN</td>\n",
       "      <td>8776.0</td>\n",
       "      <td>NaN</td>\n",
       "      <td>NaN</td>\n",
       "      <td>NaN</td>\n",
       "      <td>194.0</td>\n",
       "      <td>Sputnik V</td>\n",
       "      <td>Ministry of Health</td>\n",
       "      <td>http://datos.salud.gob.ar/dataset/vacunas-cont...</td>\n",
       "    </tr>\n",
       "  </tbody>\n",
       "</table>\n",
       "</div>"
      ],
      "text/plain": [
       "     country iso_code        date  total_vaccinations  people_vaccinated  \\\n",
       "0  Argentina      ARG  2020-12-29               700.0                NaN   \n",
       "1  Argentina      ARG  2020-12-30                 NaN                NaN   \n",
       "2  Argentina      ARG  2020-12-31             32013.0                NaN   \n",
       "3  Argentina      ARG  2021-01-01                 NaN                NaN   \n",
       "4  Argentina      ARG  2021-01-02                 NaN                NaN   \n",
       "\n",
       "   people_fully_vaccinated  daily_vaccinations_raw  daily_vaccinations  \\\n",
       "0                      NaN                     NaN                 NaN   \n",
       "1                      NaN                     NaN             15656.0   \n",
       "2                      NaN                     NaN             15656.0   \n",
       "3                      NaN                     NaN             11070.0   \n",
       "4                      NaN                     NaN              8776.0   \n",
       "\n",
       "   total_vaccinations_per_hundred  people_vaccinated_per_hundred  \\\n",
       "0                            0.00                            NaN   \n",
       "1                             NaN                            NaN   \n",
       "2                            0.07                            NaN   \n",
       "3                             NaN                            NaN   \n",
       "4                             NaN                            NaN   \n",
       "\n",
       "   people_fully_vaccinated_per_hundred  daily_vaccinations_per_million  \\\n",
       "0                                  NaN                             NaN   \n",
       "1                                  NaN                           346.0   \n",
       "2                                  NaN                           346.0   \n",
       "3                                  NaN                           245.0   \n",
       "4                                  NaN                           194.0   \n",
       "\n",
       "    vaccines         source_name  \\\n",
       "0  Sputnik V  Ministry of Health   \n",
       "1  Sputnik V  Ministry of Health   \n",
       "2  Sputnik V  Ministry of Health   \n",
       "3  Sputnik V  Ministry of Health   \n",
       "4  Sputnik V  Ministry of Health   \n",
       "\n",
       "                                      source_website  \n",
       "0  http://datos.salud.gob.ar/dataset/vacunas-cont...  \n",
       "1  http://datos.salud.gob.ar/dataset/vacunas-cont...  \n",
       "2  http://datos.salud.gob.ar/dataset/vacunas-cont...  \n",
       "3  http://datos.salud.gob.ar/dataset/vacunas-cont...  \n",
       "4  http://datos.salud.gob.ar/dataset/vacunas-cont...  "
      ]
     },
     "execution_count": 3,
     "metadata": {},
     "output_type": "execute_result"
    }
   ],
   "source": [
    "data = pd.read_csv('country_vaccinations.csv')\n",
    "data.info()\n",
    "data.head()"
   ]
  },
  {
   "cell_type": "markdown",
   "metadata": {},
   "source": [
    "# Cleaning The Data\n",
    "Cleaning the ISO code of The NaN Country"
   ]
  },
  {
   "cell_type": "code",
   "execution_count": 4,
   "metadata": {},
   "outputs": [
    {
     "data": {
      "text/plain": [
       "Northern Ireland    46\n",
       "Wales               46\n",
       "Scotland            45\n",
       "England             39\n",
       "Northern Cyprus      9\n",
       "Name: country, dtype: int64"
      ]
     },
     "execution_count": 4,
     "metadata": {},
     "output_type": "execute_result"
    }
   ],
   "source": [
    "data[data['iso_code'].isnull()]['country'].value_counts()"
   ]
  },
  {
   "cell_type": "code",
   "execution_count": 5,
   "metadata": {},
   "outputs": [
    {
     "data": {
      "text/html": [
       "<div>\n",
       "<style scoped>\n",
       "    .dataframe tbody tr th:only-of-type {\n",
       "        vertical-align: middle;\n",
       "    }\n",
       "\n",
       "    .dataframe tbody tr th {\n",
       "        vertical-align: top;\n",
       "    }\n",
       "\n",
       "    .dataframe thead th {\n",
       "        text-align: right;\n",
       "    }\n",
       "</style>\n",
       "<table border=\"1\" class=\"dataframe\">\n",
       "  <thead>\n",
       "    <tr style=\"text-align: right;\">\n",
       "      <th></th>\n",
       "      <th>country</th>\n",
       "      <th>date</th>\n",
       "      <th>total_vaccinations</th>\n",
       "      <th>people_vaccinated</th>\n",
       "      <th>people_fully_vaccinated</th>\n",
       "      <th>daily_vaccinations_raw</th>\n",
       "      <th>daily_vaccinations</th>\n",
       "      <th>total_vaccinations_per_hundred</th>\n",
       "      <th>people_vaccinated_per_hundred</th>\n",
       "      <th>people_fully_vaccinated_per_hundred</th>\n",
       "      <th>daily_vaccinations_per_million</th>\n",
       "      <th>vaccines</th>\n",
       "      <th>source_name</th>\n",
       "      <th>source_website</th>\n",
       "      <th>new_iso_code</th>\n",
       "    </tr>\n",
       "  </thead>\n",
       "  <tbody>\n",
       "    <tr>\n",
       "      <th>0</th>\n",
       "      <td>Argentina</td>\n",
       "      <td>2020-12-29</td>\n",
       "      <td>700.0</td>\n",
       "      <td>NaN</td>\n",
       "      <td>NaN</td>\n",
       "      <td>NaN</td>\n",
       "      <td>NaN</td>\n",
       "      <td>0.00</td>\n",
       "      <td>NaN</td>\n",
       "      <td>NaN</td>\n",
       "      <td>NaN</td>\n",
       "      <td>Sputnik V</td>\n",
       "      <td>Ministry of Health</td>\n",
       "      <td>http://datos.salud.gob.ar/dataset/vacunas-cont...</td>\n",
       "      <td>ARG</td>\n",
       "    </tr>\n",
       "    <tr>\n",
       "      <th>1</th>\n",
       "      <td>Argentina</td>\n",
       "      <td>2020-12-30</td>\n",
       "      <td>NaN</td>\n",
       "      <td>NaN</td>\n",
       "      <td>NaN</td>\n",
       "      <td>NaN</td>\n",
       "      <td>15656.0</td>\n",
       "      <td>NaN</td>\n",
       "      <td>NaN</td>\n",
       "      <td>NaN</td>\n",
       "      <td>346.0</td>\n",
       "      <td>Sputnik V</td>\n",
       "      <td>Ministry of Health</td>\n",
       "      <td>http://datos.salud.gob.ar/dataset/vacunas-cont...</td>\n",
       "      <td>ARG</td>\n",
       "    </tr>\n",
       "    <tr>\n",
       "      <th>2</th>\n",
       "      <td>Argentina</td>\n",
       "      <td>2020-12-31</td>\n",
       "      <td>32013.0</td>\n",
       "      <td>NaN</td>\n",
       "      <td>NaN</td>\n",
       "      <td>NaN</td>\n",
       "      <td>15656.0</td>\n",
       "      <td>0.07</td>\n",
       "      <td>NaN</td>\n",
       "      <td>NaN</td>\n",
       "      <td>346.0</td>\n",
       "      <td>Sputnik V</td>\n",
       "      <td>Ministry of Health</td>\n",
       "      <td>http://datos.salud.gob.ar/dataset/vacunas-cont...</td>\n",
       "      <td>ARG</td>\n",
       "    </tr>\n",
       "    <tr>\n",
       "      <th>3</th>\n",
       "      <td>Argentina</td>\n",
       "      <td>2021-01-01</td>\n",
       "      <td>NaN</td>\n",
       "      <td>NaN</td>\n",
       "      <td>NaN</td>\n",
       "      <td>NaN</td>\n",
       "      <td>11070.0</td>\n",
       "      <td>NaN</td>\n",
       "      <td>NaN</td>\n",
       "      <td>NaN</td>\n",
       "      <td>245.0</td>\n",
       "      <td>Sputnik V</td>\n",
       "      <td>Ministry of Health</td>\n",
       "      <td>http://datos.salud.gob.ar/dataset/vacunas-cont...</td>\n",
       "      <td>ARG</td>\n",
       "    </tr>\n",
       "    <tr>\n",
       "      <th>4</th>\n",
       "      <td>Argentina</td>\n",
       "      <td>2021-01-02</td>\n",
       "      <td>NaN</td>\n",
       "      <td>NaN</td>\n",
       "      <td>NaN</td>\n",
       "      <td>NaN</td>\n",
       "      <td>8776.0</td>\n",
       "      <td>NaN</td>\n",
       "      <td>NaN</td>\n",
       "      <td>NaN</td>\n",
       "      <td>194.0</td>\n",
       "      <td>Sputnik V</td>\n",
       "      <td>Ministry of Health</td>\n",
       "      <td>http://datos.salud.gob.ar/dataset/vacunas-cont...</td>\n",
       "      <td>ARG</td>\n",
       "    </tr>\n",
       "    <tr>\n",
       "      <th>...</th>\n",
       "      <td>...</td>\n",
       "      <td>...</td>\n",
       "      <td>...</td>\n",
       "      <td>...</td>\n",
       "      <td>...</td>\n",
       "      <td>...</td>\n",
       "      <td>...</td>\n",
       "      <td>...</td>\n",
       "      <td>...</td>\n",
       "      <td>...</td>\n",
       "      <td>...</td>\n",
       "      <td>...</td>\n",
       "      <td>...</td>\n",
       "      <td>...</td>\n",
       "      <td>...</td>\n",
       "    </tr>\n",
       "    <tr>\n",
       "      <th>1671</th>\n",
       "      <td>Wales</td>\n",
       "      <td>2021-01-23</td>\n",
       "      <td>265054.0</td>\n",
       "      <td>264538.0</td>\n",
       "      <td>516.0</td>\n",
       "      <td>24038.0</td>\n",
       "      <td>17371.0</td>\n",
       "      <td>8.41</td>\n",
       "      <td>8.39</td>\n",
       "      <td>0.02</td>\n",
       "      <td>5510.0</td>\n",
       "      <td>Oxford/AstraZeneca, Pfizer/BioNTech</td>\n",
       "      <td>Government of the United Kingdom</td>\n",
       "      <td>https://coronavirus.data.gov.uk/details/health...</td>\n",
       "      <td>GBR</td>\n",
       "    </tr>\n",
       "    <tr>\n",
       "      <th>1672</th>\n",
       "      <td>Wales</td>\n",
       "      <td>2021-01-24</td>\n",
       "      <td>271376.0</td>\n",
       "      <td>270833.0</td>\n",
       "      <td>543.0</td>\n",
       "      <td>6322.0</td>\n",
       "      <td>17063.0</td>\n",
       "      <td>8.61</td>\n",
       "      <td>8.59</td>\n",
       "      <td>0.02</td>\n",
       "      <td>5412.0</td>\n",
       "      <td>Oxford/AstraZeneca, Pfizer/BioNTech</td>\n",
       "      <td>Government of the United Kingdom</td>\n",
       "      <td>https://coronavirus.data.gov.uk/details/health...</td>\n",
       "      <td>GBR</td>\n",
       "    </tr>\n",
       "    <tr>\n",
       "      <th>1673</th>\n",
       "      <td>Wales</td>\n",
       "      <td>2021-01-25</td>\n",
       "      <td>290147.0</td>\n",
       "      <td>289566.0</td>\n",
       "      <td>581.0</td>\n",
       "      <td>18771.0</td>\n",
       "      <td>18279.0</td>\n",
       "      <td>9.20</td>\n",
       "      <td>9.18</td>\n",
       "      <td>0.02</td>\n",
       "      <td>5798.0</td>\n",
       "      <td>Oxford/AstraZeneca, Pfizer/BioNTech</td>\n",
       "      <td>Government of the United Kingdom</td>\n",
       "      <td>https://coronavirus.data.gov.uk/details/health...</td>\n",
       "      <td>GBR</td>\n",
       "    </tr>\n",
       "    <tr>\n",
       "      <th>1674</th>\n",
       "      <td>Wales</td>\n",
       "      <td>2021-01-26</td>\n",
       "      <td>312944.0</td>\n",
       "      <td>312305.0</td>\n",
       "      <td>639.0</td>\n",
       "      <td>22797.0</td>\n",
       "      <td>19537.0</td>\n",
       "      <td>9.93</td>\n",
       "      <td>9.91</td>\n",
       "      <td>0.02</td>\n",
       "      <td>6197.0</td>\n",
       "      <td>Oxford/AstraZeneca, Pfizer/BioNTech</td>\n",
       "      <td>Government of the United Kingdom</td>\n",
       "      <td>https://coronavirus.data.gov.uk/details/health...</td>\n",
       "      <td>GBR</td>\n",
       "    </tr>\n",
       "    <tr>\n",
       "      <th>1675</th>\n",
       "      <td>Wales</td>\n",
       "      <td>2021-01-27</td>\n",
       "      <td>336745.0</td>\n",
       "      <td>336071.0</td>\n",
       "      <td>674.0</td>\n",
       "      <td>23801.0</td>\n",
       "      <td>20845.0</td>\n",
       "      <td>10.68</td>\n",
       "      <td>10.66</td>\n",
       "      <td>0.02</td>\n",
       "      <td>6611.0</td>\n",
       "      <td>Oxford/AstraZeneca, Pfizer/BioNTech</td>\n",
       "      <td>Government of the United Kingdom</td>\n",
       "      <td>https://coronavirus.data.gov.uk/details/health...</td>\n",
       "      <td>GBR</td>\n",
       "    </tr>\n",
       "  </tbody>\n",
       "</table>\n",
       "<p>1676 rows × 15 columns</p>\n",
       "</div>"
      ],
      "text/plain": [
       "        country        date  total_vaccinations  people_vaccinated  \\\n",
       "0     Argentina  2020-12-29               700.0                NaN   \n",
       "1     Argentina  2020-12-30                 NaN                NaN   \n",
       "2     Argentina  2020-12-31             32013.0                NaN   \n",
       "3     Argentina  2021-01-01                 NaN                NaN   \n",
       "4     Argentina  2021-01-02                 NaN                NaN   \n",
       "...         ...         ...                 ...                ...   \n",
       "1671      Wales  2021-01-23            265054.0           264538.0   \n",
       "1672      Wales  2021-01-24            271376.0           270833.0   \n",
       "1673      Wales  2021-01-25            290147.0           289566.0   \n",
       "1674      Wales  2021-01-26            312944.0           312305.0   \n",
       "1675      Wales  2021-01-27            336745.0           336071.0   \n",
       "\n",
       "      people_fully_vaccinated  daily_vaccinations_raw  daily_vaccinations  \\\n",
       "0                         NaN                     NaN                 NaN   \n",
       "1                         NaN                     NaN             15656.0   \n",
       "2                         NaN                     NaN             15656.0   \n",
       "3                         NaN                     NaN             11070.0   \n",
       "4                         NaN                     NaN              8776.0   \n",
       "...                       ...                     ...                 ...   \n",
       "1671                    516.0                 24038.0             17371.0   \n",
       "1672                    543.0                  6322.0             17063.0   \n",
       "1673                    581.0                 18771.0             18279.0   \n",
       "1674                    639.0                 22797.0             19537.0   \n",
       "1675                    674.0                 23801.0             20845.0   \n",
       "\n",
       "      total_vaccinations_per_hundred  people_vaccinated_per_hundred  \\\n",
       "0                               0.00                            NaN   \n",
       "1                                NaN                            NaN   \n",
       "2                               0.07                            NaN   \n",
       "3                                NaN                            NaN   \n",
       "4                                NaN                            NaN   \n",
       "...                              ...                            ...   \n",
       "1671                            8.41                           8.39   \n",
       "1672                            8.61                           8.59   \n",
       "1673                            9.20                           9.18   \n",
       "1674                            9.93                           9.91   \n",
       "1675                           10.68                          10.66   \n",
       "\n",
       "      people_fully_vaccinated_per_hundred  daily_vaccinations_per_million  \\\n",
       "0                                     NaN                             NaN   \n",
       "1                                     NaN                           346.0   \n",
       "2                                     NaN                           346.0   \n",
       "3                                     NaN                           245.0   \n",
       "4                                     NaN                           194.0   \n",
       "...                                   ...                             ...   \n",
       "1671                                 0.02                          5510.0   \n",
       "1672                                 0.02                          5412.0   \n",
       "1673                                 0.02                          5798.0   \n",
       "1674                                 0.02                          6197.0   \n",
       "1675                                 0.02                          6611.0   \n",
       "\n",
       "                                 vaccines                       source_name  \\\n",
       "0                               Sputnik V                Ministry of Health   \n",
       "1                               Sputnik V                Ministry of Health   \n",
       "2                               Sputnik V                Ministry of Health   \n",
       "3                               Sputnik V                Ministry of Health   \n",
       "4                               Sputnik V                Ministry of Health   \n",
       "...                                   ...                               ...   \n",
       "1671  Oxford/AstraZeneca, Pfizer/BioNTech  Government of the United Kingdom   \n",
       "1672  Oxford/AstraZeneca, Pfizer/BioNTech  Government of the United Kingdom   \n",
       "1673  Oxford/AstraZeneca, Pfizer/BioNTech  Government of the United Kingdom   \n",
       "1674  Oxford/AstraZeneca, Pfizer/BioNTech  Government of the United Kingdom   \n",
       "1675  Oxford/AstraZeneca, Pfizer/BioNTech  Government of the United Kingdom   \n",
       "\n",
       "                                         source_website new_iso_code  \n",
       "0     http://datos.salud.gob.ar/dataset/vacunas-cont...          ARG  \n",
       "1     http://datos.salud.gob.ar/dataset/vacunas-cont...          ARG  \n",
       "2     http://datos.salud.gob.ar/dataset/vacunas-cont...          ARG  \n",
       "3     http://datos.salud.gob.ar/dataset/vacunas-cont...          ARG  \n",
       "4     http://datos.salud.gob.ar/dataset/vacunas-cont...          ARG  \n",
       "...                                                 ...          ...  \n",
       "1671  https://coronavirus.data.gov.uk/details/health...          GBR  \n",
       "1672  https://coronavirus.data.gov.uk/details/health...          GBR  \n",
       "1673  https://coronavirus.data.gov.uk/details/health...          GBR  \n",
       "1674  https://coronavirus.data.gov.uk/details/health...          GBR  \n",
       "1675  https://coronavirus.data.gov.uk/details/health...          GBR  \n",
       "\n",
       "[1676 rows x 15 columns]"
      ]
     },
     "execution_count": 5,
     "metadata": {},
     "output_type": "execute_result"
    }
   ],
   "source": [
    "# all these country have ISO code as GBR -- google\n",
    "# now setting all the NaN values of ISO code as GBR \n",
    "# we can also use 'inplace' arugument if we want to change the data columns directly.\n",
    "new_iso = data['iso_code'].fillna(\"GBR\")\n",
    "data['new_iso_code'] = new_iso\n",
    "data.drop(columns = 'iso_code', axis = 1)"
   ]
  },
  {
   "cell_type": "markdown",
   "metadata": {},
   "source": [
    "#### Fixing all the NaN values in Other columns by taking their mean."
   ]
  },
  {
   "cell_type": "code",
   "execution_count": 6,
   "metadata": {},
   "outputs": [
    {
     "data": {
      "text/plain": [
       "total_vaccinations                     751452.169231\n",
       "people_vaccinated                      747129.939430\n",
       "people_fully_vaccinated                165813.584135\n",
       "daily_vaccinations_raw                  53809.852974\n",
       "daily_vaccinations                      47922.092269\n",
       "total_vaccinations_per_hundred              3.129493\n",
       "people_vaccinated_per_hundred               3.285238\n",
       "people_fully_vaccinated_per_hundred         0.681851\n",
       "daily_vaccinations_per_million           1675.870948\n",
       "dtype: float64"
      ]
     },
     "execution_count": 6,
     "metadata": {},
     "output_type": "execute_result"
    }
   ],
   "source": [
    "data.mean()"
   ]
  },
  {
   "cell_type": "code",
   "execution_count": 7,
   "metadata": {},
   "outputs": [
    {
     "name": "stdout",
     "output_type": "stream",
     "text": [
      "<class 'pandas.core.frame.DataFrame'>\n",
      "RangeIndex: 1676 entries, 0 to 1675\n",
      "Data columns (total 16 columns):\n",
      " #   Column                               Non-Null Count  Dtype  \n",
      "---  ------                               --------------  -----  \n",
      " 0   country                              1676 non-null   object \n",
      " 1   iso_code                             1491 non-null   object \n",
      " 2   date                                 1676 non-null   object \n",
      " 3   total_vaccinations                   1676 non-null   float64\n",
      " 4   people_vaccinated                    1676 non-null   float64\n",
      " 5   people_fully_vaccinated              1676 non-null   float64\n",
      " 6   daily_vaccinations_raw               1676 non-null   float64\n",
      " 7   daily_vaccinations                   1676 non-null   float64\n",
      " 8   total_vaccinations_per_hundred       1676 non-null   float64\n",
      " 9   people_vaccinated_per_hundred        1676 non-null   float64\n",
      " 10  people_fully_vaccinated_per_hundred  1676 non-null   float64\n",
      " 11  daily_vaccinations_per_million       1676 non-null   float64\n",
      " 12  vaccines                             1676 non-null   object \n",
      " 13  source_name                          1676 non-null   object \n",
      " 14  source_website                       1676 non-null   object \n",
      " 15  new_iso_code                         1676 non-null   object \n",
      "dtypes: float64(9), object(7)\n",
      "memory usage: 209.6+ KB\n"
     ]
    }
   ],
   "source": [
    "data.fillna(data.mean(), inplace = True)\n",
    "data.info()\n",
    "# all the NaN values have been filled with their means now.\n",
    "# all the data cleaning process has been done let's do the Exploratory Data Analysis."
   ]
  },
  {
   "cell_type": "markdown",
   "metadata": {},
   "source": [
    "# Exploratory Data Analysis"
   ]
  },
  {
   "cell_type": "markdown",
   "metadata": {},
   "source": [
    "### First we are going to Check which Type of Vaccine has been used in World and its Proportion."
   ]
  },
  {
   "cell_type": "code",
   "execution_count": 8,
   "metadata": {},
   "outputs": [
    {
     "data": {
      "text/plain": [
       "Pfizer/BioNTech                          8.28\n",
       "Moderna, Pfizer/BioNTech                 3.66\n",
       "Oxford/AstraZeneca, Pfizer/BioNTech      2.15\n",
       "Sputnik V                                0.61\n",
       "Pfizer/BioNTech, Sinopharm               0.53\n",
       "Sinovac                                  0.46\n",
       "CNBG, Sinovac                            0.44\n",
       "Pfizer/BioNTech, Sinopharm, Sputnik V    0.20\n",
       "Covishield, Sinopharm                    0.19\n",
       "Covaxin, Covishield                      0.13\n",
       "Pfizer/BioNTech, Sinovac                 0.09\n",
       "Covishield                               0.02\n",
       "Name: vaccines, dtype: float64"
      ]
     },
     "execution_count": 8,
     "metadata": {},
     "output_type": "execute_result"
    }
   ],
   "source": [
    "# for this we need columns like country, vaccines, total_vaccinations, ISO Code\n",
    "vaccine_proportions = data['vaccines'].value_counts() / 100\n",
    "vaccine_proportions"
   ]
  },
  {
   "cell_type": "code",
   "execution_count": 9,
   "metadata": {},
   "outputs": [
    {
     "name": "stderr",
     "output_type": "stream",
     "text": [
      "<ipython-input-9-3d60518ea687>:17: UserWarning: Matplotlib is currently using module://ipykernel.pylab.backend_inline, which is a non-GUI backend, so cannot show the figure.\n",
      "  fig.show()\n"
     ]
    },
    {
     "data": {
      "image/png": "[encoded data removed]",
      "text/plain": [
       "<Waffle size 864x648 with 1 Axes>"
      ]
     },
     "metadata": {
      "needs_background": "light"
     },
     "output_type": "display_data"
    }
   ],
   "source": [
    "from pywaffle import Waffle\n",
    "vaccine_names = ['Pfizer/BioNTech', 'Moderna, Pfizer/BioNTech', 'Oxford/AstraZeneca, Pfizer/BioNTech', 'Sputnik V',\n",
    "                 'Pfizer/BioNTech, Sinopharm', 'Sinovac', 'CNBG, Sinovac', 'Pfizer/BioNTech, Sinopharm, Sputnik V',\n",
    "                 'Covishield, Sinopharm', 'Covaxin, Covishield', 'Pfizer/BioNTech, Sinovac', 'Covishield']\n",
    "fig = plt.figure(\n",
    "    rows = 7,\n",
    "    columns = 12,\n",
    "    FigureClass = Waffle,\n",
    "    values = vaccine_proportions,\n",
    "    title = {'label': 'Proportion of Vaccines', 'loc': 'center',\n",
    "          'fontsize':15},\n",
    "    labels = vaccine_names,\n",
    "    legend={'loc': 'lower left', 'bbox_to_anchor': (0, -0.2), 'ncol': 3, 'framealpha': 0},\n",
    "    \n",
    "    figsize = (12,9)\n",
    ")\n",
    "fig.show()\n"
   ]
  },
  {
   "cell_type": "markdown",
   "metadata": {},
   "source": [
    "From this we know that Pfizer / BioNTech vaccine are mostly used in world."
   ]
  },
  {
   "cell_type": "markdown",
   "metadata": {},
   "source": [
    "### Now let's Check the Progress of Vaccination in India"
   ]
  },
  {
   "cell_type": "code",
   "execution_count": 10,
   "metadata": {},
   "outputs": [
    {
     "data": {
      "text/html": [
       "<div>\n",
       "<style scoped>\n",
       "    .dataframe tbody tr th:only-of-type {\n",
       "        vertical-align: middle;\n",
       "    }\n",
       "\n",
       "    .dataframe tbody tr th {\n",
       "        vertical-align: top;\n",
       "    }\n",
       "\n",
       "    .dataframe thead th {\n",
       "        text-align: right;\n",
       "    }\n",
       "</style>\n",
       "<table border=\"1\" class=\"dataframe\">\n",
       "  <thead>\n",
       "    <tr style=\"text-align: right;\">\n",
       "      <th></th>\n",
       "      <th>country</th>\n",
       "      <th>iso_code</th>\n",
       "      <th>date</th>\n",
       "      <th>total_vaccinations</th>\n",
       "      <th>people_vaccinated</th>\n",
       "      <th>people_fully_vaccinated</th>\n",
       "      <th>daily_vaccinations_raw</th>\n",
       "      <th>daily_vaccinations</th>\n",
       "      <th>total_vaccinations_per_hundred</th>\n",
       "      <th>people_vaccinated_per_hundred</th>\n",
       "      <th>people_fully_vaccinated_per_hundred</th>\n",
       "      <th>daily_vaccinations_per_million</th>\n",
       "      <th>vaccines</th>\n",
       "      <th>source_name</th>\n",
       "      <th>source_website</th>\n",
       "      <th>new_iso_code</th>\n",
       "    </tr>\n",
       "  </thead>\n",
       "  <tbody>\n",
       "    <tr>\n",
       "      <th>690</th>\n",
       "      <td>India</td>\n",
       "      <td>IND</td>\n",
       "      <td>2021-01-15</td>\n",
       "      <td>0.0</td>\n",
       "      <td>747129.93943</td>\n",
       "      <td>165813.584135</td>\n",
       "      <td>53809.852974</td>\n",
       "      <td>47922.092269</td>\n",
       "      <td>0.00</td>\n",
       "      <td>3.285238</td>\n",
       "      <td>0.681851</td>\n",
       "      <td>1675.870948</td>\n",
       "      <td>Covaxin, Covishield</td>\n",
       "      <td>Ministry of Health</td>\n",
       "      <td>https://www.mohfw.gov.in/</td>\n",
       "      <td>IND</td>\n",
       "    </tr>\n",
       "    <tr>\n",
       "      <th>691</th>\n",
       "      <td>India</td>\n",
       "      <td>IND</td>\n",
       "      <td>2021-01-16</td>\n",
       "      <td>191181.0</td>\n",
       "      <td>747129.93943</td>\n",
       "      <td>165813.584135</td>\n",
       "      <td>191181.000000</td>\n",
       "      <td>191181.000000</td>\n",
       "      <td>0.01</td>\n",
       "      <td>3.285238</td>\n",
       "      <td>0.681851</td>\n",
       "      <td>139.000000</td>\n",
       "      <td>Covaxin, Covishield</td>\n",
       "      <td>Ministry of Health</td>\n",
       "      <td>https://www.mohfw.gov.in/</td>\n",
       "      <td>IND</td>\n",
       "    </tr>\n",
       "    <tr>\n",
       "      <th>692</th>\n",
       "      <td>India</td>\n",
       "      <td>IND</td>\n",
       "      <td>2021-01-17</td>\n",
       "      <td>224301.0</td>\n",
       "      <td>747129.93943</td>\n",
       "      <td>165813.584135</td>\n",
       "      <td>33120.000000</td>\n",
       "      <td>112150.000000</td>\n",
       "      <td>0.02</td>\n",
       "      <td>3.285238</td>\n",
       "      <td>0.681851</td>\n",
       "      <td>81.000000</td>\n",
       "      <td>Covaxin, Covishield</td>\n",
       "      <td>Ministry of Health</td>\n",
       "      <td>https://www.mohfw.gov.in/</td>\n",
       "      <td>IND</td>\n",
       "    </tr>\n",
       "    <tr>\n",
       "      <th>693</th>\n",
       "      <td>India</td>\n",
       "      <td>IND</td>\n",
       "      <td>2021-01-18</td>\n",
       "      <td>454049.0</td>\n",
       "      <td>747129.93943</td>\n",
       "      <td>165813.584135</td>\n",
       "      <td>229748.000000</td>\n",
       "      <td>151350.000000</td>\n",
       "      <td>0.03</td>\n",
       "      <td>3.285238</td>\n",
       "      <td>0.681851</td>\n",
       "      <td>110.000000</td>\n",
       "      <td>Covaxin, Covishield</td>\n",
       "      <td>Ministry of Health</td>\n",
       "      <td>https://www.mohfw.gov.in/</td>\n",
       "      <td>IND</td>\n",
       "    </tr>\n",
       "    <tr>\n",
       "      <th>694</th>\n",
       "      <td>India</td>\n",
       "      <td>IND</td>\n",
       "      <td>2021-01-19</td>\n",
       "      <td>674835.0</td>\n",
       "      <td>747129.93943</td>\n",
       "      <td>165813.584135</td>\n",
       "      <td>220786.000000</td>\n",
       "      <td>168709.000000</td>\n",
       "      <td>0.05</td>\n",
       "      <td>3.285238</td>\n",
       "      <td>0.681851</td>\n",
       "      <td>122.000000</td>\n",
       "      <td>Covaxin, Covishield</td>\n",
       "      <td>Ministry of Health</td>\n",
       "      <td>https://www.mohfw.gov.in/</td>\n",
       "      <td>IND</td>\n",
       "    </tr>\n",
       "    <tr>\n",
       "      <th>695</th>\n",
       "      <td>India</td>\n",
       "      <td>IND</td>\n",
       "      <td>2021-01-20</td>\n",
       "      <td>806484.0</td>\n",
       "      <td>747129.93943</td>\n",
       "      <td>165813.584135</td>\n",
       "      <td>131649.000000</td>\n",
       "      <td>161297.000000</td>\n",
       "      <td>0.06</td>\n",
       "      <td>3.285238</td>\n",
       "      <td>0.681851</td>\n",
       "      <td>117.000000</td>\n",
       "      <td>Covaxin, Covishield</td>\n",
       "      <td>Ministry of Health</td>\n",
       "      <td>https://www.mohfw.gov.in/</td>\n",
       "      <td>IND</td>\n",
       "    </tr>\n",
       "    <tr>\n",
       "      <th>696</th>\n",
       "      <td>India</td>\n",
       "      <td>IND</td>\n",
       "      <td>2021-01-21</td>\n",
       "      <td>1043534.0</td>\n",
       "      <td>747129.93943</td>\n",
       "      <td>165813.584135</td>\n",
       "      <td>237050.000000</td>\n",
       "      <td>173922.000000</td>\n",
       "      <td>0.08</td>\n",
       "      <td>3.285238</td>\n",
       "      <td>0.681851</td>\n",
       "      <td>126.000000</td>\n",
       "      <td>Covaxin, Covishield</td>\n",
       "      <td>Ministry of Health</td>\n",
       "      <td>https://www.mohfw.gov.in/</td>\n",
       "      <td>IND</td>\n",
       "    </tr>\n",
       "    <tr>\n",
       "      <th>697</th>\n",
       "      <td>India</td>\n",
       "      <td>IND</td>\n",
       "      <td>2021-01-22</td>\n",
       "      <td>1390592.0</td>\n",
       "      <td>747129.93943</td>\n",
       "      <td>165813.584135</td>\n",
       "      <td>347058.000000</td>\n",
       "      <td>198656.000000</td>\n",
       "      <td>0.10</td>\n",
       "      <td>3.285238</td>\n",
       "      <td>0.681851</td>\n",
       "      <td>144.000000</td>\n",
       "      <td>Covaxin, Covishield</td>\n",
       "      <td>Ministry of Health</td>\n",
       "      <td>https://www.mohfw.gov.in/</td>\n",
       "      <td>IND</td>\n",
       "    </tr>\n",
       "    <tr>\n",
       "      <th>698</th>\n",
       "      <td>India</td>\n",
       "      <td>IND</td>\n",
       "      <td>2021-01-23</td>\n",
       "      <td>1582201.0</td>\n",
       "      <td>747129.93943</td>\n",
       "      <td>165813.584135</td>\n",
       "      <td>191609.000000</td>\n",
       "      <td>198717.000000</td>\n",
       "      <td>0.11</td>\n",
       "      <td>3.285238</td>\n",
       "      <td>0.681851</td>\n",
       "      <td>144.000000</td>\n",
       "      <td>Covaxin, Covishield</td>\n",
       "      <td>Ministry of Health</td>\n",
       "      <td>https://www.mohfw.gov.in/</td>\n",
       "      <td>IND</td>\n",
       "    </tr>\n",
       "    <tr>\n",
       "      <th>699</th>\n",
       "      <td>India</td>\n",
       "      <td>IND</td>\n",
       "      <td>2021-01-24</td>\n",
       "      <td>1615504.0</td>\n",
       "      <td>747129.93943</td>\n",
       "      <td>165813.584135</td>\n",
       "      <td>33303.000000</td>\n",
       "      <td>198743.000000</td>\n",
       "      <td>0.12</td>\n",
       "      <td>3.285238</td>\n",
       "      <td>0.681851</td>\n",
       "      <td>144.000000</td>\n",
       "      <td>Covaxin, Covishield</td>\n",
       "      <td>Ministry of Health</td>\n",
       "      <td>https://www.mohfw.gov.in/</td>\n",
       "      <td>IND</td>\n",
       "    </tr>\n",
       "    <tr>\n",
       "      <th>700</th>\n",
       "      <td>India</td>\n",
       "      <td>IND</td>\n",
       "      <td>2021-01-25</td>\n",
       "      <td>2023809.0</td>\n",
       "      <td>747129.93943</td>\n",
       "      <td>165813.584135</td>\n",
       "      <td>408305.000000</td>\n",
       "      <td>224251.000000</td>\n",
       "      <td>0.15</td>\n",
       "      <td>3.285238</td>\n",
       "      <td>0.681851</td>\n",
       "      <td>163.000000</td>\n",
       "      <td>Covaxin, Covishield</td>\n",
       "      <td>Ministry of Health</td>\n",
       "      <td>https://www.mohfw.gov.in/</td>\n",
       "      <td>IND</td>\n",
       "    </tr>\n",
       "    <tr>\n",
       "      <th>701</th>\n",
       "      <td>India</td>\n",
       "      <td>IND</td>\n",
       "      <td>2021-01-26</td>\n",
       "      <td>2029480.0</td>\n",
       "      <td>747129.93943</td>\n",
       "      <td>165813.584135</td>\n",
       "      <td>5671.000000</td>\n",
       "      <td>193521.000000</td>\n",
       "      <td>0.15</td>\n",
       "      <td>3.285238</td>\n",
       "      <td>0.681851</td>\n",
       "      <td>140.000000</td>\n",
       "      <td>Covaxin, Covishield</td>\n",
       "      <td>Ministry of Health</td>\n",
       "      <td>https://www.mohfw.gov.in/</td>\n",
       "      <td>IND</td>\n",
       "    </tr>\n",
       "    <tr>\n",
       "      <th>702</th>\n",
       "      <td>India</td>\n",
       "      <td>IND</td>\n",
       "      <td>2021-01-27</td>\n",
       "      <td>2355979.0</td>\n",
       "      <td>747129.93943</td>\n",
       "      <td>165813.584135</td>\n",
       "      <td>326499.000000</td>\n",
       "      <td>221356.000000</td>\n",
       "      <td>0.17</td>\n",
       "      <td>3.285238</td>\n",
       "      <td>0.681851</td>\n",
       "      <td>160.000000</td>\n",
       "      <td>Covaxin, Covishield</td>\n",
       "      <td>Ministry of Health</td>\n",
       "      <td>https://www.mohfw.gov.in/</td>\n",
       "      <td>IND</td>\n",
       "    </tr>\n",
       "  </tbody>\n",
       "</table>\n",
       "</div>"
      ],
      "text/plain": [
       "    country iso_code        date  total_vaccinations  people_vaccinated  \\\n",
       "690   India      IND  2021-01-15                 0.0       747129.93943   \n",
       "691   India      IND  2021-01-16            191181.0       747129.93943   \n",
       "692   India      IND  2021-01-17            224301.0       747129.93943   \n",
       "693   India      IND  2021-01-18            454049.0       747129.93943   \n",
       "694   India      IND  2021-01-19            674835.0       747129.93943   \n",
       "695   India      IND  2021-01-20            806484.0       747129.93943   \n",
       "696   India      IND  2021-01-21           1043534.0       747129.93943   \n",
       "697   India      IND  2021-01-22           1390592.0       747129.93943   \n",
       "698   India      IND  2021-01-23           1582201.0       747129.93943   \n",
       "699   India      IND  2021-01-24           1615504.0       747129.93943   \n",
       "700   India      IND  2021-01-25           2023809.0       747129.93943   \n",
       "701   India      IND  2021-01-26           2029480.0       747129.93943   \n",
       "702   India      IND  2021-01-27           2355979.0       747129.93943   \n",
       "\n",
       "     people_fully_vaccinated  daily_vaccinations_raw  daily_vaccinations  \\\n",
       "690            165813.584135            53809.852974        47922.092269   \n",
       "691            165813.584135           191181.000000       191181.000000   \n",
       "692            165813.584135            33120.000000       112150.000000   \n",
       "693            165813.584135           229748.000000       151350.000000   \n",
       "694            165813.584135           220786.000000       168709.000000   \n",
       "695            165813.584135           131649.000000       161297.000000   \n",
       "696            165813.584135           237050.000000       173922.000000   \n",
       "697            165813.584135           347058.000000       198656.000000   \n",
       "698            165813.584135           191609.000000       198717.000000   \n",
       "699            165813.584135            33303.000000       198743.000000   \n",
       "700            165813.584135           408305.000000       224251.000000   \n",
       "701            165813.584135             5671.000000       193521.000000   \n",
       "702            165813.584135           326499.000000       221356.000000   \n",
       "\n",
       "     total_vaccinations_per_hundred  people_vaccinated_per_hundred  \\\n",
       "690                            0.00                       3.285238   \n",
       "691                            0.01                       3.285238   \n",
       "692                            0.02                       3.285238   \n",
       "693                            0.03                       3.285238   \n",
       "694                            0.05                       3.285238   \n",
       "695                            0.06                       3.285238   \n",
       "696                            0.08                       3.285238   \n",
       "697                            0.10                       3.285238   \n",
       "698                            0.11                       3.285238   \n",
       "699                            0.12                       3.285238   \n",
       "700                            0.15                       3.285238   \n",
       "701                            0.15                       3.285238   \n",
       "702                            0.17                       3.285238   \n",
       "\n",
       "     people_fully_vaccinated_per_hundred  daily_vaccinations_per_million  \\\n",
       "690                             0.681851                     1675.870948   \n",
       "691                             0.681851                      139.000000   \n",
       "692                             0.681851                       81.000000   \n",
       "693                             0.681851                      110.000000   \n",
       "694                             0.681851                      122.000000   \n",
       "695                             0.681851                      117.000000   \n",
       "696                             0.681851                      126.000000   \n",
       "697                             0.681851                      144.000000   \n",
       "698                             0.681851                      144.000000   \n",
       "699                             0.681851                      144.000000   \n",
       "700                             0.681851                      163.000000   \n",
       "701                             0.681851                      140.000000   \n",
       "702                             0.681851                      160.000000   \n",
       "\n",
       "                vaccines         source_name             source_website  \\\n",
       "690  Covaxin, Covishield  Ministry of Health  https://www.mohfw.gov.in/   \n",
       "691  Covaxin, Covishield  Ministry of Health  https://www.mohfw.gov.in/   \n",
       "692  Covaxin, Covishield  Ministry of Health  https://www.mohfw.gov.in/   \n",
       "693  Covaxin, Covishield  Ministry of Health  https://www.mohfw.gov.in/   \n",
       "694  Covaxin, Covishield  Ministry of Health  https://www.mohfw.gov.in/   \n",
       "695  Covaxin, Covishield  Ministry of Health  https://www.mohfw.gov.in/   \n",
       "696  Covaxin, Covishield  Ministry of Health  https://www.mohfw.gov.in/   \n",
       "697  Covaxin, Covishield  Ministry of Health  https://www.mohfw.gov.in/   \n",
       "698  Covaxin, Covishield  Ministry of Health  https://www.mohfw.gov.in/   \n",
       "699  Covaxin, Covishield  Ministry of Health  https://www.mohfw.gov.in/   \n",
       "700  Covaxin, Covishield  Ministry of Health  https://www.mohfw.gov.in/   \n",
       "701  Covaxin, Covishield  Ministry of Health  https://www.mohfw.gov.in/   \n",
       "702  Covaxin, Covishield  Ministry of Health  https://www.mohfw.gov.in/   \n",
       "\n",
       "    new_iso_code  \n",
       "690          IND  \n",
       "691          IND  \n",
       "692          IND  \n",
       "693          IND  \n",
       "694          IND  \n",
       "695          IND  \n",
       "696          IND  \n",
       "697          IND  \n",
       "698          IND  \n",
       "699          IND  \n",
       "700          IND  \n",
       "701          IND  \n",
       "702          IND  "
      ]
     },
     "execution_count": 10,
     "metadata": {},
     "output_type": "execute_result"
    }
   ],
   "source": [
    "# for this we need all the data regarding India from main data.\n",
    "IND = data[data['new_iso_code'] == 'IND']\n",
    "IND\n",
    "# now we have all the data from India in 'IND' dataframe."
   ]
  },
  {
   "cell_type": "markdown",
   "metadata": {},
   "source": [
    "### Here we are going to show the progress of India Vaccinations"
   ]
  },
  {
   "cell_type": "code",
   "execution_count": 11,
   "metadata": {},
   "outputs": [
    {
     "data": {
      "image/png": "[encoded data removed]",
      "text/plain": [
       "<Figure size 432x288 with 1 Axes>"
      ]
     },
     "metadata": {
      "needs_background": "light"
     },
     "output_type": "display_data"
    }
   ],
   "source": [
    "fig = plt.figure()\n",
    "ax = fig.add_axes([0,0,1,1])\n",
    "ax.bar(IND['date'],IND['total_vaccinations'], width = 0.6)\n",
    "plt.show()"
   ]
  },
  {
   "cell_type": "markdown",
   "metadata": {},
   "source": [
    "### We will use plotly module to show the progress of vaccination in comaprison with rest of World"
   ]
  },
  {
   "cell_type": "code",
   "execution_count": 14,
   "metadata": {},
   "outputs": [
    {
     "data": {
      "application/vnd.plotly.v1+json": {
       "config": {
        "plotlyServerURL": "https://plot.ly"
       },
       "data": [
        {
         "coloraxis": "coloraxis",
         "geo": "geo",
         "hovertemplate": "<b>%{hovertext}</b><br><br>date=2020-12-29<br>iso_code=%{location}<br>total_vaccinations=%{z}<extra></extra>",
         "hovertext": [
          "Argentina",
          "Bahrain",
          "Belgium",
          "Bulgaria",
          "Chile",
          "China",
          "Costa Rica",
          "Czechia",
          "Denmark",
          "England",
          "Estonia",
          "France",
          "Germany",
          "Greece",
          "Hungary",
          "Israel",
          "Italy",
          "Latvia",
          "Lithuania",
          "Malta",
          "Mexico",
          "Northern Ireland",
          "Norway",
          "Oman",
          "Poland",
          "Portugal",
          "Romania",
          "Russia",
          "Scotland",
          "Sweden",
          "Switzerland",
          "United Kingdom",
          "United States",
          "Wales"
         ],
         "locations": [
          "ARG",
          "BHR",
          "BEL",
          "BGR",
          "CHL",
          "CHN",
          "CRI",
          "CZE",
          "DNK",
          null,
          "EST",
          "FRA",
          "DEU",
          "GRC",
          "HUN",
          "ISR",
          "ITA",
          "LVA",
          "LTU",
          "MLT",
          "MEX",
          null,
          "NOR",
          "OMN",
          "POL",
          "PRT",
          "ROU",
          "RUS",
          null,
          "SWE",
          "CHE",
          "GBR",
          "USA",
          null
         ],
         "name": "",
         "type": "choropleth",
         "z": [
          700,
          56041,
          299,
          1719,
          751452.1692307693,
          751452.1692307693,
          751452.1692307693,
          6967,
          17732,
          751452.1692307693,
          516,
          118,
          87472,
          1056,
          2461,
          667169,
          8801,
          1472,
          8189,
          751452.1692307693,
          18529,
          751452.1692307693,
          1673,
          3363,
          6300,
          16701,
          2778,
          751452.1692307693,
          751452.1692307693,
          751452.1692307693,
          751452.1692307693,
          751452.1692307693,
          751452.1692307693,
          751452.1692307693
         ]
        }
       ],
       "frames": [
        {
         "data": [
          {
           "coloraxis": "coloraxis",
           "geo": "geo",
           "hovertemplate": "<b>%{hovertext}</b><br><br>date=2020-12-29<br>iso_code=%{location}<br>total_vaccinations=%{z}<extra></extra>",
           "hovertext": [
            "Argentina",
            "Bahrain",
            "Belgium",
            "Bulgaria",
            "Chile",
            "China",
            "Costa Rica",
            "Czechia",
            "Denmark",
            "England",
            "Estonia",
            "France",
            "Germany",
            "Greece",
            "Hungary",
            "Israel",
            "Italy",
            "Latvia",
            "Lithuania",
            "Malta",
            "Mexico",
            "Northern Ireland",
            "Norway",
            "Oman",
            "Poland",
            "Portugal",
            "Romania",
            "Russia",
            "Scotland",
            "Sweden",
            "Switzerland",
            "United Kingdom",
            "United States",
            "Wales"
           ],
           "locations": [
            "ARG",
            "BHR",
            "BEL",
            "BGR",
            "CHL",
            "CHN",
            "CRI",
            "CZE",
            "DNK",
            null,
            "EST",
            "FRA",
            "DEU",
            "GRC",
            "HUN",
            "ISR",
            "ITA",
            "LVA",
            "LTU",
            "MLT",
            "MEX",
            null,
            "NOR",
            "OMN",
            "POL",
            "PRT",
            "ROU",
            "RUS",
            null,
            "SWE",
            "CHE",
            "GBR",
            "USA",
            null
           ],
           "name": "",
           "type": "choropleth",
           "z": [
            700,
            56041,
            299,
            1719,
            751452.1692307693,
            751452.1692307693,
            751452.1692307693,
            6967,
            17732,
            751452.1692307693,
            516,
            118,
            87472,
            1056,
            2461,
            667169,
            8801,
            1472,
            8189,
            751452.1692307693,
            18529,
            751452.1692307693,
            1673,
            3363,
            6300,
            16701,
            2778,
            751452.1692307693,
            751452.1692307693,
            751452.1692307693,
            751452.1692307693,
            751452.1692307693,
            751452.1692307693,
            751452.1692307693
           ]
          }
         ],
         "name": "2020-12-29"
        },
        {
         "data": [
          {
           "coloraxis": "coloraxis",
           "geo": "geo",
           "hovertemplate": "<b>%{hovertext}</b><br><br>date=2020-12-30<br>iso_code=%{location}<br>total_vaccinations=%{z}<extra></extra>",
           "hovertext": [
            "Argentina",
            "Bahrain",
            "Belgium",
            "Bulgaria",
            "Chile",
            "China",
            "Costa Rica",
            "Croatia",
            "Czechia",
            "Denmark",
            "England",
            "Estonia",
            "France",
            "Germany",
            "Greece",
            "Hungary",
            "Iceland",
            "Israel",
            "Italy",
            "Latvia",
            "Lithuania",
            "Luxembourg",
            "Malta",
            "Mexico",
            "Northern Ireland",
            "Norway",
            "Oman",
            "Poland",
            "Portugal",
            "Romania",
            "Russia",
            "Scotland",
            "Sweden",
            "Switzerland",
            "United Kingdom",
            "United States",
            "Wales"
           ],
           "locations": [
            "ARG",
            "BHR",
            "BEL",
            "BGR",
            "CHL",
            "CHN",
            "CRI",
            "HRV",
            "CZE",
            "DNK",
            null,
            "EST",
            "FRA",
            "DEU",
            "GRC",
            "HUN",
            "ISL",
            "ISR",
            "ITA",
            "LVA",
            "LTU",
            "LUX",
            "MLT",
            "MEX",
            null,
            "NOR",
            "OMN",
            "POL",
            "PRT",
            "ROU",
            "RUS",
            null,
            "SWE",
            "CHE",
            "GBR",
            "USA",
            null
           ],
           "name": "",
           "type": "choropleth",
           "z": [
            751452.1692307693,
            57317,
            778,
            4608,
            751452.1692307693,
            751452.1692307693,
            751452.1692307693,
            7864,
            10422,
            29285,
            751452.1692307693,
            884,
            206,
            145416,
            1709,
            3789,
            4875,
            816661,
            13393,
            2260,
            9722,
            1200,
            751452.1692307693,
            24998,
            751452.1692307693,
            2095,
            5043,
            36300,
            26850,
            5666,
            751452.1692307693,
            751452.1692307693,
            751452.1692307693,
            751452.1692307693,
            751452.1692307693,
            2794588,
            751452.1692307693
           ]
          }
         ],
         "name": "2020-12-30"
        },
        {
         "data": [
          {
           "coloraxis": "coloraxis",
           "geo": "geo",
           "hovertemplate": "<b>%{hovertext}</b><br><br>date=2020-12-31<br>iso_code=%{location}<br>total_vaccinations=%{z}<extra></extra>",
           "hovertext": [
            "Argentina",
            "Bahrain",
            "Belgium",
            "Bulgaria",
            "Chile",
            "China",
            "Costa Rica",
            "Croatia",
            "Czechia",
            "Denmark",
            "England",
            "Estonia",
            "Finland",
            "France",
            "Germany",
            "Greece",
            "Hungary",
            "Iceland",
            "Ireland",
            "Israel",
            "Italy",
            "Latvia",
            "Lithuania",
            "Luxembourg",
            "Malta",
            "Mexico",
            "Northern Ireland",
            "Norway",
            "Oman",
            "Poland",
            "Portugal",
            "Romania",
            "Russia",
            "Scotland",
            "Sweden",
            "Switzerland",
            "United Kingdom",
            "United States",
            "Wales"
           ],
           "locations": [
            "ARG",
            "BHR",
            "BEL",
            "BGR",
            "CHL",
            "CHN",
            "CRI",
            "HRV",
            "CZE",
            "DNK",
            null,
            "EST",
            "FIN",
            "FRA",
            "DEU",
            "GRC",
            "HUN",
            "ISL",
            "IRL",
            "ISR",
            "ITA",
            "LVA",
            "LTU",
            "LUX",
            "MLT",
            "MEX",
            null,
            "NOR",
            "OMN",
            "POL",
            "PRT",
            "ROU",
            "RUS",
            null,
            "SWE",
            "CHE",
            "GBR",
            "USA",
            null
           ],
           "name": "",
           "type": "choropleth",
           "z": [
            32013,
            58643,
            787,
            751452.1692307693,
            751452.1692307693,
            4500000,
            751452.1692307693,
            751452.1692307693,
            11721,
            35612,
            751452.1692307693,
            1907,
            1767,
            281,
            183928,
            2313,
            5110,
            751452.1692307693,
            1800,
            971792,
            38458,
            751452.1692307693,
            9747,
            751452.1692307693,
            751452.1692307693,
            751452.1692307693,
            751452.1692307693,
            2167,
            6516,
            47600,
            751452.1692307693,
            10289,
            751452.1692307693,
            751452.1692307693,
            751452.1692307693,
            751452.1692307693,
            751452.1692307693,
            751452.1692307693,
            751452.1692307693
           ]
          }
         ],
         "name": "2020-12-31"
        },
        {
         "data": [
          {
           "coloraxis": "coloraxis",
           "geo": "geo",
           "hovertemplate": "<b>%{hovertext}</b><br><br>date=2021-01-01<br>iso_code=%{location}<br>total_vaccinations=%{z}<extra></extra>",
           "hovertext": [
            "Argentina",
            "Bahrain",
            "Belgium",
            "Bulgaria",
            "Chile",
            "China",
            "Costa Rica",
            "Croatia",
            "Czechia",
            "Denmark",
            "England",
            "Estonia",
            "Finland",
            "France",
            "Germany",
            "Greece",
            "Hungary",
            "Iceland",
            "Ireland",
            "Israel",
            "Italy",
            "Latvia",
            "Lithuania",
            "Luxembourg",
            "Malta",
            "Mexico",
            "Northern Ireland",
            "Norway",
            "Oman",
            "Poland",
            "Portugal",
            "Romania",
            "Russia",
            "Scotland",
            "Sweden",
            "Switzerland",
            "United Kingdom",
            "United States",
            "Wales"
           ],
           "locations": [
            "ARG",
            "BHR",
            "BEL",
            "BGR",
            "CHL",
            "CHN",
            "CRI",
            "HRV",
            "CZE",
            "DNK",
            null,
            "EST",
            "FIN",
            "FRA",
            "DEU",
            "GRC",
            "HUN",
            "ISL",
            "IRL",
            "ISR",
            "ITA",
            "LVA",
            "LTU",
            "LUX",
            "MLT",
            "MEX",
            null,
            "NOR",
            "OMN",
            "POL",
            "PRT",
            "ROU",
            "RUS",
            null,
            "SWE",
            "CHE",
            "GBR",
            "USA",
            null
           ],
           "name": "",
           "type": "choropleth",
           "z": [
            751452.1692307693,
            59351,
            751452.1692307693,
            4739,
            751452.1692307693,
            751452.1692307693,
            751452.1692307693,
            751452.1692307693,
            11982,
            37996,
            751452.1692307693,
            2487,
            751452.1692307693,
            290,
            208365,
            2591,
            751452.1692307693,
            751452.1692307693,
            751452.1692307693,
            1042159,
            49366,
            751452.1692307693,
            751452.1692307693,
            751452.1692307693,
            751452.1692307693,
            751452.1692307693,
            751452.1692307693,
            2173,
            751452.1692307693,
            751452.1692307693,
            751452.1692307693,
            11656,
            751452.1692307693,
            751452.1692307693,
            751452.1692307693,
            751452.1692307693,
            751452.1692307693,
            751452.1692307693,
            751452.1692307693
           ]
          }
         ],
         "name": "2021-01-01"
        },
        {
         "data": [
          {
           "coloraxis": "coloraxis",
           "geo": "geo",
           "hovertemplate": "<b>%{hovertext}</b><br><br>date=2021-01-02<br>iso_code=%{location}<br>total_vaccinations=%{z}<extra></extra>",
           "hovertext": [
            "Argentina",
            "Bahrain",
            "Belgium",
            "Bulgaria",
            "Canada",
            "Chile",
            "China",
            "Costa Rica",
            "Croatia",
            "Czechia",
            "Denmark",
            "England",
            "Estonia",
            "Finland",
            "France",
            "Germany",
            "Greece",
            "Hungary",
            "Iceland",
            "Ireland",
            "Israel",
            "Italy",
            "Latvia",
            "Lithuania",
            "Luxembourg",
            "Malta",
            "Mexico",
            "Northern Ireland",
            "Norway",
            "Oman",
            "Poland",
            "Portugal",
            "Romania",
            "Russia",
            "Scotland",
            "Sweden",
            "Switzerland",
            "United Kingdom",
            "United States",
            "Wales"
           ],
           "locations": [
            "ARG",
            "BHR",
            "BEL",
            "BGR",
            "CAN",
            "CHL",
            "CHN",
            "CRI",
            "HRV",
            "CZE",
            "DNK",
            null,
            "EST",
            "FIN",
            "FRA",
            "DEU",
            "GRC",
            "HUN",
            "ISL",
            "IRL",
            "ISR",
            "ITA",
            "LVA",
            "LTU",
            "LUX",
            "MLT",
            "MEX",
            null,
            "NOR",
            "OMN",
            "POL",
            "PRT",
            "ROU",
            "RUS",
            null,
            "SWE",
            "CHE",
            "GBR",
            "USA",
            null
           ],
           "name": "",
           "type": "choropleth",
           "z": [
            751452.1692307693,
            60097,
            751452.1692307693,
            751452.1692307693,
            751452.1692307693,
            751452.1692307693,
            751452.1692307693,
            751452.1692307693,
            751452.1692307693,
            13231,
            47020,
            751452.1692307693,
            751452.1692307693,
            751452.1692307693,
            332,
            259596,
            3132,
            751452.1692307693,
            751452.1692307693,
            751452.1692307693,
            1112917,
            87129,
            751452.1692307693,
            751452.1692307693,
            751452.1692307693,
            751452.1692307693,
            751452.1692307693,
            751452.1692307693,
            2173,
            7231,
            50391,
            751452.1692307693,
            13242,
            800000,
            751452.1692307693,
            751452.1692307693,
            751452.1692307693,
            751452.1692307693,
            4225756,
            751452.1692307693
           ]
          }
         ],
         "name": "2021-01-02"
        },
        {
         "data": [
          {
           "coloraxis": "coloraxis",
           "geo": "geo",
           "hovertemplate": "<b>%{hovertext}</b><br><br>date=2021-01-03<br>iso_code=%{location}<br>total_vaccinations=%{z}<extra></extra>",
           "hovertext": [
            "Argentina",
            "Bahrain",
            "Belgium",
            "Bulgaria",
            "Chile",
            "China",
            "Costa Rica",
            "Croatia",
            "Czechia",
            "Denmark",
            "England",
            "Estonia",
            "Finland",
            "France",
            "Germany",
            "Greece",
            "Hungary",
            "Iceland",
            "Ireland",
            "Israel",
            "Italy",
            "Latvia",
            "Lithuania",
            "Luxembourg",
            "Malta",
            "Mexico",
            "Northern Ireland",
            "Norway",
            "Oman",
            "Poland",
            "Portugal",
            "Romania",
            "Russia",
            "Scotland",
            "Slovenia",
            "Sweden",
            "Switzerland",
            "United Kingdom",
            "United States",
            "Wales"
           ],
           "locations": [
            "ARG",
            "BHR",
            "BEL",
            "BGR",
            "CHL",
            "CHN",
            "CRI",
            "HRV",
            "CZE",
            "DNK",
            null,
            "EST",
            "FIN",
            "FRA",
            "DEU",
            "GRC",
            "HUN",
            "ISL",
            "IRL",
            "ISR",
            "ITA",
            "LVA",
            "LTU",
            "LUX",
            "MLT",
            "MEX",
            null,
            "NOR",
            "OMN",
            "POL",
            "PRT",
            "ROU",
            "RUS",
            null,
            "SVN",
            "SWE",
            "CHE",
            "GBR",
            "USA",
            null
           ],
           "name": "",
           "type": "choropleth",
           "z": [
            751452.1692307693,
            60689,
            751452.1692307693,
            751452.1692307693,
            751452.1692307693,
            751452.1692307693,
            2455,
            12285,
            14139,
            53099,
            1182209,
            2517,
            751452.1692307693,
            406,
            284418,
            3843,
            12000,
            751452.1692307693,
            751452.1692307693,
            1258478,
            121936,
            751452.1692307693,
            751452.1692307693,
            751452.1692307693,
            751452.1692307693,
            751452.1692307693,
            41956,
            2173,
            8826,
            50833,
            32000,
            13596,
            751452.1692307693,
            115533,
            5934,
            5266,
            751452.1692307693,
            1389655,
            751452.1692307693,
            49957
           ]
          }
         ],
         "name": "2021-01-03"
        },
        {
         "data": [
          {
           "coloraxis": "coloraxis",
           "geo": "geo",
           "hovertemplate": "<b>%{hovertext}</b><br><br>date=2021-01-04<br>iso_code=%{location}<br>total_vaccinations=%{z}<extra></extra>",
           "hovertext": [
            "Argentina",
            "Bahrain",
            "Belgium",
            "Bulgaria",
            "Chile",
            "China",
            "Costa Rica",
            "Croatia",
            "Czechia",
            "Denmark",
            "England",
            "Estonia",
            "Finland",
            "France",
            "Germany",
            "Greece",
            "Hungary",
            "Iceland",
            "Ireland",
            "Israel",
            "Italy",
            "Latvia",
            "Lithuania",
            "Luxembourg",
            "Malta",
            "Mexico",
            "Northern Ireland",
            "Norway",
            "Oman",
            "Poland",
            "Portugal",
            "Romania",
            "Russia",
            "Scotland",
            "Slovakia",
            "Slovenia",
            "Spain",
            "Sweden",
            "Switzerland",
            "United Kingdom",
            "United States",
            "Wales"
           ],
           "locations": [
            "ARG",
            "BHR",
            "BEL",
            "BGR",
            "CHL",
            "CHN",
            "CRI",
            "HRV",
            "CZE",
            "DNK",
            null,
            "EST",
            "FIN",
            "FRA",
            "DEU",
            "GRC",
            "HUN",
            "ISL",
            "IRL",
            "ISR",
            "ITA",
            "LVA",
            "LTU",
            "LUX",
            "MLT",
            "MEX",
            null,
            "NOR",
            "OMN",
            "POL",
            "PRT",
            "ROU",
            "RUS",
            null,
            "SVK",
            "SVN",
            "ESP",
            "SWE",
            "CHE",
            "GBR",
            "USA",
            null
           ],
           "name": "",
           "type": "choropleth",
           "z": [
            39599,
            61612,
            788,
            751452.1692307693,
            9051,
            751452.1692307693,
            751452.1692307693,
            751452.1692307693,
            17691,
            55523,
            751452.1692307693,
            2535,
            3604,
            1750,
            333275,
            9975,
            15000,
            751452.1692307693,
            4000,
            1397781,
            189465,
            2959,
            751452.1692307693,
            751452.1692307693,
            1940,
            43960,
            751452.1692307693,
            2174,
            10728,
            92220,
            751452.1692307693,
            25508,
            751452.1692307693,
            751452.1692307693,
            0,
            7204,
            82834,
            751452.1692307693,
            751452.1692307693,
            751452.1692307693,
            4563260,
            751452.1692307693
           ]
          }
         ],
         "name": "2021-01-04"
        },
        {
         "data": [
          {
           "coloraxis": "coloraxis",
           "geo": "geo",
           "hovertemplate": "<b>%{hovertext}</b><br><br>date=2021-01-05<br>iso_code=%{location}<br>total_vaccinations=%{z}<extra></extra>",
           "hovertext": [
            "Argentina",
            "Bahrain",
            "Belgium",
            "Bulgaria",
            "Chile",
            "China",
            "Costa Rica",
            "Croatia",
            "Czechia",
            "Denmark",
            "England",
            "Estonia",
            "Finland",
            "France",
            "Germany",
            "Greece",
            "Hungary",
            "Iceland",
            "Ireland",
            "Israel",
            "Italy",
            "Latvia",
            "Lithuania",
            "Luxembourg",
            "Malta",
            "Mexico",
            "Northern Ireland",
            "Norway",
            "Oman",
            "Poland",
            "Portugal",
            "Romania",
            "Russia",
            "Scotland",
            "Slovakia",
            "Slovenia",
            "Spain",
            "Sweden",
            "Switzerland",
            "United Arab Emirates",
            "United Kingdom",
            "United States",
            "Wales"
           ],
           "locations": [
            "ARG",
            "BHR",
            "BEL",
            "BGR",
            "CHL",
            "CHN",
            "CRI",
            "HRV",
            "CZE",
            "DNK",
            null,
            "EST",
            "FIN",
            "FRA",
            "DEU",
            "GRC",
            "HUN",
            "ISL",
            "IRL",
            "ISR",
            "ITA",
            "LVA",
            "LTU",
            "LUX",
            "MLT",
            "MEX",
            null,
            "NOR",
            "OMN",
            "POL",
            "PRT",
            "ROU",
            "RUS",
            null,
            "SVK",
            "SVN",
            "ESP",
            "SWE",
            "CHE",
            "ARE",
            "GBR",
            "USA",
            null
           ],
           "name": "",
           "type": "choropleth",
           "z": [
            751452.1692307693,
            63893,
            2287,
            5448,
            10494,
            751452.1692307693,
            751452.1692307693,
            13798,
            22183,
            69082,
            751452.1692307693,
            3188,
            5445,
            6513,
            384847,
            16233,
            21000,
            751452.1692307693,
            751452.1692307693,
            1520432,
            267840,
            3847,
            10366,
            751452.1692307693,
            751452.1692307693,
            48236,
            751452.1692307693,
            5593,
            12751,
            140226,
            751452.1692307693,
            41609,
            751452.1692307693,
            751452.1692307693,
            425,
            8901,
            139339,
            751452.1692307693,
            751452.1692307693,
            826301,
            751452.1692307693,
            4836469,
            751452.1692307693
           ]
          }
         ],
         "name": "2021-01-05"
        },
        {
         "data": [
          {
           "coloraxis": "coloraxis",
           "geo": "geo",
           "hovertemplate": "<b>%{hovertext}</b><br><br>date=2021-01-06<br>iso_code=%{location}<br>total_vaccinations=%{z}<extra></extra>",
           "hovertext": [
            "Argentina",
            "Bahrain",
            "Belgium",
            "Bulgaria",
            "Chile",
            "China",
            "Costa Rica",
            "Croatia",
            "Cyprus",
            "Czechia",
            "Denmark",
            "England",
            "Estonia",
            "Finland",
            "France",
            "Germany",
            "Greece",
            "Hungary",
            "Iceland",
            "Ireland",
            "Israel",
            "Italy",
            "Latvia",
            "Lithuania",
            "Luxembourg",
            "Malta",
            "Mexico",
            "Netherlands",
            "Northern Ireland",
            "Norway",
            "Oman",
            "Poland",
            "Portugal",
            "Romania",
            "Russia",
            "Saudi Arabia",
            "Scotland",
            "Slovakia",
            "Slovenia",
            "Spain",
            "Sweden",
            "Switzerland",
            "United Arab Emirates",
            "United Kingdom",
            "United States",
            "Wales"
           ],
           "locations": [
            "ARG",
            "BHR",
            "BEL",
            "BGR",
            "CHL",
            "CHN",
            "CRI",
            "HRV",
            "CYP",
            "CZE",
            "DNK",
            null,
            "EST",
            "FIN",
            "FRA",
            "DEU",
            "GRC",
            "HUN",
            "ISL",
            "IRL",
            "ISR",
            "ITA",
            "LVA",
            "LTU",
            "LUX",
            "MLT",
            "MEX",
            "NLD",
            null,
            "NOR",
            "OMN",
            "POL",
            "PRT",
            "ROU",
            "RUS",
            "SAU",
            null,
            "SVK",
            "SVN",
            "ESP",
            "SWE",
            "CHE",
            "ARE",
            "GBR",
            "USA",
            null
           ],
           "name": "",
           "type": "choropleth",
           "z": [
            751452.1692307693,
            68472,
            6061,
            7913,
            10699,
            751452.1692307693,
            751452.1692307693,
            751452.1692307693,
            3901,
            27889,
            89060,
            751452.1692307693,
            5009,
            751452.1692307693,
            16511,
            441400,
            20466,
            31500,
            751452.1692307693,
            751452.1692307693,
            1620977,
            332257,
            4623,
            13865,
            751452.1692307693,
            751452.1692307693,
            53185,
            6000,
            751452.1692307693,
            14574,
            14005,
            160359,
            42035,
            58554,
            751452.1692307693,
            100000,
            751452.1692307693,
            6618,
            12265,
            751452.1692307693,
            751452.1692307693,
            751452.1692307693,
            751452.1692307693,
            751452.1692307693,
            5306797,
            751452.1692307693
           ]
          }
         ],
         "name": "2021-01-06"
        },
        {
         "data": [
          {
           "coloraxis": "coloraxis",
           "geo": "geo",
           "hovertemplate": "<b>%{hovertext}</b><br><br>date=2021-01-07<br>iso_code=%{location}<br>total_vaccinations=%{z}<extra></extra>",
           "hovertext": [
            "Argentina",
            "Bahrain",
            "Belgium",
            "Bulgaria",
            "Chile",
            "China",
            "Costa Rica",
            "Croatia",
            "Cyprus",
            "Czechia",
            "Denmark",
            "England",
            "Estonia",
            "Finland",
            "France",
            "Germany",
            "Greece",
            "Hungary",
            "Iceland",
            "Ireland",
            "Israel",
            "Italy",
            "Latvia",
            "Lithuania",
            "Luxembourg",
            "Malta",
            "Mexico",
            "Netherlands",
            "Northern Ireland",
            "Norway",
            "Oman",
            "Poland",
            "Portugal",
            "Romania",
            "Russia",
            "Saudi Arabia",
            "Scotland",
            "Slovakia",
            "Slovenia",
            "Spain",
            "Sweden",
            "Switzerland",
            "United Arab Emirates",
            "United Kingdom",
            "United States",
            "Wales"
           ],
           "locations": [
            "ARG",
            "BHR",
            "BEL",
            "BGR",
            "CHL",
            "CHN",
            "CRI",
            "HRV",
            "CYP",
            "CZE",
            "DNK",
            null,
            "EST",
            "FIN",
            "FRA",
            "DEU",
            "GRC",
            "HUN",
            "ISL",
            "IRL",
            "ISR",
            "ITA",
            "LVA",
            "LTU",
            "LUX",
            "MLT",
            "MEX",
            "NLD",
            null,
            "NOR",
            "OMN",
            "POL",
            "PRT",
            "ROU",
            "RUS",
            "SAU",
            null,
            "SVK",
            "SVN",
            "ESP",
            "SWE",
            "CHE",
            "ARE",
            "GBR",
            "USA",
            null
           ],
           "name": "",
           "type": "choropleth",
           "z": [
            751452.1692307693,
            72239,
            14089,
            11117,
            751452.1692307693,
            751452.1692307693,
            751452.1692307693,
            20603,
            751452.1692307693,
            35665,
            106679,
            751452.1692307693,
            6632,
            8155,
            41702,
            499449,
            26006,
            42549,
            751452.1692307693,
            15314,
            1734162,
            422525,
            5430,
            18007,
            751452.1692307693,
            751452.1692307693,
            58402,
            15000,
            751452.1692307693,
            21119,
            14911,
            188956,
            751452.1692307693,
            76400,
            751452.1692307693,
            137862,
            751452.1692307693,
            13631,
            16339,
            207323,
            751452.1692307693,
            751452.1692307693,
            887697,
            751452.1692307693,
            5919418,
            751452.1692307693
           ]
          }
         ],
         "name": "2021-01-07"
        },
        {
         "data": [
          {
           "coloraxis": "coloraxis",
           "geo": "geo",
           "hovertemplate": "<b>%{hovertext}</b><br><br>date=2021-01-08<br>iso_code=%{location}<br>total_vaccinations=%{z}<extra></extra>",
           "hovertext": [
            "Argentina",
            "Bahrain",
            "Belgium",
            "Bulgaria",
            "Chile",
            "China",
            "Costa Rica",
            "Croatia",
            "Cyprus",
            "Czechia",
            "Denmark",
            "England",
            "Estonia",
            "Finland",
            "France",
            "Germany",
            "Greece",
            "Hungary",
            "Iceland",
            "Ireland",
            "Israel",
            "Italy",
            "Latvia",
            "Lithuania",
            "Luxembourg",
            "Malta",
            "Mexico",
            "Netherlands",
            "Northern Ireland",
            "Norway",
            "Oman",
            "Poland",
            "Portugal",
            "Romania",
            "Russia",
            "Saudi Arabia",
            "Scotland",
            "Serbia",
            "Slovakia",
            "Slovenia",
            "Spain",
            "Sweden",
            "Switzerland",
            "United Arab Emirates",
            "United Kingdom",
            "United States",
            "Wales"
           ],
           "locations": [
            "ARG",
            "BHR",
            "BEL",
            "BGR",
            "CHL",
            "CHN",
            "CRI",
            "HRV",
            "CYP",
            "CZE",
            "DNK",
            null,
            "EST",
            "FIN",
            "FRA",
            "DEU",
            "GRC",
            "HUN",
            "ISL",
            "IRL",
            "ISR",
            "ITA",
            "LVA",
            "LTU",
            "LUX",
            "MLT",
            "MEX",
            "NLD",
            null,
            "NOR",
            "OMN",
            "POL",
            "PRT",
            "ROU",
            "RUS",
            "SAU",
            null,
            "SRB",
            "SVK",
            "SVN",
            "ESP",
            "SWE",
            "CHE",
            "ARE",
            "GBR",
            "USA",
            null
           ],
           "name": "",
           "type": "choropleth",
           "z": [
            107542,
            78291,
            23167,
            13355,
            751452.1692307693,
            751452.1692307693,
            9751,
            24985,
            751452.1692307693,
            45531,
            115236,
            751452.1692307693,
            7973,
            11135,
            72389,
            558740,
            34787,
            751452.1692307693,
            751452.1692307693,
            751452.1692307693,
            1799337,
            515934,
            6332,
            23150,
            751452.1692307693,
            751452.1692307693,
            67468,
            27000,
            751452.1692307693,
            22721,
            14980,
            198787,
            70000,
            92706,
            751452.1692307693,
            751452.1692307693,
            751452.1692307693,
            7000,
            20548,
            19523,
            277976,
            751452.1692307693,
            751452.1692307693,
            941556,
            751452.1692307693,
            6688231,
            751452.1692307693
           ]
          }
         ],
         "name": "2021-01-08"
        },
        {
         "data": [
          {
           "coloraxis": "coloraxis",
           "geo": "geo",
           "hovertemplate": "<b>%{hovertext}</b><br><br>date=2021-01-09<br>iso_code=%{location}<br>total_vaccinations=%{z}<extra></extra>",
           "hovertext": [
            "Argentina",
            "Bahrain",
            "Belgium",
            "Bulgaria",
            "Canada",
            "Chile",
            "China",
            "Costa Rica",
            "Croatia",
            "Cyprus",
            "Czechia",
            "Denmark",
            "England",
            "Estonia",
            "Finland",
            "France",
            "Germany",
            "Greece",
            "Hungary",
            "Iceland",
            "Ireland",
            "Israel",
            "Italy",
            "Latvia",
            "Lithuania",
            "Luxembourg",
            "Malta",
            "Mexico",
            "Netherlands",
            "Northern Ireland",
            "Norway",
            "Oman",
            "Poland",
            "Portugal",
            "Romania",
            "Russia",
            "Saudi Arabia",
            "Scotland",
            "Serbia",
            "Seychelles",
            "Slovakia",
            "Slovenia",
            "Spain",
            "Sweden",
            "Switzerland",
            "United Arab Emirates",
            "United Kingdom",
            "United States",
            "Wales"
           ],
           "locations": [
            "ARG",
            "BHR",
            "BEL",
            "BGR",
            "CAN",
            "CHL",
            "CHN",
            "CRI",
            "HRV",
            "CYP",
            "CZE",
            "DNK",
            null,
            "EST",
            "FIN",
            "FRA",
            "DEU",
            "GRC",
            "HUN",
            "ISL",
            "IRL",
            "ISR",
            "ITA",
            "LVA",
            "LTU",
            "LUX",
            "MLT",
            "MEX",
            "NLD",
            null,
            "NOR",
            "OMN",
            "POL",
            "PRT",
            "ROU",
            "RUS",
            "SAU",
            null,
            "SRB",
            "SYC",
            "SVK",
            "SVN",
            "ESP",
            "SWE",
            "CHE",
            "ARE",
            "GBR",
            "USA",
            null
           ],
           "name": "",
           "type": "choropleth",
           "z": [
            751452.1692307693,
            84157,
            26343,
            13473,
            751452.1692307693,
            751452.1692307693,
            9000000,
            751452.1692307693,
            30000,
            751452.1692307693,
            47503,
            117134,
            751452.1692307693,
            10197,
            751452.1692307693,
            82507,
            613305,
            40163,
            751452.1692307693,
            751452.1692307693,
            751452.1692307693,
            1843191,
            601000,
            6635,
            23454,
            751452.1692307693,
            751452.1692307693,
            74794,
            30000,
            751452.1692307693,
            22852,
            15023,
            200022,
            751452.1692307693,
            102301,
            751452.1692307693,
            751452.1692307693,
            751452.1692307693,
            751452.1692307693,
            0,
            22281,
            19930,
            751452.1692307693,
            751452.1692307693,
            751452.1692307693,
            1020349,
            751452.1692307693,
            751452.1692307693,
            751452.1692307693
           ]
          }
         ],
         "name": "2021-01-09"
        },
        {
         "data": [
          {
           "coloraxis": "coloraxis",
           "geo": "geo",
           "hovertemplate": "<b>%{hovertext}</b><br><br>date=2021-01-10<br>iso_code=%{location}<br>total_vaccinations=%{z}<extra></extra>",
           "hovertext": [
            "Argentina",
            "Bahrain",
            "Belgium",
            "Bermuda",
            "Bulgaria",
            "Chile",
            "China",
            "Costa Rica",
            "Croatia",
            "Cyprus",
            "Czechia",
            "Denmark",
            "England",
            "Estonia",
            "Finland",
            "France",
            "Germany",
            "Gibraltar",
            "Greece",
            "Hungary",
            "Iceland",
            "Ireland",
            "Israel",
            "Italy",
            "Latvia",
            "Lithuania",
            "Luxembourg",
            "Malta",
            "Mexico",
            "Netherlands",
            "Northern Ireland",
            "Norway",
            "Oman",
            "Poland",
            "Portugal",
            "Romania",
            "Russia",
            "Saudi Arabia",
            "Scotland",
            "Serbia",
            "Seychelles",
            "Slovakia",
            "Slovenia",
            "Spain",
            "Sweden",
            "Switzerland",
            "United Arab Emirates",
            "United Kingdom",
            "United States",
            "Wales"
           ],
           "locations": [
            "ARG",
            "BHR",
            "BEL",
            "BMU",
            "BGR",
            "CHL",
            "CHN",
            "CRI",
            "HRV",
            "CYP",
            "CZE",
            "DNK",
            null,
            "EST",
            "FIN",
            "FRA",
            "DEU",
            "GIB",
            "GRC",
            "HUN",
            "ISL",
            "IRL",
            "ISR",
            "ITA",
            "LVA",
            "LTU",
            "LUX",
            "MLT",
            "MEX",
            "NLD",
            null,
            "NOR",
            "OMN",
            "POL",
            "PRT",
            "ROU",
            "RUS",
            "SAU",
            null,
            "SRB",
            "SYC",
            "SVK",
            "SVN",
            "ESP",
            "SWE",
            "CHE",
            "ARE",
            "GBR",
            "USA",
            null
           ],
           "name": "",
           "type": "choropleth",
           "z": [
            751452.1692307693,
            89250,
            26736,
            0,
            751452.1692307693,
            751452.1692307693,
            751452.1692307693,
            751452.1692307693,
            751452.1692307693,
            6035,
            49193,
            117949,
            2333764,
            10749,
            751452.1692307693,
            87742,
            645984,
            420,
            44080,
            71000,
            751452.1692307693,
            40000,
            1885946,
            660463,
            6966,
            23457,
            751452.1692307693,
            751452.1692307693,
            81300,
            34000,
            91954,
            22958,
            15907,
            203053,
            751452.1692307693,
            108294,
            751452.1692307693,
            751452.1692307693,
            166135,
            9300,
            751452.1692307693,
            25326,
            20546,
            751452.1692307693,
            32953,
            751452.1692307693,
            1086568,
            2677971,
            751452.1692307693,
            86118
           ]
          }
         ],
         "name": "2021-01-10"
        },
        {
         "data": [
          {
           "coloraxis": "coloraxis",
           "geo": "geo",
           "hovertemplate": "<b>%{hovertext}</b><br><br>date=2021-01-11<br>iso_code=%{location}<br>total_vaccinations=%{z}<extra></extra>",
           "hovertext": [
            "Argentina",
            "Bahrain",
            "Belgium",
            "Bermuda",
            "Bulgaria",
            "Chile",
            "China",
            "Costa Rica",
            "Croatia",
            "Cyprus",
            "Czechia",
            "Denmark",
            "England",
            "Estonia",
            "Finland",
            "France",
            "Germany",
            "Gibraltar",
            "Greece",
            "Hungary",
            "Iceland",
            "Ireland",
            "Israel",
            "Italy",
            "Latvia",
            "Lithuania",
            "Luxembourg",
            "Malta",
            "Mexico",
            "Netherlands",
            "Northern Ireland",
            "Norway",
            "Oman",
            "Poland",
            "Portugal",
            "Romania",
            "Russia",
            "Saudi Arabia",
            "Scotland",
            "Serbia",
            "Seychelles",
            "Singapore",
            "Slovakia",
            "Slovenia",
            "Spain",
            "Sweden",
            "Switzerland",
            "United Arab Emirates",
            "United Kingdom",
            "United States",
            "Wales"
           ],
           "locations": [
            "ARG",
            "BHR",
            "BEL",
            "BMU",
            "BGR",
            "CHL",
            "CHN",
            "CRI",
            "HRV",
            "CYP",
            "CZE",
            "DNK",
            null,
            "EST",
            "FIN",
            "FRA",
            "DEU",
            "GIB",
            "GRC",
            "HUN",
            "ISL",
            "IRL",
            "ISR",
            "ITA",
            "LVA",
            "LTU",
            "LUX",
            "MLT",
            "MEX",
            "NLD",
            null,
            "NOR",
            "OMN",
            "POL",
            "PRT",
            "ROU",
            "RUS",
            "SAU",
            null,
            "SRB",
            "SYC",
            "SGP",
            "SVK",
            "SVN",
            "ESP",
            "SWE",
            "CHE",
            "ARE",
            "GBR",
            "USA",
            null
           ],
           "name": "",
           "type": "choropleth",
           "z": [
            751452.1692307693,
            92598,
            32161,
            751452.1692307693,
            14161,
            751452.1692307693,
            751452.1692307693,
            751452.1692307693,
            751452.1692307693,
            751452.1692307693,
            58711,
            118608,
            2474205,
            10972,
            14196,
            120213,
            711798,
            1445,
            49645,
            78579,
            751452.1692307693,
            751452.1692307693,
            1925259,
            739786,
            8328,
            25660,
            1943,
            4870,
            87060,
            35500,
            99475,
            23299,
            18287,
            257834,
            751452.1692307693,
            125190,
            751452.1692307693,
            178337,
            178799,
            751452.1692307693,
            751452.1692307693,
            3400,
            29221,
            22484,
            406091,
            751452.1692307693,
            751452.1692307693,
            1167251,
            2843815,
            8987322,
            91336
           ]
          }
         ],
         "name": "2021-01-11"
        },
        {
         "data": [
          {
           "coloraxis": "coloraxis",
           "geo": "geo",
           "hovertemplate": "<b>%{hovertext}</b><br><br>date=2021-01-12<br>iso_code=%{location}<br>total_vaccinations=%{z}<extra></extra>",
           "hovertext": [
            "Argentina",
            "Bahrain",
            "Belgium",
            "Bermuda",
            "Bulgaria",
            "Canada",
            "Chile",
            "China",
            "Costa Rica",
            "Croatia",
            "Cyprus",
            "Czechia",
            "Denmark",
            "England",
            "Estonia",
            "Finland",
            "France",
            "Germany",
            "Gibraltar",
            "Greece",
            "Hungary",
            "Iceland",
            "Indonesia",
            "Ireland",
            "Israel",
            "Italy",
            "Latvia",
            "Lithuania",
            "Luxembourg",
            "Malta",
            "Mexico",
            "Netherlands",
            "Northern Ireland",
            "Norway",
            "Oman",
            "Poland",
            "Portugal",
            "Romania",
            "Russia",
            "Saudi Arabia",
            "Scotland",
            "Serbia",
            "Seychelles",
            "Singapore",
            "Slovakia",
            "Slovenia",
            "Spain",
            "Sweden",
            "Switzerland",
            "United Arab Emirates",
            "United Kingdom",
            "United States",
            "Wales"
           ],
           "locations": [
            "ARG",
            "BHR",
            "BEL",
            "BMU",
            "BGR",
            "CAN",
            "CHL",
            "CHN",
            "CRI",
            "HRV",
            "CYP",
            "CZE",
            "DNK",
            null,
            "EST",
            "FIN",
            "FRA",
            "DEU",
            "GIB",
            "GRC",
            "HUN",
            "ISL",
            "IDN",
            "IRL",
            "ISR",
            "ITA",
            "LVA",
            "LTU",
            "LUX",
            "MLT",
            "MEX",
            "NLD",
            null,
            "NOR",
            "OMN",
            "POL",
            "PRT",
            "ROU",
            "RUS",
            "SAU",
            null,
            "SRB",
            "SYC",
            "SGP",
            "SVK",
            "SVN",
            "ESP",
            "SWE",
            "CHE",
            "ARE",
            "GBR",
            "USA",
            null
           ],
           "name": "",
           "type": "choropleth",
           "z": [
            751452.1692307693,
            97776,
            47356,
            751452.1692307693,
            15780,
            267078,
            751452.1692307693,
            751452.1692307693,
            751452.1692307693,
            751452.1692307693,
            751452.1692307693,
            71668,
            119068,
            2661850,
            11896,
            17617,
            171924,
            792593,
            2501,
            56199,
            86929,
            751452.1692307693,
            0,
            751452.1692307693,
            1983790,
            819352,
            9948,
            27741,
            2372,
            751452.1692307693,
            92879,
            45000,
            109257,
            27451,
            20649,
            309620,
            751452.1692307693,
            140447,
            751452.1692307693,
            751452.1692307693,
            194955,
            751452.1692307693,
            751452.1692307693,
            6200,
            39735,
            24462,
            488122,
            751452.1692307693,
            751452.1692307693,
            1275652,
            3067541,
            9327138,
            101479
           ]
          }
         ],
         "name": "2021-01-12"
        },
        {
         "data": [
          {
           "coloraxis": "coloraxis",
           "geo": "geo",
           "hovertemplate": "<b>%{hovertext}</b><br><br>date=2021-01-13<br>iso_code=%{location}<br>total_vaccinations=%{z}<extra></extra>",
           "hovertext": [
            "Argentina",
            "Bahrain",
            "Belgium",
            "Bermuda",
            "Bulgaria",
            "Canada",
            "Chile",
            "China",
            "Costa Rica",
            "Croatia",
            "Cyprus",
            "Czechia",
            "Denmark",
            "England",
            "Estonia",
            "Finland",
            "France",
            "Germany",
            "Gibraltar",
            "Greece",
            "Hungary",
            "Iceland",
            "Indonesia",
            "Ireland",
            "Israel",
            "Italy",
            "Latvia",
            "Lithuania",
            "Luxembourg",
            "Malta",
            "Mexico",
            "Netherlands",
            "Northern Ireland",
            "Norway",
            "Oman",
            "Poland",
            "Portugal",
            "Romania",
            "Russia",
            "Saudi Arabia",
            "Scotland",
            "Serbia",
            "Seychelles",
            "Singapore",
            "Slovakia",
            "Slovenia",
            "Spain",
            "Sweden",
            "Switzerland",
            "Turkey",
            "United Arab Emirates",
            "United Kingdom",
            "United States",
            "Wales"
           ],
           "locations": [
            "ARG",
            "BHR",
            "BEL",
            "BMU",
            "BGR",
            "CAN",
            "CHL",
            "CHN",
            "CRI",
            "HRV",
            "CYP",
            "CZE",
            "DNK",
            null,
            "EST",
            "FIN",
            "FRA",
            "DEU",
            "GIB",
            "GRC",
            "HUN",
            "ISL",
            "IDN",
            "IRL",
            "ISR",
            "ITA",
            "LVA",
            "LTU",
            "LUX",
            "MLT",
            "MEX",
            "NLD",
            null,
            "NOR",
            "OMN",
            "POL",
            "PRT",
            "ROU",
            "RUS",
            "SAU",
            null,
            "SRB",
            "SYC",
            "SGP",
            "SVK",
            "SVN",
            "ESP",
            "SWE",
            "CHE",
            "TUR",
            "ARE",
            "GBR",
            "USA",
            null
           ],
           "name": "",
           "type": "choropleth",
           "z": [
            166833,
            101363,
            67416,
            751452.1692307693,
            17038,
            288488,
            14612,
            10000000,
            751452.1692307693,
            34553,
            751452.1692307693,
            84950,
            131742,
            2910027,
            13481,
            23126,
            226955,
            887751,
            751452.1692307693,
            64619,
            96101,
            751452.1692307693,
            751452.1692307693,
            77303,
            2090379,
            910664,
            11454,
            33820,
            2871,
            751452.1692307693,
            192567,
            47000,
            121711,
            37034,
            22749,
            369212,
            751452.1692307693,
            154268,
            1000000,
            751452.1692307693,
            211397,
            751452.1692307693,
            2000,
            751452.1692307693,
            46243,
            29561,
            581638,
            751452.1692307693,
            751452.1692307693,
            0,
            1394580,
            3356229,
            10278462,
            113094
           ]
          }
         ],
         "name": "2021-01-13"
        },
        {
         "data": [
          {
           "coloraxis": "coloraxis",
           "geo": "geo",
           "hovertemplate": "<b>%{hovertext}</b><br><br>date=2021-01-14<br>iso_code=%{location}<br>total_vaccinations=%{z}<extra></extra>",
           "hovertext": [
            "Argentina",
            "Bahrain",
            "Belgium",
            "Bermuda",
            "Bulgaria",
            "Canada",
            "Chile",
            "China",
            "Costa Rica",
            "Croatia",
            "Cyprus",
            "Czechia",
            "Denmark",
            "England",
            "Estonia",
            "Finland",
            "France",
            "Germany",
            "Gibraltar",
            "Greece",
            "Hungary",
            "Iceland",
            "Indonesia",
            "Ireland",
            "Israel",
            "Italy",
            "Latvia",
            "Lithuania",
            "Luxembourg",
            "Malta",
            "Mexico",
            "Netherlands",
            "Northern Cyprus",
            "Northern Ireland",
            "Norway",
            "Oman",
            "Poland",
            "Portugal",
            "Romania",
            "Saudi Arabia",
            "Scotland",
            "Serbia",
            "Seychelles",
            "Singapore",
            "Slovakia",
            "Slovenia",
            "Spain",
            "Sweden",
            "Switzerland",
            "Turkey",
            "United Arab Emirates",
            "United Kingdom",
            "United States",
            "Wales"
           ],
           "locations": [
            "ARG",
            "BHR",
            "BEL",
            "BMU",
            "BGR",
            "CAN",
            "CHL",
            "CHN",
            "CRI",
            "HRV",
            "CYP",
            "CZE",
            "DNK",
            null,
            "EST",
            "FIN",
            "FRA",
            "DEU",
            "GIB",
            "GRC",
            "HUN",
            "ISL",
            "IDN",
            "IRL",
            "ISR",
            "ITA",
            "LVA",
            "LTU",
            "LUX",
            "MLT",
            "MEX",
            "NLD",
            null,
            null,
            "NOR",
            "OMN",
            "POL",
            "PRT",
            "ROU",
            "SAU",
            null,
            "SRB",
            "SYC",
            "SGP",
            "SVK",
            "SVN",
            "ESP",
            "SWE",
            "CHE",
            "TUR",
            "ARE",
            "GBR",
            "USA",
            null
           ],
           "name": "",
           "type": "choropleth",
           "z": [
            751452.1692307693,
            109566,
            88467,
            751452.1692307693,
            17686,
            310788,
            18526,
            751452.1692307693,
            751452.1692307693,
            38000,
            751452.1692307693,
            99571,
            149560,
            3189674,
            14879,
            33033,
            295661,
            987765,
            751452.1692307693,
            70695,
            105728,
            751452.1692307693,
            751452.1692307693,
            751452.1692307693,
            2213258,
            1000329,
            13271,
            42413,
            3233,
            751452.1692307693,
            329983,
            751452.1692307693,
            0,
            133831,
            45351,
            24204,
            410480,
            751452.1692307693,
            167612,
            751452.1692307693,
            228171,
            18136,
            751452.1692307693,
            751452.1692307693,
            53830,
            35159,
            676186,
            751452.1692307693,
            66000,
            279452,
            1527833,
            3678180,
            11148991,
            126504
           ]
          }
         ],
         "name": "2021-01-14"
        },
        {
         "data": [
          {
           "coloraxis": "coloraxis",
           "geo": "geo",
           "hovertemplate": "<b>%{hovertext}</b><br><br>date=2021-01-15<br>iso_code=%{location}<br>total_vaccinations=%{z}<extra></extra>",
           "hovertext": [
            "Argentina",
            "Bahrain",
            "Belgium",
            "Bermuda",
            "Bulgaria",
            "Canada",
            "Chile",
            "China",
            "Costa Rica",
            "Croatia",
            "Cyprus",
            "Czechia",
            "Denmark",
            "England",
            "Estonia",
            "Finland",
            "France",
            "Germany",
            "Gibraltar",
            "Greece",
            "Hungary",
            "Iceland",
            "India",
            "Indonesia",
            "Ireland",
            "Israel",
            "Italy",
            "Latvia",
            "Lithuania",
            "Luxembourg",
            "Malta",
            "Mexico",
            "Netherlands",
            "Northern Cyprus",
            "Northern Ireland",
            "Norway",
            "Oman",
            "Poland",
            "Portugal",
            "Romania",
            "Saudi Arabia",
            "Scotland",
            "Serbia",
            "Seychelles",
            "Singapore",
            "Slovakia",
            "Slovenia",
            "Spain",
            "Sweden",
            "Switzerland",
            "Turkey",
            "United Arab Emirates",
            "United Kingdom",
            "United States",
            "Wales"
           ],
           "locations": [
            "ARG",
            "BHR",
            "BEL",
            "BMU",
            "BGR",
            "CAN",
            "CHL",
            "CHN",
            "CRI",
            "HRV",
            "CYP",
            "CZE",
            "DNK",
            null,
            "EST",
            "FIN",
            "FRA",
            "DEU",
            "GIB",
            "GRC",
            "HUN",
            "ISL",
            "IND",
            "IDN",
            "IRL",
            "ISR",
            "ITA",
            "LVA",
            "LTU",
            "LUX",
            "MLT",
            "MEX",
            "NLD",
            null,
            null,
            "NOR",
            "OMN",
            "POL",
            "PRT",
            "ROU",
            "SAU",
            null,
            "SRB",
            "SYC",
            "SGP",
            "SVK",
            "SVN",
            "ESP",
            "SWE",
            "CHE",
            "TUR",
            "ARE",
            "GBR",
            "USA",
            null
           ],
           "name": "",
           "type": "choropleth",
           "z": [
            200759,
            122819,
            110211,
            751452.1692307693,
            18126,
            342227,
            21876,
            751452.1692307693,
            24859,
            41532,
            10226,
            112927,
            164693,
            3514385,
            16677,
            43143,
            352431,
            1079421,
            5135,
            75276,
            112847,
            751452.1692307693,
            0,
            751452.1692307693,
            751452.1692307693,
            2278746,
            1084630,
            15136,
            49615,
            751452.1692307693,
            9496,
            417375,
            55000,
            751452.1692307693,
            137380,
            49794,
            751452.1692307693,
            436963,
            106000,
            183669,
            751452.1692307693,
            751452.1692307693,
            751452.1692307693,
            4000,
            751452.1692307693,
            61372,
            40778,
            768950,
            751452.1692307693,
            751452.1692307693,
            616652,
            1665987,
            4006440,
            12279180,
            751452.1692307693
           ]
          }
         ],
         "name": "2021-01-15"
        },
        {
         "data": [
          {
           "coloraxis": "coloraxis",
           "geo": "geo",
           "hovertemplate": "<b>%{hovertext}</b><br><br>date=2021-01-16<br>iso_code=%{location}<br>total_vaccinations=%{z}<extra></extra>",
           "hovertext": [
            "Argentina",
            "Bahrain",
            "Belgium",
            "Bermuda",
            "Brazil",
            "Bulgaria",
            "Canada",
            "Chile",
            "China",
            "Costa Rica",
            "Croatia",
            "Cyprus",
            "Czechia",
            "Denmark",
            "England",
            "Estonia",
            "Finland",
            "France",
            "Germany",
            "Gibraltar",
            "Greece",
            "Hungary",
            "Iceland",
            "India",
            "Indonesia",
            "Ireland",
            "Israel",
            "Italy",
            "Latvia",
            "Lithuania",
            "Luxembourg",
            "Malta",
            "Mexico",
            "Netherlands",
            "Northern Cyprus",
            "Northern Ireland",
            "Norway",
            "Oman",
            "Poland",
            "Portugal",
            "Romania",
            "Saudi Arabia",
            "Scotland",
            "Serbia",
            "Seychelles",
            "Singapore",
            "Slovakia",
            "Slovenia",
            "Spain",
            "Sweden",
            "Switzerland",
            "Turkey",
            "United Arab Emirates",
            "United Kingdom",
            "United States",
            "Wales"
           ],
           "locations": [
            "ARG",
            "BHR",
            "BEL",
            "BMU",
            "BRA",
            "BGR",
            "CAN",
            "CHL",
            "CHN",
            "CRI",
            "HRV",
            "CYP",
            "CZE",
            "DNK",
            null,
            "EST",
            "FIN",
            "FRA",
            "DEU",
            "GIB",
            "GRC",
            "HUN",
            "ISL",
            "IND",
            "IDN",
            "IRL",
            "ISR",
            "ITA",
            "LVA",
            "LTU",
            "LUX",
            "MLT",
            "MEX",
            "NLD",
            null,
            null,
            "NOR",
            "OMN",
            "POL",
            "PRT",
            "ROU",
            "SAU",
            null,
            "SRB",
            "SYC",
            "SGP",
            "SVK",
            "SVN",
            "ESP",
            "SWE",
            "CHE",
            "TUR",
            "ARE",
            "GBR",
            "USA",
            null
           ],
           "name": "",
           "type": "choropleth",
           "z": [
            751452.1692307693,
            137159,
            115063,
            1665,
            0,
            18332,
            751452.1692307693,
            21937,
            751452.1692307693,
            751452.1692307693,
            45906,
            751452.1692307693,
            116221,
            169342,
            3791594,
            17959,
            751452.1692307693,
            369411,
            1135024,
            5847,
            79744,
            119944,
            751452.1692307693,
            191181,
            751452.1692307693,
            751452.1692307693,
            2333349,
            1145650,
            15799,
            50704,
            751452.1692307693,
            751452.1692307693,
            463246,
            751452.1692307693,
            751452.1692307693,
            140561,
            50505,
            24773,
            457303,
            751452.1692307693,
            196090,
            751452.1692307693,
            751452.1692307693,
            751452.1692307693,
            7000,
            751452.1692307693,
            62580,
            41439,
            751452.1692307693,
            751452.1692307693,
            751452.1692307693,
            676903,
            1797926,
            4286830,
            751452.1692307693,
            751452.1692307693
           ]
          }
         ],
         "name": "2021-01-16"
        },
        {
         "data": [
          {
           "coloraxis": "coloraxis",
           "geo": "geo",
           "hovertemplate": "<b>%{hovertext}</b><br><br>date=2021-01-17<br>iso_code=%{location}<br>total_vaccinations=%{z}<extra></extra>",
           "hovertext": [
            "Argentina",
            "Bahrain",
            "Belgium",
            "Bermuda",
            "Brazil",
            "Bulgaria",
            "Canada",
            "Chile",
            "China",
            "Costa Rica",
            "Croatia",
            "Cyprus",
            "Czechia",
            "Denmark",
            "England",
            "Estonia",
            "Finland",
            "France",
            "Germany",
            "Gibraltar",
            "Greece",
            "Hungary",
            "Iceland",
            "India",
            "Indonesia",
            "Ireland",
            "Israel",
            "Italy",
            "Latvia",
            "Lithuania",
            "Luxembourg",
            "Malta",
            "Mexico",
            "Netherlands",
            "Northern Cyprus",
            "Northern Ireland",
            "Norway",
            "Oman",
            "Poland",
            "Portugal",
            "Romania",
            "Saudi Arabia",
            "Scotland",
            "Serbia",
            "Seychelles",
            "Singapore",
            "Slovakia",
            "Slovenia",
            "Spain",
            "Sweden",
            "Switzerland",
            "Turkey",
            "United Arab Emirates",
            "United Kingdom",
            "United States",
            "Wales"
           ],
           "locations": [
            "ARG",
            "BHR",
            "BEL",
            "BMU",
            "BRA",
            "BGR",
            "CAN",
            "CHL",
            "CHN",
            "CRI",
            "HRV",
            "CYP",
            "CZE",
            "DNK",
            null,
            "EST",
            "FIN",
            "FRA",
            "DEU",
            "GIB",
            "GRC",
            "HUN",
            "ISL",
            "IND",
            "IDN",
            "IRL",
            "ISR",
            "ITA",
            "LVA",
            "LTU",
            "LUX",
            "MLT",
            "MEX",
            "NLD",
            null,
            null,
            "NOR",
            "OMN",
            "POL",
            "PRT",
            "ROU",
            "SAU",
            null,
            "SRB",
            "SYC",
            "SGP",
            "SVK",
            "SVN",
            "ESP",
            "SWE",
            "CHE",
            "TUR",
            "ARE",
            "GBR",
            "USA",
            null
           ],
           "name": "",
           "type": "choropleth",
           "z": [
            751452.1692307693,
            141563,
            117907,
            751452.1692307693,
            112,
            18453,
            751452.1692307693,
            21972,
            751452.1692307693,
            751452.1692307693,
            751452.1692307693,
            751452.1692307693,
            119258,
            172605,
            3947442,
            18179,
            751452.1692307693,
            378646,
            1180039,
            5847,
            751452.1692307693,
            123188,
            751452.1692307693,
            224301,
            751452.1692307693,
            94000,
            2483574,
            1181066,
            15916,
            51834,
            3755,
            11705,
            472142,
            77000,
            751452.1692307693,
            146733,
            50820,
            25446,
            469466,
            751452.1692307693,
            205060,
            295530,
            268689,
            751452.1692307693,
            751452.1692307693,
            751452.1692307693,
            62634,
            42035,
            751452.1692307693,
            97358,
            751452.1692307693,
            706451,
            1882778,
            4514802,
            751452.1692307693,
            151938
           ]
          }
         ],
         "name": "2021-01-17"
        },
        {
         "data": [
          {
           "coloraxis": "coloraxis",
           "geo": "geo",
           "hovertemplate": "<b>%{hovertext}</b><br><br>date=2021-01-18<br>iso_code=%{location}<br>total_vaccinations=%{z}<extra></extra>",
           "hovertext": [
            "Argentina",
            "Austria",
            "Bahrain",
            "Belgium",
            "Bermuda",
            "Brazil",
            "Bulgaria",
            "Canada",
            "Chile",
            "China",
            "Costa Rica",
            "Croatia",
            "Cyprus",
            "Czechia",
            "Denmark",
            "England",
            "Estonia",
            "Finland",
            "France",
            "Germany",
            "Gibraltar",
            "Greece",
            "Hungary",
            "Iceland",
            "India",
            "Indonesia",
            "Ireland",
            "Israel",
            "Italy",
            "Latvia",
            "Lithuania",
            "Luxembourg",
            "Malta",
            "Mexico",
            "Netherlands",
            "Northern Cyprus",
            "Northern Ireland",
            "Norway",
            "Oman",
            "Poland",
            "Portugal",
            "Romania",
            "Scotland",
            "Serbia",
            "Seychelles",
            "Singapore",
            "Slovakia",
            "Slovenia",
            "Spain",
            "Sweden",
            "Switzerland",
            "Turkey",
            "United Arab Emirates",
            "United Kingdom",
            "United States",
            "Wales"
           ],
           "locations": [
            "ARG",
            "AUT",
            "BHR",
            "BEL",
            "BMU",
            "BRA",
            "BGR",
            "CAN",
            "CHL",
            "CHN",
            "CRI",
            "HRV",
            "CYP",
            "CZE",
            "DNK",
            null,
            "EST",
            "FIN",
            "FRA",
            "DEU",
            "GIB",
            "GRC",
            "HUN",
            "ISL",
            "IND",
            "IDN",
            "IRL",
            "ISR",
            "ITA",
            "LVA",
            "LTU",
            "LUX",
            "MLT",
            "MEX",
            "NLD",
            null,
            null,
            "NOR",
            "OMN",
            "POL",
            "PRT",
            "ROU",
            null,
            "SRB",
            "SYC",
            "SGP",
            "SVK",
            "SVN",
            "ESP",
            "SWE",
            "CHE",
            "TUR",
            "ARE",
            "GBR",
            "USA",
            null
           ],
           "name": "",
           "type": "choropleth",
           "z": [
            751452.1692307693,
            61012,
            142831,
            127789,
            751452.1692307693,
            1109,
            19638,
            422864,
            32385,
            751452.1692307693,
            29389,
            751452.1692307693,
            751452.1692307693,
            132811,
            178635,
            4118342,
            18275,
            54568,
            453280,
            1251672,
            6435,
            85223,
            131332,
            751452.1692307693,
            454049,
            751452.1692307693,
            751452.1692307693,
            2669944,
            1221544,
            16759,
            56316,
            4569,
            13002,
            492529,
            751452.1692307693,
            751452.1692307693,
            154436,
            52328,
            26758,
            495164,
            751452.1692307693,
            235239,
            288468,
            751452.1692307693,
            751452.1692307693,
            751452.1692307693,
            71617,
            43081,
            897942,
            751452.1692307693,
            751452.1692307693,
            832412,
            1971521,
            4723443,
            751452.1692307693,
            162197
           ]
          }
         ],
         "name": "2021-01-18"
        },
        {
         "data": [
          {
           "coloraxis": "coloraxis",
           "geo": "geo",
           "hovertemplate": "<b>%{hovertext}</b><br><br>date=2021-01-19<br>iso_code=%{location}<br>total_vaccinations=%{z}<extra></extra>",
           "hovertext": [
            "Argentina",
            "Austria",
            "Bahrain",
            "Belgium",
            "Bermuda",
            "Brazil",
            "Bulgaria",
            "Canada",
            "Chile",
            "China",
            "Costa Rica",
            "Croatia",
            "Cyprus",
            "Czechia",
            "Denmark",
            "England",
            "Estonia",
            "Finland",
            "France",
            "Germany",
            "Gibraltar",
            "Greece",
            "Hungary",
            "Iceland",
            "India",
            "Indonesia",
            "Ireland",
            "Israel",
            "Italy",
            "Latvia",
            "Lithuania",
            "Luxembourg",
            "Malta",
            "Mexico",
            "Netherlands",
            "Northern Cyprus",
            "Northern Ireland",
            "Norway",
            "Oman",
            "Panama",
            "Poland",
            "Portugal",
            "Romania",
            "Scotland",
            "Serbia",
            "Seychelles",
            "Singapore",
            "Slovakia",
            "Slovenia",
            "Spain",
            "Sweden",
            "Switzerland",
            "Turkey",
            "United Arab Emirates",
            "United Kingdom",
            "United States",
            "Wales"
           ],
           "locations": [
            "ARG",
            "AUT",
            "BHR",
            "BEL",
            "BMU",
            "BRA",
            "BGR",
            "CAN",
            "CHL",
            "CHN",
            "CRI",
            "HRV",
            "CYP",
            "CZE",
            "DNK",
            null,
            "EST",
            "FIN",
            "FRA",
            "DEU",
            "GIB",
            "GRC",
            "HUN",
            "ISL",
            "IND",
            "IDN",
            "IRL",
            "ISR",
            "ITA",
            "LVA",
            "LTU",
            "LUX",
            "MLT",
            "MEX",
            "NLD",
            null,
            null,
            "NOR",
            "OMN",
            "PAN",
            "POL",
            "PRT",
            "ROU",
            null,
            "SRB",
            "SYC",
            "SGP",
            "SVK",
            "SVN",
            "ESP",
            "SWE",
            "CHE",
            "TUR",
            "ARE",
            "GBR",
            "USA",
            null
           ],
           "name": "",
           "type": "choropleth",
           "z": [
            751452.1692307693,
            71508,
            143596,
            145120,
            751452.1692307693,
            11470,
            22226,
            459780,
            50924,
            751452.1692307693,
            751452.1692307693,
            54304,
            751452.1692307693,
            147433,
            183251,
            4419704,
            19315,
            55824,
            568486,
            1339357,
            7017,
            93179,
            133257,
            751452.1692307693,
            674835,
            751452.1692307693,
            751452.1692307693,
            2876815,
            1252414,
            17635,
            62580,
            5294,
            14276,
            498122,
            751452.1692307693,
            4968,
            160396,
            57585,
            28049,
            0,
            541229,
            751452.1692307693,
            270046,
            314079,
            751452.1692307693,
            10976,
            751452.1692307693,
            78663,
            43869,
            966097,
            751452.1692307693,
            110000,
            950635,
            2065367,
            5070365,
            15707588,
            176186
           ]
          }
         ],
         "name": "2021-01-19"
        },
        {
         "data": [
          {
           "coloraxis": "coloraxis",
           "geo": "geo",
           "hovertemplate": "<b>%{hovertext}</b><br><br>date=2021-01-20<br>iso_code=%{location}<br>total_vaccinations=%{z}<extra></extra>",
           "hovertext": [
            "Argentina",
            "Austria",
            "Bahrain",
            "Belgium",
            "Bermuda",
            "Brazil",
            "Bulgaria",
            "Canada",
            "Chile",
            "China",
            "Costa Rica",
            "Croatia",
            "Cyprus",
            "Czechia",
            "Denmark",
            "England",
            "Estonia",
            "Finland",
            "France",
            "Germany",
            "Gibraltar",
            "Greece",
            "Hungary",
            "Iceland",
            "India",
            "Indonesia",
            "Ireland",
            "Israel",
            "Italy",
            "Latvia",
            "Lithuania",
            "Luxembourg",
            "Malta",
            "Mexico",
            "Netherlands",
            "Northern Cyprus",
            "Northern Ireland",
            "Norway",
            "Oman",
            "Panama",
            "Poland",
            "Portugal",
            "Romania",
            "Scotland",
            "Serbia",
            "Seychelles",
            "Singapore",
            "Slovakia",
            "Slovenia",
            "Spain",
            "Sweden",
            "Switzerland",
            "Turkey",
            "United Arab Emirates",
            "United Kingdom",
            "United States",
            "Wales"
           ],
           "locations": [
            "ARG",
            "AUT",
            "BHR",
            "BEL",
            "BMU",
            "BRA",
            "BGR",
            "CAN",
            "CHL",
            "CHN",
            "CRI",
            "HRV",
            "CYP",
            "CZE",
            "DNK",
            null,
            "EST",
            "FIN",
            "FRA",
            "DEU",
            "GIB",
            "GRC",
            "HUN",
            "ISL",
            "IND",
            "IDN",
            "IRL",
            "ISR",
            "ITA",
            "LVA",
            "LTU",
            "LUX",
            "MLT",
            "MEX",
            "NLD",
            null,
            null,
            "NOR",
            "OMN",
            "PAN",
            "POL",
            "PRT",
            "ROU",
            null,
            "SRB",
            "SYC",
            "SGP",
            "SVK",
            "SVN",
            "ESP",
            "SWE",
            "CHE",
            "TUR",
            "ARE",
            "GBR",
            "USA",
            null
           ],
           "name": "",
           "type": "choropleth",
           "z": [
            247933,
            88895,
            144130,
            163977,
            751452.1692307693,
            28543,
            24127,
            485739,
            54036,
            15000000,
            751452.1692307693,
            751452.1692307693,
            751452.1692307693,
            162482,
            186682,
            4740578,
            20478,
            62061,
            688901,
            1460126,
            7017,
            107335,
            138584,
            6205,
            806484,
            751452.1692307693,
            121900,
            3093060,
            1280659,
            18405,
            66011,
            6193,
            15316,
            501030,
            100000,
            751452.1692307693,
            166538,
            68025,
            29548,
            6,
            591785,
            751452.1692307693,
            308384,
            339337,
            44611,
            13163,
            751452.1692307693,
            85957,
            46467,
            1025937,
            751452.1692307693,
            751452.1692307693,
            1052493,
            2161150,
            5437284,
            16525281,
            190831
           ]
          }
         ],
         "name": "2021-01-20"
        },
        {
         "data": [
          {
           "coloraxis": "coloraxis",
           "geo": "geo",
           "hovertemplate": "<b>%{hovertext}</b><br><br>date=2021-01-21<br>iso_code=%{location}<br>total_vaccinations=%{z}<extra></extra>",
           "hovertext": [
            "Argentina",
            "Austria",
            "Belgium",
            "Bermuda",
            "Brazil",
            "Bulgaria",
            "Canada",
            "Chile",
            "China",
            "Costa Rica",
            "Croatia",
            "Cyprus",
            "Czechia",
            "Denmark",
            "Ecuador",
            "England",
            "Estonia",
            "Finland",
            "France",
            "Germany",
            "Gibraltar",
            "Greece",
            "Hungary",
            "Iceland",
            "India",
            "Indonesia",
            "Ireland",
            "Isle of Man",
            "Israel",
            "Italy",
            "Latvia",
            "Lithuania",
            "Luxembourg",
            "Malta",
            "Mexico",
            "Netherlands",
            "Northern Cyprus",
            "Northern Ireland",
            "Norway",
            "Oman",
            "Panama",
            "Poland",
            "Portugal",
            "Romania",
            "Scotland",
            "Serbia",
            "Seychelles",
            "Singapore",
            "Slovakia",
            "Slovenia",
            "Spain",
            "Sweden",
            "Switzerland",
            "Turkey",
            "United Arab Emirates",
            "United Kingdom",
            "United States",
            "Wales"
           ],
           "locations": [
            "ARG",
            "AUT",
            "BEL",
            "BMU",
            "BRA",
            "BGR",
            "CAN",
            "CHL",
            "CHN",
            "CRI",
            "HRV",
            "CYP",
            "CZE",
            "DNK",
            "ECU",
            null,
            "EST",
            "FIN",
            "FRA",
            "DEU",
            "GIB",
            "GRC",
            "HUN",
            "ISL",
            "IND",
            "IDN",
            "IRL",
            "IMN",
            "ISR",
            "ITA",
            "LVA",
            "LTU",
            "LUX",
            "MLT",
            "MEX",
            "NLD",
            null,
            null,
            "NOR",
            "OMN",
            "PAN",
            "POL",
            "PRT",
            "ROU",
            null,
            "SRB",
            "SYC",
            "SGP",
            "SVK",
            "SVN",
            "ESP",
            "SWE",
            "CHE",
            "TUR",
            "ARE",
            "GBR",
            "USA",
            null
           ],
           "name": "",
           "type": "choropleth",
           "z": [
            265724,
            108252,
            190568,
            751452.1692307693,
            136519,
            25251,
            706464,
            62822,
            751452.1692307693,
            751452.1692307693,
            751452.1692307693,
            751452.1692307693,
            178727,
            190557,
            0,
            5100475,
            21985,
            78300,
            826849,
            1552474,
            7947,
            123347,
            144798,
            751452.1692307693,
            1043534,
            751452.1692307693,
            751452.1692307693,
            3558,
            3322410,
            1314039,
            18684,
            67460,
            6897,
            16531,
            552335,
            751452.1692307693,
            751452.1692307693,
            173549,
            76345,
            751452.1692307693,
            2728,
            644999,
            751452.1692307693,
            348096,
            363143,
            84832,
            751452.1692307693,
            751452.1692307693,
            92828,
            52098,
            1103301,
            751452.1692307693,
            169783,
            1120258,
            2246069,
            5849899,
            17546374,
            212732
           ]
          }
         ],
         "name": "2021-01-21"
        },
        {
         "data": [
          {
           "coloraxis": "coloraxis",
           "geo": "geo",
           "hovertemplate": "<b>%{hovertext}</b><br><br>date=2021-01-22<br>iso_code=%{location}<br>total_vaccinations=%{z}<extra></extra>",
           "hovertext": [
            "Argentina",
            "Austria",
            "Belgium",
            "Bermuda",
            "Brazil",
            "Bulgaria",
            "Canada",
            "Chile",
            "China",
            "Costa Rica",
            "Croatia",
            "Cyprus",
            "Czechia",
            "Denmark",
            "Ecuador",
            "England",
            "Estonia",
            "Finland",
            "France",
            "Germany",
            "Gibraltar",
            "Greece",
            "Hungary",
            "Iceland",
            "India",
            "Indonesia",
            "Ireland",
            "Isle of Man",
            "Israel",
            "Italy",
            "Latvia",
            "Lithuania",
            "Luxembourg",
            "Malta",
            "Mexico",
            "Netherlands",
            "Northern Cyprus",
            "Northern Ireland",
            "Norway",
            "Oman",
            "Panama",
            "Poland",
            "Portugal",
            "Romania",
            "Scotland",
            "Serbia",
            "Seychelles",
            "Singapore",
            "Slovakia",
            "Slovenia",
            "Spain",
            "Sweden",
            "Switzerland",
            "Turkey",
            "United Arab Emirates",
            "United Kingdom",
            "United States",
            "Wales"
           ],
           "locations": [
            "ARG",
            "AUT",
            "BEL",
            "BMU",
            "BRA",
            "BGR",
            "CAN",
            "CHL",
            "CHN",
            "CRI",
            "HRV",
            "CYP",
            "CZE",
            "DNK",
            "ECU",
            null,
            "EST",
            "FIN",
            "FRA",
            "DEU",
            "GIB",
            "GRC",
            "HUN",
            "ISL",
            "IND",
            "IDN",
            "IRL",
            "IMN",
            "ISR",
            "ITA",
            "LVA",
            "LTU",
            "LUX",
            "MLT",
            "MEX",
            "NLD",
            null,
            null,
            "NOR",
            "OMN",
            "PAN",
            "POL",
            "PRT",
            "ROU",
            null,
            "SRB",
            "SYC",
            "SGP",
            "SVK",
            "SVN",
            "ESP",
            "SWE",
            "CHE",
            "TUR",
            "ARE",
            "GBR",
            "USA",
            null
           ],
           "name": "",
           "type": "choropleth",
           "z": [
            279602,
            124756,
            216058,
            751452.1692307693,
            245877,
            26101,
            752377,
            63047,
            751452.1692307693,
            751452.1692307693,
            64951,
            17379,
            193914,
            196928,
            108,
            5526071,
            24196,
            91260,
            933621,
            1664982,
            8877,
            140870,
            150128,
            751452.1692307693,
            1390592,
            132000,
            751452.1692307693,
            3648,
            3430335,
            1338948,
            18897,
            67747,
            751452.1692307693,
            17767,
            614808,
            135000,
            11000,
            177026,
            79556,
            751452.1692307693,
            5081,
            684277,
            212000,
            385936,
            385855,
            119711,
            16890,
            60000,
            96421,
            54839,
            1165825,
            751452.1692307693,
            751452.1692307693,
            1202212,
            2339078,
            6329968,
            19107959,
            241016
           ]
          }
         ],
         "name": "2021-01-22"
        },
        {
         "data": [
          {
           "coloraxis": "coloraxis",
           "geo": "geo",
           "hovertemplate": "<b>%{hovertext}</b><br><br>date=2021-01-23<br>iso_code=%{location}<br>total_vaccinations=%{z}<extra></extra>",
           "hovertext": [
            "Argentina",
            "Austria",
            "Belgium",
            "Bermuda",
            "Brazil",
            "Bulgaria",
            "Canada",
            "Chile",
            "China",
            "Costa Rica",
            "Croatia",
            "Czechia",
            "Denmark",
            "Ecuador",
            "England",
            "Estonia",
            "Finland",
            "France",
            "Germany",
            "Gibraltar",
            "Greece",
            "Hungary",
            "Iceland",
            "India",
            "Indonesia",
            "Ireland",
            "Isle of Man",
            "Israel",
            "Italy",
            "Latvia",
            "Lithuania",
            "Luxembourg",
            "Malta",
            "Mexico",
            "Netherlands",
            "Northern Ireland",
            "Norway",
            "Oman",
            "Panama",
            "Poland",
            "Portugal",
            "Romania",
            "Scotland",
            "Serbia",
            "Seychelles",
            "Singapore",
            "Slovakia",
            "Slovenia",
            "Spain",
            "Sweden",
            "Switzerland",
            "Turkey",
            "United Arab Emirates",
            "United Kingdom",
            "United States",
            "Wales"
           ],
           "locations": [
            "ARG",
            "AUT",
            "BEL",
            "BMU",
            "BRA",
            "BGR",
            "CAN",
            "CHL",
            "CHN",
            "CRI",
            "HRV",
            "CZE",
            "DNK",
            "ECU",
            null,
            "EST",
            "FIN",
            "FRA",
            "DEU",
            "GIB",
            "GRC",
            "HUN",
            "ISL",
            "IND",
            "IDN",
            "IRL",
            "IMN",
            "ISR",
            "ITA",
            "LVA",
            "LTU",
            "LUX",
            "MLT",
            "MEX",
            "NLD",
            null,
            "NOR",
            "OMN",
            "PAN",
            "POL",
            "PRT",
            "ROU",
            null,
            "SRB",
            "SYC",
            "SGP",
            "SVK",
            "SVN",
            "ESP",
            "SWE",
            "CHE",
            "TUR",
            "ARE",
            "GBR",
            "USA",
            null
           ],
           "name": "",
           "type": "choropleth",
           "z": [
            288064,
            136348,
            222997,
            2932,
            537774,
            26119,
            751452.1692307693,
            63939,
            751452.1692307693,
            751452.1692307693,
            751452.1692307693,
            197551,
            204774,
            751452.1692307693,
            5970175,
            25704,
            751452.1692307693,
            968647,
            1752828,
            9807,
            157388,
            153392,
            751452.1692307693,
            1582201,
            751452.1692307693,
            751452.1692307693,
            751452.1692307693,
            3523122,
            1376449,
            19022,
            67755,
            751452.1692307693,
            18930,
            618768,
            751452.1692307693,
            178331,
            79909,
            30675,
            5594,
            701164,
            232725,
            418885,
            409421,
            163355,
            18353,
            751452.1692307693,
            96697,
            55680,
            751452.1692307693,
            751452.1692307693,
            751452.1692307693,
            1226883,
            2426798,
            6822981,
            20537990,
            265054
           ]
          }
         ],
         "name": "2021-01-23"
        },
        {
         "data": [
          {
           "coloraxis": "coloraxis",
           "geo": "geo",
           "hovertemplate": "<b>%{hovertext}</b><br><br>date=2021-01-24<br>iso_code=%{location}<br>total_vaccinations=%{z}<extra></extra>",
           "hovertext": [
            "Argentina",
            "Austria",
            "Belgium",
            "Brazil",
            "Bulgaria",
            "Canada",
            "Chile",
            "China",
            "Costa Rica",
            "Croatia",
            "Czechia",
            "Denmark",
            "Ecuador",
            "England",
            "Estonia",
            "Finland",
            "France",
            "Germany",
            "Gibraltar",
            "Greece",
            "Hungary",
            "Iceland",
            "India",
            "Indonesia",
            "Ireland",
            "Isle of Man",
            "Israel",
            "Italy",
            "Latvia",
            "Lithuania",
            "Luxembourg",
            "Malta",
            "Mexico",
            "Netherlands",
            "Northern Ireland",
            "Norway",
            "Oman",
            "Panama",
            "Poland",
            "Portugal",
            "Romania",
            "Scotland",
            "Serbia",
            "Seychelles",
            "Singapore",
            "Slovakia",
            "Slovenia",
            "Spain",
            "Sweden",
            "Switzerland",
            "Turkey",
            "United Arab Emirates",
            "United Kingdom",
            "United States",
            "Wales"
           ],
           "locations": [
            "ARG",
            "AUT",
            "BEL",
            "BRA",
            "BGR",
            "CAN",
            "CHL",
            "CHN",
            "CRI",
            "HRV",
            "CZE",
            "DNK",
            "ECU",
            null,
            "EST",
            "FIN",
            "FRA",
            "DEU",
            "GIB",
            "GRC",
            "HUN",
            "ISL",
            "IND",
            "IDN",
            "IRL",
            "IMN",
            "ISR",
            "ITA",
            "LVA",
            "LTU",
            "LUX",
            "MLT",
            "MEX",
            "NLD",
            null,
            "NOR",
            "OMN",
            "PAN",
            "POL",
            "PRT",
            "ROU",
            null,
            "SRB",
            "SYC",
            "SGP",
            "SVK",
            "SVN",
            "ESP",
            "SWE",
            "CHE",
            "TUR",
            "ARE",
            "GBR",
            "USA",
            null
           ],
           "name": "",
           "type": "choropleth",
           "z": [
            292023,
            139538,
            224687,
            604722,
            26143,
            751452.1692307693,
            751452.1692307693,
            751452.1692307693,
            751452.1692307693,
            751452.1692307693,
            200087,
            211892,
            751452.1692307693,
            6169377,
            25964,
            751452.1692307693,
            977273,
            1818624,
            10341,
            751452.1692307693,
            156098,
            751452.1692307693,
            1615504,
            149242,
            143000,
            751452.1692307693,
            3729356,
            1409632,
            751452.1692307693,
            751452.1692307693,
            751452.1692307693,
            19981,
            629626,
            146612,
            182355,
            79968,
            32765,
            6420,
            707474,
            751452.1692307693,
            446285,
            420940,
            217800,
            751452.1692307693,
            751452.1692307693,
            96697,
            55978,
            751452.1692307693,
            190096,
            197368,
            1244653,
            2487789,
            7044048,
            21848655,
            271376
           ]
          }
         ],
         "name": "2021-01-24"
        },
        {
         "data": [
          {
           "coloraxis": "coloraxis",
           "geo": "geo",
           "hovertemplate": "<b>%{hovertext}</b><br><br>date=2021-01-25<br>iso_code=%{location}<br>total_vaccinations=%{z}<extra></extra>",
           "hovertext": [
            "Argentina",
            "Austria",
            "Belgium",
            "Brazil",
            "Bulgaria",
            "Canada",
            "Chile",
            "China",
            "Costa Rica",
            "Croatia",
            "Czechia",
            "Denmark",
            "Ecuador",
            "England",
            "Estonia",
            "Finland",
            "France",
            "Germany",
            "Gibraltar",
            "Greece",
            "Hungary",
            "Iceland",
            "India",
            "Indonesia",
            "Ireland",
            "Isle of Man",
            "Israel",
            "Italy",
            "Latvia",
            "Lithuania",
            "Luxembourg",
            "Malta",
            "Mexico",
            "Netherlands",
            "Northern Ireland",
            "Norway",
            "Oman",
            "Poland",
            "Portugal",
            "Romania",
            "Scotland",
            "Serbia",
            "Seychelles",
            "Singapore",
            "Slovakia",
            "Slovenia",
            "Spain",
            "Turkey",
            "United Arab Emirates",
            "United Kingdom",
            "United States",
            "Wales"
           ],
           "locations": [
            "ARG",
            "AUT",
            "BEL",
            "BRA",
            "BGR",
            "CAN",
            "CHL",
            "CHN",
            "CRI",
            "HRV",
            "CZE",
            "DNK",
            "ECU",
            null,
            "EST",
            "FIN",
            "FRA",
            "DEU",
            "GIB",
            "GRC",
            "HUN",
            "ISL",
            "IND",
            "IDN",
            "IRL",
            "IMN",
            "ISR",
            "ITA",
            "LVA",
            "LTU",
            "LUX",
            "MLT",
            "MEX",
            "NLD",
            null,
            "NOR",
            "OMN",
            "POL",
            "PRT",
            "ROU",
            null,
            "SRB",
            "SYC",
            "SGP",
            "SVK",
            "SVN",
            "ESP",
            "TUR",
            "ARE",
            "GBR",
            "USA",
            null
           ],
           "name": "",
           "type": "choropleth",
           "z": [
            292386,
            141350,
            233225,
            700608,
            26798,
            802354,
            64286,
            751452.1692307693,
            48128,
            69984,
            212090,
            214615,
            751452.1692307693,
            6405554,
            26126,
            110651,
            1047784,
            1913806,
            10539,
            177377,
            162315,
            15220,
            2023809,
            161959,
            751452.1692307693,
            4209,
            3946644,
            1476056,
            19689,
            67791,
            8554,
            21172,
            645105,
            163931,
            186112,
            80538,
            34606,
            776987,
            751452.1692307693,
            484631,
            443960,
            256521,
            19889,
            751452.1692307693,
            102683,
            57591,
            1237593,
            1302753,
            2571091,
            7325773,
            22734243,
            290147
           ]
          }
         ],
         "name": "2021-01-25"
        },
        {
         "data": [
          {
           "coloraxis": "coloraxis",
           "geo": "geo",
           "hovertemplate": "<b>%{hovertext}</b><br><br>date=2021-01-26<br>iso_code=%{location}<br>total_vaccinations=%{z}<extra></extra>",
           "hovertext": [
            "Argentina",
            "Austria",
            "Belgium",
            "Brazil",
            "Bulgaria",
            "Canada",
            "Chile",
            "China",
            "Czechia",
            "Denmark",
            "Ecuador",
            "England",
            "Estonia",
            "Finland",
            "France",
            "Germany",
            "Gibraltar",
            "Greece",
            "Hungary",
            "Iceland",
            "India",
            "Indonesia",
            "Ireland",
            "Isle of Man",
            "Israel",
            "Italy",
            "Latvia",
            "Lithuania",
            "Luxembourg",
            "Malta",
            "Mexico",
            "Myanmar",
            "Netherlands",
            "Northern Ireland",
            "Norway",
            "Oman",
            "Poland",
            "Portugal",
            "Romania",
            "Scotland",
            "Serbia",
            "Seychelles",
            "Singapore",
            "Slovakia",
            "Slovenia",
            "Spain",
            "Turkey",
            "United Arab Emirates",
            "United Kingdom",
            "United States",
            "Wales"
           ],
           "locations": [
            "ARG",
            "AUT",
            "BEL",
            "BRA",
            "BGR",
            "CAN",
            "CHL",
            "CHN",
            "CZE",
            "DNK",
            "ECU",
            null,
            "EST",
            "FIN",
            "FRA",
            "DEU",
            "GIB",
            "GRC",
            "HUN",
            "ISL",
            "IND",
            "IDN",
            "IRL",
            "IMN",
            "ISR",
            "ITA",
            "LVA",
            "LTU",
            "LUX",
            "MLT",
            "MEX",
            "MMR",
            "NLD",
            null,
            "NOR",
            "OMN",
            "POL",
            "PRT",
            "ROU",
            null,
            "SRB",
            "SYC",
            "SGP",
            "SVK",
            "SVN",
            "ESP",
            "TUR",
            "ARE",
            "GBR",
            "USA",
            null
           ],
           "name": "",
           "type": "choropleth",
           "z": [
            305880,
            150933,
            241101,
            848883,
            29122,
            827042,
            66569,
            751452.1692307693,
            225316,
            216589,
            751452.1692307693,
            6665861,
            27180,
            117007,
            1136906,
            2012130,
            11073,
            195783,
            170476,
            751452.1692307693,
            2029480,
            245685,
            751452.1692307693,
            4886,
            4146493,
            1553191,
            20537,
            70803,
            9525,
            22371,
            652319,
            0,
            173638,
            191050,
            83883,
            36206,
            905457,
            263499,
            528378,
            468688,
            319504,
            20650,
            751452.1692307693,
            109012,
            60979,
            1291216,
            1410273,
            2677680,
            7638543,
            23540994,
            312944
           ]
          }
         ],
         "name": "2021-01-26"
        },
        {
         "data": [
          {
           "coloraxis": "coloraxis",
           "geo": "geo",
           "hovertemplate": "<b>%{hovertext}</b><br><br>date=2021-01-27<br>iso_code=%{location}<br>total_vaccinations=%{z}<extra></extra>",
           "hovertext": [
            "Argentina",
            "Austria",
            "Belgium",
            "Brazil",
            "Bulgaria",
            "Canada",
            "Chile",
            "China",
            "Czechia",
            "Denmark",
            "Ecuador",
            "England",
            "Estonia",
            "Finland",
            "Germany",
            "Gibraltar",
            "Greece",
            "Hungary",
            "Iceland",
            "India",
            "Indonesia",
            "Ireland",
            "Isle of Man",
            "Israel",
            "Italy",
            "Latvia",
            "Lithuania",
            "Luxembourg",
            "Malta",
            "Mexico",
            "Myanmar",
            "Netherlands",
            "Northern Ireland",
            "Norway",
            "Oman",
            "Poland",
            "Portugal",
            "Romania",
            "Serbia",
            "Seychelles",
            "Singapore",
            "Slovakia",
            "Slovenia",
            "Spain",
            "Turkey",
            "United Arab Emirates",
            "United Kingdom",
            "United States",
            "Wales"
           ],
           "locations": [
            "ARG",
            "AUT",
            "BEL",
            "BRA",
            "BGR",
            "CAN",
            "CHL",
            "CHN",
            "CZE",
            "DNK",
            "ECU",
            null,
            "EST",
            "FIN",
            "DEU",
            "GIB",
            "GRC",
            "HUN",
            "ISL",
            "IND",
            "IDN",
            "IRL",
            "IMN",
            "ISR",
            "ITA",
            "LVA",
            "LTU",
            "LUX",
            "MLT",
            "MEX",
            "MMR",
            "NLD",
            null,
            "NOR",
            "OMN",
            "POL",
            "PRT",
            "ROU",
            "SRB",
            "SYC",
            "SGP",
            "SVK",
            "SVN",
            "ESP",
            "TUR",
            "ARE",
            "GBR",
            "USA",
            null
           ],
           "name": "",
           "type": "choropleth",
           "z": [
            318033,
            158985,
            246870,
            1129885,
            32917,
            890536,
            67096,
            22767000,
            236697,
            221067,
            751452.1692307693,
            6918853,
            29594,
            126910,
            2104317,
            11607,
            213735,
            187508,
            15522,
            2355979,
            308003,
            161500,
            5587,
            4346937,
            1620727,
            21355,
            76387,
            10449,
            23512,
            656044,
            3800,
            185356,
            199211,
            83883,
            37045,
            1008253,
            278413,
            570704,
            361830,
            25587,
            751452.1692307693,
            115399,
            64972,
            1356461,
            1522580,
            2764450,
            7923497,
            24652634,
            336745
           ]
          }
         ],
         "name": "2021-01-27"
        },
        {
         "data": [
          {
           "coloraxis": "coloraxis",
           "geo": "geo",
           "hovertemplate": "<b>%{hovertext}</b><br><br>date=2021-01-28<br>iso_code=%{location}<br>total_vaccinations=%{z}<extra></extra>",
           "hovertext": [
            "Argentina",
            "Austria",
            "Brazil",
            "Canada",
            "Ecuador",
            "Estonia",
            "Finland",
            "Greece",
            "Indonesia",
            "Isle of Man",
            "Israel",
            "Italy",
            "Netherlands",
            "Portugal",
            "Romania",
            "Singapore",
            "Turkey",
            "United Arab Emirates"
           ],
           "locations": [
            "ARG",
            "AUT",
            "BRA",
            "CAN",
            "ECU",
            "EST",
            "FIN",
            "GRC",
            "IDN",
            "IMN",
            "ISR",
            "ITA",
            "NLD",
            "PRT",
            "ROU",
            "SGP",
            "TUR",
            "ARE"
           ],
           "name": "",
           "type": "choropleth",
           "z": [
            327999,
            169439,
            1450900,
            903664,
            2982,
            31629,
            138323,
            232070,
            373786,
            6281,
            4347206,
            1653027,
            203450,
            296004,
            609396,
            113050,
            1697575,
            2868650
           ]
          }
         ],
         "name": "2021-01-28"
        },
        {
         "data": [
          {
           "coloraxis": "coloraxis",
           "geo": "geo",
           "hovertemplate": "<b>%{hovertext}</b><br><br>date=2020-12-23<br>iso_code=%{location}<br>total_vaccinations=%{z}<extra></extra>",
           "hovertext": [
            "Bahrain",
            "China",
            "England",
            "France",
            "Israel",
            "Northern Ireland",
            "Russia",
            "Scotland",
            "Switzerland",
            "United Kingdom",
            "United States",
            "Wales"
           ],
           "locations": [
            "BHR",
            "CHN",
            null,
            "FRA",
            "ISR",
            null,
            "RUS",
            null,
            "CHE",
            "GBR",
            "USA",
            null
           ],
           "name": "",
           "type": "choropleth",
           "z": [
            38965,
            751452.1692307693,
            751452.1692307693,
            3,
            137767,
            751452.1692307693,
            751452.1692307693,
            751452.1692307693,
            0,
            751452.1692307693,
            1008025,
            751452.1692307693
           ]
          }
         ],
         "name": "2020-12-23"
        },
        {
         "data": [
          {
           "coloraxis": "coloraxis",
           "geo": "geo",
           "hovertemplate": "<b>%{hovertext}</b><br><br>date=2020-12-24<br>iso_code=%{location}<br>total_vaccinations=%{z}<extra></extra>",
           "hovertext": [
            "Bahrain",
            "Chile",
            "China",
            "Costa Rica",
            "England",
            "France",
            "Israel",
            "Mexico",
            "Northern Ireland",
            "Russia",
            "Scotland",
            "Switzerland",
            "United Kingdom",
            "United States",
            "Wales"
           ],
           "locations": [
            "BHR",
            "CHL",
            "CHN",
            "CRI",
            null,
            "FRA",
            "ISR",
            "MEX",
            null,
            "RUS",
            null,
            "CHE",
            "GBR",
            "USA",
            null
           ],
           "name": "",
           "type": "choropleth",
           "z": [
            50071,
            420,
            751452.1692307693,
            55,
            751452.1692307693,
            751452.1692307693,
            209711,
            2924,
            751452.1692307693,
            751452.1692307693,
            751452.1692307693,
            751452.1692307693,
            751452.1692307693,
            751452.1692307693,
            751452.1692307693
           ]
          }
         ],
         "name": "2020-12-24"
        },
        {
         "data": [
          {
           "coloraxis": "coloraxis",
           "geo": "geo",
           "hovertemplate": "<b>%{hovertext}</b><br><br>date=2020-12-25<br>iso_code=%{location}<br>total_vaccinations=%{z}<extra></extra>",
           "hovertext": [
            "Bahrain",
            "Chile",
            "China",
            "Costa Rica",
            "England",
            "France",
            "Israel",
            "Mexico",
            "Northern Ireland",
            "Russia",
            "Scotland",
            "Switzerland",
            "United Kingdom",
            "United States",
            "Wales"
           ],
           "locations": [
            "BHR",
            "CHL",
            "CHN",
            "CRI",
            null,
            "FRA",
            "ISR",
            "MEX",
            null,
            "RUS",
            null,
            "CHE",
            "GBR",
            "USA",
            null
           ],
           "name": "",
           "type": "choropleth",
           "z": [
            50543,
            5191,
            751452.1692307693,
            751452.1692307693,
            751452.1692307693,
            751452.1692307693,
            247398,
            751452.1692307693,
            751452.1692307693,
            751452.1692307693,
            751452.1692307693,
            751452.1692307693,
            751452.1692307693,
            751452.1692307693,
            751452.1692307693
           ]
          }
         ],
         "name": "2020-12-25"
        },
        {
         "data": [
          {
           "coloraxis": "coloraxis",
           "geo": "geo",
           "hovertemplate": "<b>%{hovertext}</b><br><br>date=2020-12-26<br>iso_code=%{location}<br>total_vaccinations=%{z}<extra></extra>",
           "hovertext": [
            "Bahrain",
            "Canada",
            "Chile",
            "China",
            "Costa Rica",
            "England",
            "France",
            "Israel",
            "Mexico",
            "Northern Ireland",
            "Russia",
            "Scotland",
            "Switzerland",
            "United Kingdom",
            "United States",
            "Wales"
           ],
           "locations": [
            "BHR",
            "CAN",
            "CHL",
            "CHN",
            "CRI",
            null,
            "FRA",
            "ISR",
            "MEX",
            null,
            "RUS",
            null,
            "CHE",
            "GBR",
            "USA",
            null
           ],
           "name": "",
           "type": "choropleth",
           "z": [
            51556,
            751452.1692307693,
            8335,
            751452.1692307693,
            751452.1692307693,
            751452.1692307693,
            751452.1692307693,
            279370,
            751452.1692307693,
            751452.1692307693,
            751452.1692307693,
            751452.1692307693,
            751452.1692307693,
            751452.1692307693,
            1944585,
            751452.1692307693
           ]
          }
         ],
         "name": "2020-12-26"
        },
        {
         "data": [
          {
           "coloraxis": "coloraxis",
           "geo": "geo",
           "hovertemplate": "<b>%{hovertext}</b><br><br>date=2020-12-27<br>iso_code=%{location}<br>total_vaccinations=%{z}<extra></extra>",
           "hovertext": [
            "Bahrain",
            "Chile",
            "China",
            "Costa Rica",
            "Czechia",
            "Denmark",
            "England",
            "France",
            "Germany",
            "Israel",
            "Italy",
            "Lithuania",
            "Mexico",
            "Northern Ireland",
            "Norway",
            "Russia",
            "Scotland",
            "Sweden",
            "Switzerland",
            "United Kingdom",
            "United States",
            "Wales"
           ],
           "locations": [
            "BHR",
            "CHL",
            "CHN",
            "CRI",
            "CZE",
            "DNK",
            null,
            "FRA",
            "DEU",
            "ISR",
            "ITA",
            "LTU",
            "MEX",
            null,
            "NOR",
            "RUS",
            null,
            "SWE",
            "CHE",
            "GBR",
            "USA",
            null
           ],
           "name": "",
           "type": "choropleth",
           "z": [
            53614,
            8646,
            751452.1692307693,
            751452.1692307693,
            1251,
            6646,
            835475,
            16,
            24258,
            381931,
            6947,
            2418,
            6824,
            31016,
            5,
            751452.1692307693,
            94173,
            451,
            751452.1692307693,
            996616,
            751452.1692307693,
            35952
           ]
          }
         ],
         "name": "2020-12-27"
        },
        {
         "data": [
          {
           "coloraxis": "coloraxis",
           "geo": "geo",
           "hovertemplate": "<b>%{hovertext}</b><br><br>date=2020-12-28<br>iso_code=%{location}<br>total_vaccinations=%{z}<extra></extra>",
           "hovertext": [
            "Bahrain",
            "Belgium",
            "Chile",
            "China",
            "Costa Rica",
            "Czechia",
            "Denmark",
            "England",
            "Estonia",
            "France",
            "Germany",
            "Greece",
            "Hungary",
            "Israel",
            "Italy",
            "Kuwait",
            "Latvia",
            "Lithuania",
            "Malta",
            "Mexico",
            "Northern Ireland",
            "Norway",
            "Oman",
            "Poland",
            "Portugal",
            "Romania",
            "Russia",
            "Scotland",
            "Sweden",
            "Switzerland",
            "United Kingdom",
            "United States",
            "Wales"
           ],
           "locations": [
            "BHR",
            "BEL",
            "CHL",
            "CHN",
            "CRI",
            "CZE",
            "DNK",
            null,
            "EST",
            "FRA",
            "DEU",
            "GRC",
            "HUN",
            "ISR",
            "ITA",
            "KWT",
            "LVA",
            "LTU",
            "MLT",
            "MEX",
            null,
            "NOR",
            "OMN",
            "POL",
            "PRT",
            "ROU",
            "RUS",
            null,
            "SWE",
            "CHE",
            "GBR",
            "USA",
            null
           ],
           "name": "",
           "type": "choropleth",
           "z": [
            55014,
            298,
            751452.1692307693,
            751452.1692307693,
            751452.1692307693,
            3533,
            8641,
            751452.1692307693,
            207,
            54,
            44094,
            386,
            1094,
            513769,
            7895,
            2500,
            595,
            5203,
            130,
            9579,
            751452.1692307693,
            605,
            1717,
            2000,
            4828,
            2066,
            751452.1692307693,
            751452.1692307693,
            751452.1692307693,
            751452.1692307693,
            751452.1692307693,
            2127143,
            751452.1692307693
           ]
          }
         ],
         "name": "2020-12-28"
        },
        {
         "data": [
          {
           "coloraxis": "coloraxis",
           "geo": "geo",
           "hovertemplate": "<b>%{hovertext}</b><br><br>date=2020-12-19<br>iso_code=%{location}<br>total_vaccinations=%{z}<extra></extra>",
           "hovertext": [
            "Canada",
            "China",
            "France",
            "Israel",
            "Northern Ireland",
            "Russia",
            "Scotland",
            "Wales"
           ],
           "locations": [
            "CAN",
            "CHN",
            "FRA",
            "ISR",
            null,
            "RUS",
            null,
            null
           ],
           "name": "",
           "type": "choropleth",
           "z": [
            751452.1692307693,
            751452.1692307693,
            751452.1692307693,
            57,
            751452.1692307693,
            751452.1692307693,
            751452.1692307693,
            751452.1692307693
           ]
          }
         ],
         "name": "2020-12-19"
        },
        {
         "data": [
          {
           "coloraxis": "coloraxis",
           "geo": "geo",
           "hovertemplate": "<b>%{hovertext}</b><br><br>date=2020-12-15<br>iso_code=%{location}<br>total_vaccinations=%{z}<extra></extra>",
           "hovertext": [
            "China",
            "Northern Ireland",
            "Russia",
            "Scotland",
            "Wales"
           ],
           "locations": [
            "CHN",
            null,
            "RUS",
            null,
            null
           ],
           "name": "",
           "type": "choropleth",
           "z": [
            1500000,
            751452.1692307693,
            28500,
            751452.1692307693,
            751452.1692307693
           ]
          }
         ],
         "name": "2020-12-15"
        },
        {
         "data": [
          {
           "coloraxis": "coloraxis",
           "geo": "geo",
           "hovertemplate": "<b>%{hovertext}</b><br><br>date=2020-12-16<br>iso_code=%{location}<br>total_vaccinations=%{z}<extra></extra>",
           "hovertext": [
            "China",
            "Northern Ireland",
            "Russia",
            "Scotland",
            "Wales"
           ],
           "locations": [
            "CHN",
            null,
            "RUS",
            null,
            null
           ],
           "name": "",
           "type": "choropleth",
           "z": [
            751452.1692307693,
            751452.1692307693,
            751452.1692307693,
            751452.1692307693,
            751452.1692307693
           ]
          }
         ],
         "name": "2020-12-16"
        },
        {
         "data": [
          {
           "coloraxis": "coloraxis",
           "geo": "geo",
           "hovertemplate": "<b>%{hovertext}</b><br><br>date=2020-12-17<br>iso_code=%{location}<br>total_vaccinations=%{z}<extra></extra>",
           "hovertext": [
            "China",
            "Northern Ireland",
            "Russia",
            "Scotland",
            "Wales"
           ],
           "locations": [
            "CHN",
            null,
            "RUS",
            null,
            null
           ],
           "name": "",
           "type": "choropleth",
           "z": [
            751452.1692307693,
            751452.1692307693,
            751452.1692307693,
            751452.1692307693,
            751452.1692307693
           ]
          }
         ],
         "name": "2020-12-17"
        },
        {
         "data": [
          {
           "coloraxis": "coloraxis",
           "geo": "geo",
           "hovertemplate": "<b>%{hovertext}</b><br><br>date=2020-12-18<br>iso_code=%{location}<br>total_vaccinations=%{z}<extra></extra>",
           "hovertext": [
            "China",
            "France",
            "Northern Ireland",
            "Russia",
            "Scotland",
            "Wales"
           ],
           "locations": [
            "CHN",
            "FRA",
            null,
            "RUS",
            null,
            null
           ],
           "name": "",
           "type": "choropleth",
           "z": [
            751452.1692307693,
            2,
            751452.1692307693,
            751452.1692307693,
            751452.1692307693,
            751452.1692307693
           ]
          }
         ],
         "name": "2020-12-18"
        },
        {
         "data": [
          {
           "coloraxis": "coloraxis",
           "geo": "geo",
           "hovertemplate": "<b>%{hovertext}</b><br><br>date=2020-12-20<br>iso_code=%{location}<br>total_vaccinations=%{z}<extra></extra>",
           "hovertext": [
            "China",
            "England",
            "France",
            "Israel",
            "Northern Ireland",
            "Russia",
            "Scotland",
            "United Kingdom",
            "United States",
            "Wales"
           ],
           "locations": [
            "CHN",
            null,
            "FRA",
            "ISR",
            null,
            "RUS",
            null,
            "GBR",
            "USA",
            null
           ],
           "name": "",
           "type": "choropleth",
           "z": [
            751452.1692307693,
            570199,
            751452.1692307693,
            7359,
            16068,
            751452.1692307693,
            59832,
            669674,
            556208,
            23575
           ]
          }
         ],
         "name": "2020-12-20"
        },
        {
         "data": [
          {
           "coloraxis": "coloraxis",
           "geo": "geo",
           "hovertemplate": "<b>%{hovertext}</b><br><br>date=2020-12-21<br>iso_code=%{location}<br>total_vaccinations=%{z}<extra></extra>",
           "hovertext": [
            "China",
            "England",
            "France",
            "Israel",
            "Northern Ireland",
            "Russia",
            "Scotland",
            "United Kingdom",
            "United States",
            "Wales"
           ],
           "locations": [
            "CHN",
            null,
            "FRA",
            "ISR",
            null,
            "RUS",
            null,
            "GBR",
            "USA",
            null
           ],
           "name": "",
           "type": "choropleth",
           "z": [
            751452.1692307693,
            751452.1692307693,
            751452.1692307693,
            32087,
            751452.1692307693,
            751452.1692307693,
            751452.1692307693,
            751452.1692307693,
            614117,
            751452.1692307693
           ]
          }
         ],
         "name": "2020-12-21"
        },
        {
         "data": [
          {
           "coloraxis": "coloraxis",
           "geo": "geo",
           "hovertemplate": "<b>%{hovertext}</b><br><br>date=2020-12-22<br>iso_code=%{location}<br>total_vaccinations=%{z}<extra></extra>",
           "hovertext": [
            "China",
            "England",
            "France",
            "Israel",
            "Northern Ireland",
            "Russia",
            "Scotland",
            "United Kingdom",
            "United States",
            "Wales"
           ],
           "locations": [
            "CHN",
            null,
            "FRA",
            "ISR",
            null,
            "RUS",
            null,
            "GBR",
            "USA",
            null
           ],
           "name": "",
           "type": "choropleth",
           "z": [
            751452.1692307693,
            751452.1692307693,
            751452.1692307693,
            76254,
            751452.1692307693,
            52000,
            751452.1692307693,
            751452.1692307693,
            751452.1692307693,
            751452.1692307693
           ]
          }
         ],
         "name": "2020-12-22"
        },
        {
         "data": [
          {
           "coloraxis": "coloraxis",
           "geo": "geo",
           "hovertemplate": "<b>%{hovertext}</b><br><br>date=2020-12-13<br>iso_code=%{location}<br>total_vaccinations=%{z}<extra></extra>",
           "hovertext": [
            "Northern Ireland",
            "Scotland",
            "Wales"
           ],
           "locations": [
            null,
            null,
            null
           ],
           "name": "",
           "type": "choropleth",
           "z": [
            3623,
            18967,
            8181
           ]
          }
         ],
         "name": "2020-12-13"
        },
        {
         "data": [
          {
           "coloraxis": "coloraxis",
           "geo": "geo",
           "hovertemplate": "<b>%{hovertext}</b><br><br>date=2020-12-14<br>iso_code=%{location}<br>total_vaccinations=%{z}<extra></extra>",
           "hovertext": [
            "Northern Ireland",
            "Scotland",
            "Wales"
           ],
           "locations": [
            null,
            null,
            null
           ],
           "name": "",
           "type": "choropleth",
           "z": [
            751452.1692307693,
            751452.1692307693,
            751452.1692307693
           ]
          }
         ],
         "name": "2020-12-14"
        }
       ],
       "layout": {
        "coloraxis": {
         "cmax": 10000000,
         "cmin": 0,
         "colorbar": {
          "title": {
           "text": "total_vaccinations"
          }
         },
         "colorscale": [
          [
           0,
           "rgb(255,255,217)"
          ],
          [
           0.125,
           "rgb(237,248,177)"
          ],
          [
           0.25,
           "rgb(199,233,180)"
          ],
          [
           0.375,
           "rgb(127,205,187)"
          ],
          [
           0.5,
           "rgb(65,182,196)"
          ],
          [
           0.625,
           "rgb(29,145,192)"
          ],
          [
           0.75,
           "rgb(34,94,168)"
          ],
          [
           0.875,
           "rgb(37,52,148)"
          ],
          [
           1,
           "rgb(8,29,88)"
          ]
         ]
        },
        "geo": {
         "center": {},
         "domain": {
          "x": [
           0,
           1
          ],
          "y": [
           0,
           1
          ]
         },
         "projection": {
          "type": "natural earth"
         }
        },
        "legend": {
         "tracegroupgap": 0
        },
        "margin": {
         "t": 60
        },
        "sliders": [
         {
          "active": 0,
          "currentvalue": {
           "prefix": "date="
          },
          "len": 0.9,
          "pad": {
           "b": 10,
           "t": 60
          },
          "steps": [
           {
            "args": [
             [
              "2020-12-29"
             ],
             {
              "frame": {
               "duration": 0,
               "redraw": true
              },
              "fromcurrent": true,
              "mode": "immediate",
              "transition": {
               "duration": 0,
               "easing": "linear"
              }
             }
            ],
            "label": "2020-12-29",
            "method": "animate"
           },
           {
            "args": [
             [
              "2020-12-30"
             ],
             {
              "frame": {
               "duration": 0,
               "redraw": true
              },
              "fromcurrent": true,
              "mode": "immediate",
              "transition": {
               "duration": 0,
               "easing": "linear"
              }
             }
            ],
            "label": "2020-12-30",
            "method": "animate"
           },
           {
            "args": [
             [
              "2020-12-31"
             ],
             {
              "frame": {
               "duration": 0,
               "redraw": true
              },
              "fromcurrent": true,
              "mode": "immediate",
              "transition": {
               "duration": 0,
               "easing": "linear"
              }
             }
            ],
            "label": "2020-12-31",
            "method": "animate"
           },
           {
            "args": [
             [
              "2021-01-01"
             ],
             {
              "frame": {
               "duration": 0,
               "redraw": true
              },
              "fromcurrent": true,
              "mode": "immediate",
              "transition": {
               "duration": 0,
               "easing": "linear"
              }
             }
            ],
            "label": "2021-01-01",
            "method": "animate"
           },
           {
            "args": [
             [
              "2021-01-02"
             ],
             {
              "frame": {
               "duration": 0,
               "redraw": true
              },
              "fromcurrent": true,
              "mode": "immediate",
              "transition": {
               "duration": 0,
               "easing": "linear"
              }
             }
            ],
            "label": "2021-01-02",
            "method": "animate"
           },
           {
            "args": [
             [
              "2021-01-03"
             ],
             {
              "frame": {
               "duration": 0,
               "redraw": true
              },
              "fromcurrent": true,
              "mode": "immediate",
              "transition": {
               "duration": 0,
               "easing": "linear"
              }
             }
            ],
            "label": "2021-01-03",
            "method": "animate"
           },
           {
            "args": [
             [
              "2021-01-04"
             ],
             {
              "frame": {
               "duration": 0,
               "redraw": true
              },
              "fromcurrent": true,
              "mode": "immediate",
              "transition": {
               "duration": 0,
               "easing": "linear"
              }
             }
            ],
            "label": "2021-01-04",
            "method": "animate"
           },
           {
            "args": [
             [
              "2021-01-05"
             ],
             {
              "frame": {
               "duration": 0,
               "redraw": true
              },
              "fromcurrent": true,
              "mode": "immediate",
              "transition": {
               "duration": 0,
               "easing": "linear"
              }
             }
            ],
            "label": "2021-01-05",
            "method": "animate"
           },
           {
            "args": [
             [
              "2021-01-06"
             ],
             {
              "frame": {
               "duration": 0,
               "redraw": true
              },
              "fromcurrent": true,
              "mode": "immediate",
              "transition": {
               "duration": 0,
               "easing": "linear"
              }
             }
            ],
            "label": "2021-01-06",
            "method": "animate"
           },
           {
            "args": [
             [
              "2021-01-07"
             ],
             {
              "frame": {
               "duration": 0,
               "redraw": true
              },
              "fromcurrent": true,
              "mode": "immediate",
              "transition": {
               "duration": 0,
               "easing": "linear"
              }
             }
            ],
            "label": "2021-01-07",
            "method": "animate"
           },
           {
            "args": [
             [
              "2021-01-08"
             ],
             {
              "frame": {
               "duration": 0,
               "redraw": true
              },
              "fromcurrent": true,
              "mode": "immediate",
              "transition": {
               "duration": 0,
               "easing": "linear"
              }
             }
            ],
            "label": "2021-01-08",
            "method": "animate"
           },
           {
            "args": [
             [
              "2021-01-09"
             ],
             {
              "frame": {
               "duration": 0,
               "redraw": true
              },
              "fromcurrent": true,
              "mode": "immediate",
              "transition": {
               "duration": 0,
               "easing": "linear"
              }
             }
            ],
            "label": "2021-01-09",
            "method": "animate"
           },
           {
            "args": [
             [
              "2021-01-10"
             ],
             {
              "frame": {
               "duration": 0,
               "redraw": true
              },
              "fromcurrent": true,
              "mode": "immediate",
              "transition": {
               "duration": 0,
               "easing": "linear"
              }
             }
            ],
            "label": "2021-01-10",
            "method": "animate"
           },
           {
            "args": [
             [
              "2021-01-11"
             ],
             {
              "frame": {
               "duration": 0,
               "redraw": true
              },
              "fromcurrent": true,
              "mode": "immediate",
              "transition": {
               "duration": 0,
               "easing": "linear"
              }
             }
            ],
            "label": "2021-01-11",
            "method": "animate"
           },
           {
            "args": [
             [
              "2021-01-12"
             ],
             {
              "frame": {
               "duration": 0,
               "redraw": true
              },
              "fromcurrent": true,
              "mode": "immediate",
              "transition": {
               "duration": 0,
               "easing": "linear"
              }
             }
            ],
            "label": "2021-01-12",
            "method": "animate"
           },
           {
            "args": [
             [
              "2021-01-13"
             ],
             {
              "frame": {
               "duration": 0,
               "redraw": true
              },
              "fromcurrent": true,
              "mode": "immediate",
              "transition": {
               "duration": 0,
               "easing": "linear"
              }
             }
            ],
            "label": "2021-01-13",
            "method": "animate"
           },
           {
            "args": [
             [
              "2021-01-14"
             ],
             {
              "frame": {
               "duration": 0,
               "redraw": true
              },
              "fromcurrent": true,
              "mode": "immediate",
              "transition": {
               "duration": 0,
               "easing": "linear"
              }
             }
            ],
            "label": "2021-01-14",
            "method": "animate"
           },
           {
            "args": [
             [
              "2021-01-15"
             ],
             {
              "frame": {
               "duration": 0,
               "redraw": true
              },
              "fromcurrent": true,
              "mode": "immediate",
              "transition": {
               "duration": 0,
               "easing": "linear"
              }
             }
            ],
            "label": "2021-01-15",
            "method": "animate"
           },
           {
            "args": [
             [
              "2021-01-16"
             ],
             {
              "frame": {
               "duration": 0,
               "redraw": true
              },
              "fromcurrent": true,
              "mode": "immediate",
              "transition": {
               "duration": 0,
               "easing": "linear"
              }
             }
            ],
            "label": "2021-01-16",
            "method": "animate"
           },
           {
            "args": [
             [
              "2021-01-17"
             ],
             {
              "frame": {
               "duration": 0,
               "redraw": true
              },
              "fromcurrent": true,
              "mode": "immediate",
              "transition": {
               "duration": 0,
               "easing": "linear"
              }
             }
            ],
            "label": "2021-01-17",
            "method": "animate"
           },
           {
            "args": [
             [
              "2021-01-18"
             ],
             {
              "frame": {
               "duration": 0,
               "redraw": true
              },
              "fromcurrent": true,
              "mode": "immediate",
              "transition": {
               "duration": 0,
               "easing": "linear"
              }
             }
            ],
            "label": "2021-01-18",
            "method": "animate"
           },
           {
            "args": [
             [
              "2021-01-19"
             ],
             {
              "frame": {
               "duration": 0,
               "redraw": true
              },
              "fromcurrent": true,
              "mode": "immediate",
              "transition": {
               "duration": 0,
               "easing": "linear"
              }
             }
            ],
            "label": "2021-01-19",
            "method": "animate"
           },
           {
            "args": [
             [
              "2021-01-20"
             ],
             {
              "frame": {
               "duration": 0,
               "redraw": true
              },
              "fromcurrent": true,
              "mode": "immediate",
              "transition": {
               "duration": 0,
               "easing": "linear"
              }
             }
            ],
            "label": "2021-01-20",
            "method": "animate"
           },
           {
            "args": [
             [
              "2021-01-21"
             ],
             {
              "frame": {
               "duration": 0,
               "redraw": true
              },
              "fromcurrent": true,
              "mode": "immediate",
              "transition": {
               "duration": 0,
               "easing": "linear"
              }
             }
            ],
            "label": "2021-01-21",
            "method": "animate"
           },
           {
            "args": [
             [
              "2021-01-22"
             ],
             {
              "frame": {
               "duration": 0,
               "redraw": true
              },
              "fromcurrent": true,
              "mode": "immediate",
              "transition": {
               "duration": 0,
               "easing": "linear"
              }
             }
            ],
            "label": "2021-01-22",
            "method": "animate"
           },
           {
            "args": [
             [
              "2021-01-23"
             ],
             {
              "frame": {
               "duration": 0,
               "redraw": true
              },
              "fromcurrent": true,
              "mode": "immediate",
              "transition": {
               "duration": 0,
               "easing": "linear"
              }
             }
            ],
            "label": "2021-01-23",
            "method": "animate"
           },
           {
            "args": [
             [
              "2021-01-24"
             ],
             {
              "frame": {
               "duration": 0,
               "redraw": true
              },
              "fromcurrent": true,
              "mode": "immediate",
              "transition": {
               "duration": 0,
               "easing": "linear"
              }
             }
            ],
            "label": "2021-01-24",
            "method": "animate"
           },
           {
            "args": [
             [
              "2021-01-25"
             ],
             {
              "frame": {
               "duration": 0,
               "redraw": true
              },
              "fromcurrent": true,
              "mode": "immediate",
              "transition": {
               "duration": 0,
               "easing": "linear"
              }
             }
            ],
            "label": "2021-01-25",
            "method": "animate"
           },
           {
            "args": [
             [
              "2021-01-26"
             ],
             {
              "frame": {
               "duration": 0,
               "redraw": true
              },
              "fromcurrent": true,
              "mode": "immediate",
              "transition": {
               "duration": 0,
               "easing": "linear"
              }
             }
            ],
            "label": "2021-01-26",
            "method": "animate"
           },
           {
            "args": [
             [
              "2021-01-27"
             ],
             {
              "frame": {
               "duration": 0,
               "redraw": true
              },
              "fromcurrent": true,
              "mode": "immediate",
              "transition": {
               "duration": 0,
               "easing": "linear"
              }
             }
            ],
            "label": "2021-01-27",
            "method": "animate"
           },
           {
            "args": [
             [
              "2021-01-28"
             ],
             {
              "frame": {
               "duration": 0,
               "redraw": true
              },
              "fromcurrent": true,
              "mode": "immediate",
              "transition": {
               "duration": 0,
               "easing": "linear"
              }
             }
            ],
            "label": "2021-01-28",
            "method": "animate"
           },
           {
            "args": [
             [
              "2020-12-23"
             ],
             {
              "frame": {
               "duration": 0,
               "redraw": true
              },
              "fromcurrent": true,
              "mode": "immediate",
              "transition": {
               "duration": 0,
               "easing": "linear"
              }
             }
            ],
            "label": "2020-12-23",
            "method": "animate"
           },
           {
            "args": [
             [
              "2020-12-24"
             ],
             {
              "frame": {
               "duration": 0,
               "redraw": true
              },
              "fromcurrent": true,
              "mode": "immediate",
              "transition": {
               "duration": 0,
               "easing": "linear"
              }
             }
            ],
            "label": "2020-12-24",
            "method": "animate"
           },
           {
            "args": [
             [
              "2020-12-25"
             ],
             {
              "frame": {
               "duration": 0,
               "redraw": true
              },
              "fromcurrent": true,
              "mode": "immediate",
              "transition": {
               "duration": 0,
               "easing": "linear"
              }
             }
            ],
            "label": "2020-12-25",
            "method": "animate"
           },
           {
            "args": [
             [
              "2020-12-26"
             ],
             {
              "frame": {
               "duration": 0,
               "redraw": true
              },
              "fromcurrent": true,
              "mode": "immediate",
              "transition": {
               "duration": 0,
               "easing": "linear"
              }
             }
            ],
            "label": "2020-12-26",
            "method": "animate"
           },
           {
            "args": [
             [
              "2020-12-27"
             ],
             {
              "frame": {
               "duration": 0,
               "redraw": true
              },
              "fromcurrent": true,
              "mode": "immediate",
              "transition": {
               "duration": 0,
               "easing": "linear"
              }
             }
            ],
            "label": "2020-12-27",
            "method": "animate"
           },
           {
            "args": [
             [
              "2020-12-28"
             ],
             {
              "frame": {
               "duration": 0,
               "redraw": true
              },
              "fromcurrent": true,
              "mode": "immediate",
              "transition": {
               "duration": 0,
               "easing": "linear"
              }
             }
            ],
            "label": "2020-12-28",
            "method": "animate"
           },
           {
            "args": [
             [
              "2020-12-19"
             ],
             {
              "frame": {
               "duration": 0,
               "redraw": true
              },
              "fromcurrent": true,
              "mode": "immediate",
              "transition": {
               "duration": 0,
               "easing": "linear"
              }
             }
            ],
            "label": "2020-12-19",
            "method": "animate"
           },
           {
            "args": [
             [
              "2020-12-15"
             ],
             {
              "frame": {
               "duration": 0,
               "redraw": true
              },
              "fromcurrent": true,
              "mode": "immediate",
              "transition": {
               "duration": 0,
               "easing": "linear"
              }
             }
            ],
            "label": "2020-12-15",
            "method": "animate"
           },
           {
            "args": [
             [
              "2020-12-16"
             ],
             {
              "frame": {
               "duration": 0,
               "redraw": true
              },
              "fromcurrent": true,
              "mode": "immediate",
              "transition": {
               "duration": 0,
               "easing": "linear"
              }
             }
            ],
            "label": "2020-12-16",
            "method": "animate"
           },
           {
            "args": [
             [
              "2020-12-17"
             ],
             {
              "frame": {
               "duration": 0,
               "redraw": true
              },
              "fromcurrent": true,
              "mode": "immediate",
              "transition": {
               "duration": 0,
               "easing": "linear"
              }
             }
            ],
            "label": "2020-12-17",
            "method": "animate"
           },
           {
            "args": [
             [
              "2020-12-18"
             ],
             {
              "frame": {
               "duration": 0,
               "redraw": true
              },
              "fromcurrent": true,
              "mode": "immediate",
              "transition": {
               "duration": 0,
               "easing": "linear"
              }
             }
            ],
            "label": "2020-12-18",
            "method": "animate"
           },
           {
            "args": [
             [
              "2020-12-20"
             ],
             {
              "frame": {
               "duration": 0,
               "redraw": true
              },
              "fromcurrent": true,
              "mode": "immediate",
              "transition": {
               "duration": 0,
               "easing": "linear"
              }
             }
            ],
            "label": "2020-12-20",
            "method": "animate"
           },
           {
            "args": [
             [
              "2020-12-21"
             ],
             {
              "frame": {
               "duration": 0,
               "redraw": true
              },
              "fromcurrent": true,
              "mode": "immediate",
              "transition": {
               "duration": 0,
               "easing": "linear"
              }
             }
            ],
            "label": "2020-12-21",
            "method": "animate"
           },
           {
            "args": [
             [
              "2020-12-22"
             ],
             {
              "frame": {
               "duration": 0,
               "redraw": true
              },
              "fromcurrent": true,
              "mode": "immediate",
              "transition": {
               "duration": 0,
               "easing": "linear"
              }
             }
            ],
            "label": "2020-12-22",
            "method": "animate"
           },
           {
            "args": [
             [
              "2020-12-13"
             ],
             {
              "frame": {
               "duration": 0,
               "redraw": true
              },
              "fromcurrent": true,
              "mode": "immediate",
              "transition": {
               "duration": 0,
               "easing": "linear"
              }
             }
            ],
            "label": "2020-12-13",
            "method": "animate"
           },
           {
            "args": [
             [
              "2020-12-14"
             ],
             {
              "frame": {
               "duration": 0,
               "redraw": true
              },
              "fromcurrent": true,
              "mode": "immediate",
              "transition": {
               "duration": 0,
               "easing": "linear"
              }
             }
            ],
            "label": "2020-12-14",
            "method": "animate"
           }
          ],
          "x": 0.1,
          "xanchor": "left",
          "y": 0,
          "yanchor": "top"
         }
        ],
        "template": {
         "data": {
          "bar": [
           {
            "error_x": {
             "color": "#2a3f5f"
            },
            "error_y": {
             "color": "#2a3f5f"
            },
            "marker": {
             "line": {
              "color": "#E5ECF6",
              "width": 0.5
             }
            },
            "type": "bar"
           }
          ],
          "barpolar": [
           {
            "marker": {
             "line": {
              "color": "#E5ECF6",
              "width": 0.5
             }
            },
            "type": "barpolar"
           }
          ],
          "carpet": [
           {
            "aaxis": {
             "endlinecolor": "#2a3f5f",
             "gridcolor": "white",
             "linecolor": "white",
             "minorgridcolor": "white",
             "startlinecolor": "#2a3f5f"
            },
            "baxis": {
             "endlinecolor": "#2a3f5f",
             "gridcolor": "white",
             "linecolor": "white",
             "minorgridcolor": "white",
             "startlinecolor": "#2a3f5f"
            },
            "type": "carpet"
           }
          ],
          "choropleth": [
           {
            "colorbar": {
             "outlinewidth": 0,
             "ticks": ""
            },
            "type": "choropleth"
           }
          ],
          "contour": [
           {
            "colorbar": {
             "outlinewidth": 0,
             "ticks": ""
            },
            "colorscale": [
             [
              0,
              "#0d0887"
             ],
             [
              0.1111111111111111,
              "#46039f"
             ],
             [
              0.2222222222222222,
              "#7201a8"
             ],
             [
              0.3333333333333333,
              "#9c179e"
             ],
             [
              0.4444444444444444,
              "#bd3786"
             ],
             [
              0.5555555555555556,
              "#d8576b"
             ],
             [
              0.6666666666666666,
              "#ed7953"
             ],
             [
              0.7777777777777778,
              "#fb9f3a"
             ],
             [
              0.8888888888888888,
              "#fdca26"
             ],
             [
              1,
              "#f0f921"
             ]
            ],
            "type": "contour"
           }
          ],
          "contourcarpet": [
           {
            "colorbar": {
             "outlinewidth": 0,
             "ticks": ""
            },
            "type": "contourcarpet"
           }
          ],
          "heatmap": [
           {
            "colorbar": {
             "outlinewidth": 0,
             "ticks": ""
            },
            "colorscale": [
             [
              0,
              "#0d0887"
             ],
             [
              0.1111111111111111,
              "#46039f"
             ],
             [
              0.2222222222222222,
              "#7201a8"
             ],
             [
              0.3333333333333333,
              "#9c179e"
             ],
             [
              0.4444444444444444,
              "#bd3786"
             ],
             [
              0.5555555555555556,
              "#d8576b"
             ],
             [
              0.6666666666666666,
              "#ed7953"
             ],
             [
              0.7777777777777778,
              "#fb9f3a"
             ],
             [
              0.8888888888888888,
              "#fdca26"
             ],
             [
              1,
              "#f0f921"
             ]
            ],
            "type": "heatmap"
           }
          ],
          "heatmapgl": [
           {
            "colorbar": {
             "outlinewidth": 0,
             "ticks": ""
            },
            "colorscale": [
             [
              0,
              "#0d0887"
             ],
             [
              0.1111111111111111,
              "#46039f"
             ],
             [
              0.2222222222222222,
              "#7201a8"
             ],
             [
              0.3333333333333333,
              "#9c179e"
             ],
             [
              0.4444444444444444,
              "#bd3786"
             ],
             [
              0.5555555555555556,
              "#d8576b"
             ],
             [
              0.6666666666666666,
              "#ed7953"
             ],
             [
              0.7777777777777778,
              "#fb9f3a"
             ],
             [
              0.8888888888888888,
              "#fdca26"
             ],
             [
              1,
              "#f0f921"
             ]
            ],
            "type": "heatmapgl"
           }
          ],
          "histogram": [
           {
            "marker": {
             "colorbar": {
              "outlinewidth": 0,
              "ticks": ""
             }
            },
            "type": "histogram"
           }
          ],
          "histogram2d": [
           {
            "colorbar": {
             "outlinewidth": 0,
             "ticks": ""
            },
            "colorscale": [
             [
              0,
              "#0d0887"
             ],
             [
              0.1111111111111111,
              "#46039f"
             ],
             [
              0.2222222222222222,
              "#7201a8"
             ],
             [
              0.3333333333333333,
              "#9c179e"
             ],
             [
              0.4444444444444444,
              "#bd3786"
             ],
             [
              0.5555555555555556,
              "#d8576b"
             ],
             [
              0.6666666666666666,
              "#ed7953"
             ],
             [
              0.7777777777777778,
              "#fb9f3a"
             ],
             [
              0.8888888888888888,
              "#fdca26"
             ],
             [
              1,
              "#f0f921"
             ]
            ],
            "type": "histogram2d"
           }
          ],
          "histogram2dcontour": [
           {
            "colorbar": {
             "outlinewidth": 0,
             "ticks": ""
            },
            "colorscale": [
             [
              0,
              "#0d0887"
             ],
             [
              0.1111111111111111,
              "#46039f"
             ],
             [
              0.2222222222222222,
              "#7201a8"
             ],
             [
              0.3333333333333333,
              "#9c179e"
             ],
             [
              0.4444444444444444,
              "#bd3786"
             ],
             [
              0.5555555555555556,
              "#d8576b"
             ],
             [
              0.6666666666666666,
              "#ed7953"
             ],
             [
              0.7777777777777778,
              "#fb9f3a"
             ],
             [
              0.8888888888888888,
              "#fdca26"
             ],
             [
              1,
              "#f0f921"
             ]
            ],
            "type": "histogram2dcontour"
           }
          ],
          "mesh3d": [
           {
            "colorbar": {
             "outlinewidth": 0,
             "ticks": ""
            },
            "type": "mesh3d"
           }
          ],
          "parcoords": [
           {
            "line": {
             "colorbar": {
              "outlinewidth": 0,
              "ticks": ""
             }
            },
            "type": "parcoords"
           }
          ],
          "pie": [
           {
            "automargin": true,
            "type": "pie"
           }
          ],
          "scatter": [
           {
            "marker": {
             "colorbar": {
              "outlinewidth": 0,
              "ticks": ""
             }
            },
            "type": "scatter"
           }
          ],
          "scatter3d": [
           {
            "line": {
             "colorbar": {
              "outlinewidth": 0,
              "ticks": ""
             }
            },
            "marker": {
             "colorbar": {
              "outlinewidth": 0,
              "ticks": ""
             }
            },
            "type": "scatter3d"
           }
          ],
          "scattercarpet": [
           {
            "marker": {
             "colorbar": {
              "outlinewidth": 0,
              "ticks": ""
             }
            },
            "type": "scattercarpet"
           }
          ],
          "scattergeo": [
           {
            "marker": {
             "colorbar": {
              "outlinewidth": 0,
              "ticks": ""
             }
            },
            "type": "scattergeo"
           }
          ],
          "scattergl": [
           {
            "marker": {
             "colorbar": {
              "outlinewidth": 0,
              "ticks": ""
             }
            },
            "type": "scattergl"
           }
          ],
          "scattermapbox": [
           {
            "marker": {
             "colorbar": {
              "outlinewidth": 0,
              "ticks": ""
             }
            },
            "type": "scattermapbox"
           }
          ],
          "scatterpolar": [
           {
            "marker": {
             "colorbar": {
              "outlinewidth": 0,
              "ticks": ""
             }
            },
            "type": "scatterpolar"
           }
          ],
          "scatterpolargl": [
           {
            "marker": {
             "colorbar": {
              "outlinewidth": 0,
              "ticks": ""
             }
            },
            "type": "scatterpolargl"
           }
          ],
          "scatterternary": [
           {
            "marker": {
             "colorbar": {
              "outlinewidth": 0,
              "ticks": ""
             }
            },
            "type": "scatterternary"
           }
          ],
          "surface": [
           {
            "colorbar": {
             "outlinewidth": 0,
             "ticks": ""
            },
            "colorscale": [
             [
              0,
              "#0d0887"
             ],
             [
              0.1111111111111111,
              "#46039f"
             ],
             [
              0.2222222222222222,
              "#7201a8"
             ],
             [
              0.3333333333333333,
              "#9c179e"
             ],
             [
              0.4444444444444444,
              "#bd3786"
             ],
             [
              0.5555555555555556,
              "#d8576b"
             ],
             [
              0.6666666666666666,
              "#ed7953"
             ],
             [
              0.7777777777777778,
              "#fb9f3a"
             ],
             [
              0.8888888888888888,
              "#fdca26"
             ],
             [
              1,
              "#f0f921"
             ]
            ],
            "type": "surface"
           }
          ],
          "table": [
           {
            "cells": {
             "fill": {
              "color": "#EBF0F8"
             },
             "line": {
              "color": "white"
             }
            },
            "header": {
             "fill": {
              "color": "#C8D4E3"
             },
             "line": {
              "color": "white"
             }
            },
            "type": "table"
           }
          ]
         },
         "layout": {
          "annotationdefaults": {
           "arrowcolor": "#2a3f5f",
           "arrowhead": 0,
           "arrowwidth": 1
          },
          "autotypenumbers": "strict",
          "coloraxis": {
           "colorbar": {
            "outlinewidth": 0,
            "ticks": ""
           }
          },
          "colorscale": {
           "diverging": [
            [
             0,
             "#8e0152"
            ],
            [
             0.1,
             "#c51b7d"
            ],
            [
             0.2,
             "#de77ae"
            ],
            [
             0.3,
             "#f1b6da"
            ],
            [
             0.4,
             "#fde0ef"
            ],
            [
             0.5,
             "#f7f7f7"
            ],
            [
             0.6,
             "#e6f5d0"
            ],
            [
             0.7,
             "#b8e186"
            ],
            [
             0.8,
             "#7fbc41"
            ],
            [
             0.9,
             "#4d9221"
            ],
            [
             1,
             "#276419"
            ]
           ],
           "sequential": [
            [
             0,
             "#0d0887"
            ],
            [
             0.1111111111111111,
             "#46039f"
            ],
            [
             0.2222222222222222,
             "#7201a8"
            ],
            [
             0.3333333333333333,
             "#9c179e"
            ],
            [
             0.4444444444444444,
             "#bd3786"
            ],
            [
             0.5555555555555556,
             "#d8576b"
            ],
            [
             0.6666666666666666,
             "#ed7953"
            ],
            [
             0.7777777777777778,
             "#fb9f3a"
            ],
            [
             0.8888888888888888,
             "#fdca26"
            ],
            [
             1,
             "#f0f921"
            ]
           ],
           "sequentialminus": [
            [
             0,
             "#0d0887"
            ],
            [
             0.1111111111111111,
             "#46039f"
            ],
            [
             0.2222222222222222,
             "#7201a8"
            ],
            [
             0.3333333333333333,
             "#9c179e"
            ],
            [
             0.4444444444444444,
             "#bd3786"
            ],
            [
             0.5555555555555556,
             "#d8576b"
            ],
            [
             0.6666666666666666,
             "#ed7953"
            ],
            [
             0.7777777777777778,
             "#fb9f3a"
            ],
            [
             0.8888888888888888,
             "#fdca26"
            ],
            [
             1,
             "#f0f921"
            ]
           ]
          },
          "colorway": [
           "#636efa",
           "#EF553B",
           "#00cc96",
           "#ab63fa",
           "#FFA15A",
           "#19d3f3",
           "#FF6692",
           "#B6E880",
           "#FF97FF",
           "#FECB52"
          ],
          "font": {
           "color": "#2a3f5f"
          },
          "geo": {
           "bgcolor": "white",
           "lakecolor": "white",
           "landcolor": "#E5ECF6",
           "showlakes": true,
           "showland": true,
           "subunitcolor": "white"
          },
          "hoverlabel": {
           "align": "left"
          },
          "hovermode": "closest",
          "mapbox": {
           "style": "light"
          },
          "paper_bgcolor": "white",
          "plot_bgcolor": "#E5ECF6",
          "polar": {
           "angularaxis": {
            "gridcolor": "white",
            "linecolor": "white",
            "ticks": ""
           },
           "bgcolor": "#E5ECF6",
           "radialaxis": {
            "gridcolor": "white",
            "linecolor": "white",
            "ticks": ""
           }
          },
          "scene": {
           "xaxis": {
            "backgroundcolor": "#E5ECF6",
            "gridcolor": "white",
            "gridwidth": 2,
            "linecolor": "white",
            "showbackground": true,
            "ticks": "",
            "zerolinecolor": "white"
           },
           "yaxis": {
            "backgroundcolor": "#E5ECF6",
            "gridcolor": "white",
            "gridwidth": 2,
            "linecolor": "white",
            "showbackground": true,
            "ticks": "",
            "zerolinecolor": "white"
           },
           "zaxis": {
            "backgroundcolor": "#E5ECF6",
            "gridcolor": "white",
            "gridwidth": 2,
            "linecolor": "white",
            "showbackground": true,
            "ticks": "",
            "zerolinecolor": "white"
           }
          },
          "shapedefaults": {
           "line": {
            "color": "#2a3f5f"
           }
          },
          "ternary": {
           "aaxis": {
            "gridcolor": "white",
            "linecolor": "white",
            "ticks": ""
           },
           "baxis": {
            "gridcolor": "white",
            "linecolor": "white",
            "ticks": ""
           },
           "bgcolor": "#E5ECF6",
           "caxis": {
            "gridcolor": "white",
            "linecolor": "white",
            "ticks": ""
           }
          },
          "title": {
           "x": 0.05
          },
          "xaxis": {
           "automargin": true,
           "gridcolor": "white",
           "linecolor": "white",
           "ticks": "",
           "title": {
            "standoff": 15
           },
           "zerolinecolor": "white",
           "zerolinewidth": 2
          },
          "yaxis": {
           "automargin": true,
           "gridcolor": "white",
           "linecolor": "white",
           "ticks": "",
           "title": {
            "standoff": 15
           },
           "zerolinecolor": "white",
           "zerolinewidth": 2
          }
         }
        },
        "updatemenus": [
         {
          "buttons": [
           {
            "args": [
             null,
             {
              "frame": {
               "duration": 500,
               "redraw": true
              },
              "fromcurrent": true,
              "mode": "immediate",
              "transition": {
               "duration": 500,
               "easing": "linear"
              }
             }
            ],
            "label": "&#9654;",
            "method": "animate"
           },
           {
            "args": [
             [
              null
             ],
             {
              "frame": {
               "duration": 0,
               "redraw": true
              },
              "fromcurrent": true,
              "mode": "immediate",
              "transition": {
               "duration": 0,
               "easing": "linear"
              }
             }
            ],
            "label": "&#9724;",
            "method": "animate"
           }
          ],
          "direction": "left",
          "pad": {
           "r": 10,
           "t": 70
          },
          "showactive": false,
          "type": "buttons",
          "x": 0.1,
          "xanchor": "right",
          "y": 0,
          "yanchor": "top"
         }
        ]
       }
      },
      "text/html": [
       "<div>                            <div id=\"d987bcb8-cd32-4174-86b4-dabbd323fb57\" class=\"plotly-graph-div\" style=\"height:525px; width:100%;\"></div>            <script type=\"text/javascript\">                require([\"plotly\"], function(Plotly) {                    window.PLOTLYENV=window.PLOTLYENV || {};                                    if (document.getElementById(\"d987bcb8-cd32-4174-86b4-dabbd323fb57\")) {                    Plotly.newPlot(                        \"d987bcb8-cd32-4174-86b4-dabbd323fb57\",                        [{\"coloraxis\": \"coloraxis\", \"geo\": \"geo\", \"hovertemplate\": \"<b>%{hovertext}</b><br><br>date=2020-12-29<br>iso_code=%{location}<br>total_vaccinations=%{z}<extra></extra>\", \"hovertext\": [\"Argentina\", \"Bahrain\", \"Belgium\", \"Bulgaria\", \"Chile\", \"China\", \"Costa Rica\", \"Czechia\", \"Denmark\", \"England\", \"Estonia\", \"France\", \"Germany\", \"Greece\", \"Hungary\", \"Israel\", \"Italy\", \"Latvia\", \"Lithuania\", \"Malta\", \"Mexico\", \"Northern Ireland\", \"Norway\", \"Oman\", \"Poland\", \"Portugal\", \"Romania\", \"Russia\", \"Scotland\", \"Sweden\", \"Switzerland\", \"United Kingdom\", \"United States\", \"Wales\"], \"locations\": [\"ARG\", \"BHR\", \"BEL\", \"BGR\", \"CHL\", \"CHN\", \"CRI\", \"CZE\", \"DNK\", null, \"EST\", \"FRA\", \"DEU\", \"GRC\", \"HUN\", \"ISR\", \"ITA\", \"LVA\", \"LTU\", \"MLT\", \"MEX\", null, \"NOR\", \"OMN\", \"POL\", \"PRT\", \"ROU\", \"RUS\", null, \"SWE\", \"CHE\", \"GBR\", \"USA\", null], \"name\": \"\", \"type\": \"choropleth\", \"z\": [700.0, 56041.0, 299.0, 1719.0, 751452.1692307693, 751452.1692307693, 751452.1692307693, 6967.0, 17732.0, 751452.1692307693, 516.0, 118.0, 87472.0, 1056.0, 2461.0, 667169.0, 8801.0, 1472.0, 8189.0, 751452.1692307693, 18529.0, 751452.1692307693, 1673.0, 3363.0, 6300.0, 16701.0, 2778.0, 751452.1692307693, 751452.1692307693, 751452.1692307693, 751452.1692307693, 751452.1692307693, 751452.1692307693, 751452.1692307693]}],                        {\"coloraxis\": {\"cmax\": 10000000, \"cmin\": 0, \"colorbar\": {\"title\": {\"text\": \"total_vaccinations\"}}, \"colorscale\": [[0.0, \"rgb(255,255,217)\"], [0.125, \"rgb(237,248,177)\"], [0.25, \"rgb(199,233,180)\"], [0.375, \"rgb(127,205,187)\"], [0.5, \"rgb(65,182,196)\"], [0.625, \"rgb(29,145,192)\"], [0.75, \"rgb(34,94,168)\"], [0.875, \"rgb(37,52,148)\"], [1.0, \"rgb(8,29,88)\"]]}, \"geo\": {\"center\": {}, \"domain\": {\"x\": [0.0, 1.0], \"y\": [0.0, 1.0]}, \"projection\": {\"type\": \"natural earth\"}}, \"legend\": {\"tracegroupgap\": 0}, \"margin\": {\"t\": 60}, \"sliders\": [{\"active\": 0, \"currentvalue\": {\"prefix\": \"date=\"}, \"len\": 0.9, \"pad\": {\"b\": 10, \"t\": 60}, \"steps\": [{\"args\": [[\"2020-12-29\"], {\"frame\": {\"duration\": 0, \"redraw\": true}, \"fromcurrent\": true, \"mode\": \"immediate\", \"transition\": {\"duration\": 0, \"easing\": \"linear\"}}], \"label\": \"2020-12-29\", \"method\": \"animate\"}, {\"args\": [[\"2020-12-30\"], {\"frame\": {\"duration\": 0, \"redraw\": true}, \"fromcurrent\": true, \"mode\": \"immediate\", \"transition\": {\"duration\": 0, \"easing\": \"linear\"}}], \"label\": \"2020-12-30\", \"method\": \"animate\"}, {\"args\": [[\"2020-12-31\"], {\"frame\": {\"duration\": 0, \"redraw\": true}, \"fromcurrent\": true, \"mode\": \"immediate\", \"transition\": {\"duration\": 0, \"easing\": \"linear\"}}], \"label\": \"2020-12-31\", \"method\": \"animate\"}, {\"args\": [[\"2021-01-01\"], {\"frame\": {\"duration\": 0, \"redraw\": true}, \"fromcurrent\": true, \"mode\": \"immediate\", \"transition\": {\"duration\": 0, \"easing\": \"linear\"}}], \"label\": \"2021-01-01\", \"method\": \"animate\"}, {\"args\": [[\"2021-01-02\"], {\"frame\": {\"duration\": 0, \"redraw\": true}, \"fromcurrent\": true, \"mode\": \"immediate\", \"transition\": {\"duration\": 0, \"easing\": \"linear\"}}], \"label\": \"2021-01-02\", \"method\": \"animate\"}, {\"args\": [[\"2021-01-03\"], {\"frame\": {\"duration\": 0, \"redraw\": true}, \"fromcurrent\": true, \"mode\": \"immediate\", \"transition\": {\"duration\": 0, \"easing\": \"linear\"}}], \"label\": \"2021-01-03\", \"method\": \"animate\"}, {\"args\": [[\"2021-01-04\"], {\"frame\": {\"duration\": 0, \"redraw\": true}, \"fromcurrent\": true, \"mode\": \"immediate\", \"transition\": {\"duration\": 0, \"easing\": \"linear\"}}], \"label\": \"2021-01-04\", \"method\": \"animate\"}, {\"args\": [[\"2021-01-05\"], {\"frame\": {\"duration\": 0, \"redraw\": true}, \"fromcurrent\": true, \"mode\": \"immediate\", \"transition\": {\"duration\": 0, \"easing\": \"linear\"}}], \"label\": \"2021-01-05\", \"method\": \"animate\"}, {\"args\": [[\"2021-01-06\"], {\"frame\": {\"duration\": 0, \"redraw\": true}, \"fromcurrent\": true, \"mode\": \"immediate\", \"transition\": {\"duration\": 0, \"easing\": \"linear\"}}], \"label\": \"2021-01-06\", \"method\": \"animate\"}, {\"args\": [[\"2021-01-07\"], {\"frame\": {\"duration\": 0, \"redraw\": true}, \"fromcurrent\": true, \"mode\": \"immediate\", \"transition\": {\"duration\": 0, \"easing\": \"linear\"}}], \"label\": \"2021-01-07\", \"method\": \"animate\"}, {\"args\": [[\"2021-01-08\"], {\"frame\": {\"duration\": 0, \"redraw\": true}, \"fromcurrent\": true, \"mode\": \"immediate\", \"transition\": {\"duration\": 0, \"easing\": \"linear\"}}], \"label\": \"2021-01-08\", \"method\": \"animate\"}, {\"args\": [[\"2021-01-09\"], {\"frame\": {\"duration\": 0, \"redraw\": true}, \"fromcurrent\": true, \"mode\": \"immediate\", \"transition\": {\"duration\": 0, \"easing\": \"linear\"}}], \"label\": \"2021-01-09\", \"method\": \"animate\"}, {\"args\": [[\"2021-01-10\"], {\"frame\": {\"duration\": 0, \"redraw\": true}, \"fromcurrent\": true, \"mode\": \"immediate\", \"transition\": {\"duration\": 0, \"easing\": \"linear\"}}], \"label\": \"2021-01-10\", \"method\": \"animate\"}, {\"args\": [[\"2021-01-11\"], {\"frame\": {\"duration\": 0, \"redraw\": true}, \"fromcurrent\": true, \"mode\": \"immediate\", \"transition\": {\"duration\": 0, \"easing\": \"linear\"}}], \"label\": \"2021-01-11\", \"method\": \"animate\"}, {\"args\": [[\"2021-01-12\"], {\"frame\": {\"duration\": 0, \"redraw\": true}, \"fromcurrent\": true, \"mode\": \"immediate\", \"transition\": {\"duration\": 0, \"easing\": \"linear\"}}], \"label\": \"2021-01-12\", \"method\": \"animate\"}, {\"args\": [[\"2021-01-13\"], {\"frame\": {\"duration\": 0, \"redraw\": true}, \"fromcurrent\": true, \"mode\": \"immediate\", \"transition\": {\"duration\": 0, \"easing\": \"linear\"}}], \"label\": \"2021-01-13\", \"method\": \"animate\"}, {\"args\": [[\"2021-01-14\"], {\"frame\": {\"duration\": 0, \"redraw\": true}, \"fromcurrent\": true, \"mode\": \"immediate\", \"transition\": {\"duration\": 0, \"easing\": \"linear\"}}], \"label\": \"2021-01-14\", \"method\": \"animate\"}, {\"args\": [[\"2021-01-15\"], {\"frame\": {\"duration\": 0, \"redraw\": true}, \"fromcurrent\": true, \"mode\": \"immediate\", \"transition\": {\"duration\": 0, \"easing\": \"linear\"}}], \"label\": \"2021-01-15\", \"method\": \"animate\"}, {\"args\": [[\"2021-01-16\"], {\"frame\": {\"duration\": 0, \"redraw\": true}, \"fromcurrent\": true, \"mode\": \"immediate\", \"transition\": {\"duration\": 0, \"easing\": \"linear\"}}], \"label\": \"2021-01-16\", \"method\": \"animate\"}, {\"args\": [[\"2021-01-17\"], {\"frame\": {\"duration\": 0, \"redraw\": true}, \"fromcurrent\": true, \"mode\": \"immediate\", \"transition\": {\"duration\": 0, \"easing\": \"linear\"}}], \"label\": \"2021-01-17\", \"method\": \"animate\"}, {\"args\": [[\"2021-01-18\"], {\"frame\": {\"duration\": 0, \"redraw\": true}, \"fromcurrent\": true, \"mode\": \"immediate\", \"transition\": {\"duration\": 0, \"easing\": \"linear\"}}], \"label\": \"2021-01-18\", \"method\": \"animate\"}, {\"args\": [[\"2021-01-19\"], {\"frame\": {\"duration\": 0, \"redraw\": true}, \"fromcurrent\": true, \"mode\": \"immediate\", \"transition\": {\"duration\": 0, \"easing\": \"linear\"}}], \"label\": \"2021-01-19\", \"method\": \"animate\"}, {\"args\": [[\"2021-01-20\"], {\"frame\": {\"duration\": 0, \"redraw\": true}, \"fromcurrent\": true, \"mode\": \"immediate\", \"transition\": {\"duration\": 0, \"easing\": \"linear\"}}], \"label\": \"2021-01-20\", \"method\": \"animate\"}, {\"args\": [[\"2021-01-21\"], {\"frame\": {\"duration\": 0, \"redraw\": true}, \"fromcurrent\": true, \"mode\": \"immediate\", \"transition\": {\"duration\": 0, \"easing\": \"linear\"}}], \"label\": \"2021-01-21\", \"method\": \"animate\"}, {\"args\": [[\"2021-01-22\"], {\"frame\": {\"duration\": 0, \"redraw\": true}, \"fromcurrent\": true, \"mode\": \"immediate\", \"transition\": {\"duration\": 0, \"easing\": \"linear\"}}], \"label\": \"2021-01-22\", \"method\": \"animate\"}, {\"args\": [[\"2021-01-23\"], {\"frame\": {\"duration\": 0, \"redraw\": true}, \"fromcurrent\": true, \"mode\": \"immediate\", \"transition\": {\"duration\": 0, \"easing\": \"linear\"}}], \"label\": \"2021-01-23\", \"method\": \"animate\"}, {\"args\": [[\"2021-01-24\"], {\"frame\": {\"duration\": 0, \"redraw\": true}, \"fromcurrent\": true, \"mode\": \"immediate\", \"transition\": {\"duration\": 0, \"easing\": \"linear\"}}], \"label\": \"2021-01-24\", \"method\": \"animate\"}, {\"args\": [[\"2021-01-25\"], {\"frame\": {\"duration\": 0, \"redraw\": true}, \"fromcurrent\": true, \"mode\": \"immediate\", \"transition\": {\"duration\": 0, \"easing\": \"linear\"}}], \"label\": \"2021-01-25\", \"method\": \"animate\"}, {\"args\": [[\"2021-01-26\"], {\"frame\": {\"duration\": 0, \"redraw\": true}, \"fromcurrent\": true, \"mode\": \"immediate\", \"transition\": {\"duration\": 0, \"easing\": \"linear\"}}], \"label\": \"2021-01-26\", \"method\": \"animate\"}, {\"args\": [[\"2021-01-27\"], {\"frame\": {\"duration\": 0, \"redraw\": true}, \"fromcurrent\": true, \"mode\": \"immediate\", \"transition\": {\"duration\": 0, \"easing\": \"linear\"}}], \"label\": \"2021-01-27\", \"method\": \"animate\"}, {\"args\": [[\"2021-01-28\"], {\"frame\": {\"duration\": 0, \"redraw\": true}, \"fromcurrent\": true, \"mode\": \"immediate\", \"transition\": {\"duration\": 0, \"easing\": \"linear\"}}], \"label\": \"2021-01-28\", \"method\": \"animate\"}, {\"args\": [[\"2020-12-23\"], {\"frame\": {\"duration\": 0, \"redraw\": true}, \"fromcurrent\": true, \"mode\": \"immediate\", \"transition\": {\"duration\": 0, \"easing\": \"linear\"}}], \"label\": \"2020-12-23\", \"method\": \"animate\"}, {\"args\": [[\"2020-12-24\"], {\"frame\": {\"duration\": 0, \"redraw\": true}, \"fromcurrent\": true, \"mode\": \"immediate\", \"transition\": {\"duration\": 0, \"easing\": \"linear\"}}], \"label\": \"2020-12-24\", \"method\": \"animate\"}, {\"args\": [[\"2020-12-25\"], {\"frame\": {\"duration\": 0, \"redraw\": true}, \"fromcurrent\": true, \"mode\": \"immediate\", \"transition\": {\"duration\": 0, \"easing\": \"linear\"}}], \"label\": \"2020-12-25\", \"method\": \"animate\"}, {\"args\": [[\"2020-12-26\"], {\"frame\": {\"duration\": 0, \"redraw\": true}, \"fromcurrent\": true, \"mode\": \"immediate\", \"transition\": {\"duration\": 0, \"easing\": \"linear\"}}], \"label\": \"2020-12-26\", \"method\": \"animate\"}, {\"args\": [[\"2020-12-27\"], {\"frame\": {\"duration\": 0, \"redraw\": true}, \"fromcurrent\": true, \"mode\": \"immediate\", \"transition\": {\"duration\": 0, \"easing\": \"linear\"}}], \"label\": \"2020-12-27\", \"method\": \"animate\"}, {\"args\": [[\"2020-12-28\"], {\"frame\": {\"duration\": 0, \"redraw\": true}, \"fromcurrent\": true, \"mode\": \"immediate\", \"transition\": {\"duration\": 0, \"easing\": \"linear\"}}], \"label\": \"2020-12-28\", \"method\": \"animate\"}, {\"args\": [[\"2020-12-19\"], {\"frame\": {\"duration\": 0, \"redraw\": true}, \"fromcurrent\": true, \"mode\": \"immediate\", \"transition\": {\"duration\": 0, \"easing\": \"linear\"}}], \"label\": \"2020-12-19\", \"method\": \"animate\"}, {\"args\": [[\"2020-12-15\"], {\"frame\": {\"duration\": 0, \"redraw\": true}, \"fromcurrent\": true, \"mode\": \"immediate\", \"transition\": {\"duration\": 0, \"easing\": \"linear\"}}], \"label\": \"2020-12-15\", \"method\": \"animate\"}, {\"args\": [[\"2020-12-16\"], {\"frame\": {\"duration\": 0, \"redraw\": true}, \"fromcurrent\": true, \"mode\": \"immediate\", \"transition\": {\"duration\": 0, \"easing\": \"linear\"}}], \"label\": \"2020-12-16\", \"method\": \"animate\"}, {\"args\": [[\"2020-12-17\"], {\"frame\": {\"duration\": 0, \"redraw\": true}, \"fromcurrent\": true, \"mode\": \"immediate\", \"transition\": {\"duration\": 0, \"easing\": \"linear\"}}], \"label\": \"2020-12-17\", \"method\": \"animate\"}, {\"args\": [[\"2020-12-18\"], {\"frame\": {\"duration\": 0, \"redraw\": true}, \"fromcurrent\": true, \"mode\": \"immediate\", \"transition\": {\"duration\": 0, \"easing\": \"linear\"}}], \"label\": \"2020-12-18\", \"method\": \"animate\"}, {\"args\": [[\"2020-12-20\"], {\"frame\": {\"duration\": 0, \"redraw\": true}, \"fromcurrent\": true, \"mode\": \"immediate\", \"transition\": {\"duration\": 0, \"easing\": \"linear\"}}], \"label\": \"2020-12-20\", \"method\": \"animate\"}, {\"args\": [[\"2020-12-21\"], {\"frame\": {\"duration\": 0, \"redraw\": true}, \"fromcurrent\": true, \"mode\": \"immediate\", \"transition\": {\"duration\": 0, \"easing\": \"linear\"}}], \"label\": \"2020-12-21\", \"method\": \"animate\"}, {\"args\": [[\"2020-12-22\"], {\"frame\": {\"duration\": 0, \"redraw\": true}, \"fromcurrent\": true, \"mode\": \"immediate\", \"transition\": {\"duration\": 0, \"easing\": \"linear\"}}], \"label\": \"2020-12-22\", \"method\": \"animate\"}, {\"args\": [[\"2020-12-13\"], {\"frame\": {\"duration\": 0, \"redraw\": true}, \"fromcurrent\": true, \"mode\": \"immediate\", \"transition\": {\"duration\": 0, \"easing\": \"linear\"}}], \"label\": \"2020-12-13\", \"method\": \"animate\"}, {\"args\": [[\"2020-12-14\"], {\"frame\": {\"duration\": 0, \"redraw\": true}, \"fromcurrent\": true, \"mode\": \"immediate\", \"transition\": {\"duration\": 0, \"easing\": \"linear\"}}], \"label\": \"2020-12-14\", \"method\": \"animate\"}], \"x\": 0.1, \"xanchor\": \"left\", \"y\": 0, \"yanchor\": \"top\"}], \"template\": {\"data\": {\"bar\": [{\"error_x\": {\"color\": \"#2a3f5f\"}, \"error_y\": {\"color\": \"#2a3f5f\"}, \"marker\": {\"line\": {\"color\": \"#E5ECF6\", \"width\": 0.5}}, \"type\": \"bar\"}], \"barpolar\": [{\"marker\": {\"line\": {\"color\": \"#E5ECF6\", \"width\": 0.5}}, \"type\": \"barpolar\"}], \"carpet\": [{\"aaxis\": {\"endlinecolor\": \"#2a3f5f\", \"gridcolor\": \"white\", \"linecolor\": \"white\", \"minorgridcolor\": \"white\", \"startlinecolor\": \"#2a3f5f\"}, \"baxis\": {\"endlinecolor\": \"#2a3f5f\", \"gridcolor\": \"white\", \"linecolor\": \"white\", \"minorgridcolor\": \"white\", \"startlinecolor\": \"#2a3f5f\"}, \"type\": \"carpet\"}], \"choropleth\": [{\"colorbar\": {\"outlinewidth\": 0, \"ticks\": \"\"}, \"type\": \"choropleth\"}], \"contour\": [{\"colorbar\": {\"outlinewidth\": 0, \"ticks\": \"\"}, \"colorscale\": [[0.0, \"#0d0887\"], [0.1111111111111111, \"#46039f\"], [0.2222222222222222, \"#7201a8\"], [0.3333333333333333, \"#9c179e\"], [0.4444444444444444, \"#bd3786\"], [0.5555555555555556, \"#d8576b\"], [0.6666666666666666, \"#ed7953\"], [0.7777777777777778, \"#fb9f3a\"], [0.8888888888888888, \"#fdca26\"], [1.0, \"#f0f921\"]], \"type\": \"contour\"}], \"contourcarpet\": [{\"colorbar\": {\"outlinewidth\": 0, \"ticks\": \"\"}, \"type\": \"contourcarpet\"}], \"heatmap\": [{\"colorbar\": {\"outlinewidth\": 0, \"ticks\": \"\"}, \"colorscale\": [[0.0, \"#0d0887\"], [0.1111111111111111, \"#46039f\"], [0.2222222222222222, \"#7201a8\"], [0.3333333333333333, \"#9c179e\"], [0.4444444444444444, \"#bd3786\"], [0.5555555555555556, \"#d8576b\"], [0.6666666666666666, \"#ed7953\"], [0.7777777777777778, \"#fb9f3a\"], [0.8888888888888888, \"#fdca26\"], [1.0, \"#f0f921\"]], \"type\": \"heatmap\"}], \"heatmapgl\": [{\"colorbar\": {\"outlinewidth\": 0, \"ticks\": \"\"}, \"colorscale\": [[0.0, \"#0d0887\"], [0.1111111111111111, \"#46039f\"], [0.2222222222222222, \"#7201a8\"], [0.3333333333333333, \"#9c179e\"], [0.4444444444444444, \"#bd3786\"], [0.5555555555555556, \"#d8576b\"], [0.6666666666666666, \"#ed7953\"], [0.7777777777777778, \"#fb9f3a\"], [0.8888888888888888, \"#fdca26\"], [1.0, \"#f0f921\"]], \"type\": \"heatmapgl\"}], \"histogram\": [{\"marker\": {\"colorbar\": {\"outlinewidth\": 0, \"ticks\": \"\"}}, \"type\": \"histogram\"}], \"histogram2d\": [{\"colorbar\": {\"outlinewidth\": 0, \"ticks\": \"\"}, \"colorscale\": [[0.0, \"#0d0887\"], [0.1111111111111111, \"#46039f\"], [0.2222222222222222, \"#7201a8\"], [0.3333333333333333, \"#9c179e\"], [0.4444444444444444, \"#bd3786\"], [0.5555555555555556, \"#d8576b\"], [0.6666666666666666, \"#ed7953\"], [0.7777777777777778, \"#fb9f3a\"], [0.8888888888888888, \"#fdca26\"], [1.0, \"#f0f921\"]], \"type\": \"histogram2d\"}], \"histogram2dcontour\": [{\"colorbar\": {\"outlinewidth\": 0, \"ticks\": \"\"}, \"colorscale\": [[0.0, \"#0d0887\"], [0.1111111111111111, \"#46039f\"], [0.2222222222222222, \"#7201a8\"], [0.3333333333333333, \"#9c179e\"], [0.4444444444444444, \"#bd3786\"], [0.5555555555555556, \"#d8576b\"], [0.6666666666666666, \"#ed7953\"], [0.7777777777777778, \"#fb9f3a\"], [0.8888888888888888, \"#fdca26\"], [1.0, \"#f0f921\"]], \"type\": \"histogram2dcontour\"}], \"mesh3d\": [{\"colorbar\": {\"outlinewidth\": 0, \"ticks\": \"\"}, \"type\": \"mesh3d\"}], \"parcoords\": [{\"line\": {\"colorbar\": {\"outlinewidth\": 0, \"ticks\": \"\"}}, \"type\": \"parcoords\"}], \"pie\": [{\"automargin\": true, \"type\": \"pie\"}], \"scatter\": [{\"marker\": {\"colorbar\": {\"outlinewidth\": 0, \"ticks\": \"\"}}, \"type\": \"scatter\"}], \"scatter3d\": [{\"line\": {\"colorbar\": {\"outlinewidth\": 0, \"ticks\": \"\"}}, \"marker\": {\"colorbar\": {\"outlinewidth\": 0, \"ticks\": \"\"}}, \"type\": \"scatter3d\"}], \"scattercarpet\": [{\"marker\": {\"colorbar\": {\"outlinewidth\": 0, \"ticks\": \"\"}}, \"type\": \"scattercarpet\"}], \"scattergeo\": [{\"marker\": {\"colorbar\": {\"outlinewidth\": 0, \"ticks\": \"\"}}, \"type\": \"scattergeo\"}], \"scattergl\": [{\"marker\": {\"colorbar\": {\"outlinewidth\": 0, \"ticks\": \"\"}}, \"type\": \"scattergl\"}], \"scattermapbox\": [{\"marker\": {\"colorbar\": {\"outlinewidth\": 0, \"ticks\": \"\"}}, \"type\": \"scattermapbox\"}], \"scatterpolar\": [{\"marker\": {\"colorbar\": {\"outlinewidth\": 0, \"ticks\": \"\"}}, \"type\": \"scatterpolar\"}], \"scatterpolargl\": [{\"marker\": {\"colorbar\": {\"outlinewidth\": 0, \"ticks\": \"\"}}, \"type\": \"scatterpolargl\"}], \"scatterternary\": [{\"marker\": {\"colorbar\": {\"outlinewidth\": 0, \"ticks\": \"\"}}, \"type\": \"scatterternary\"}], \"surface\": [{\"colorbar\": {\"outlinewidth\": 0, \"ticks\": \"\"}, \"colorscale\": [[0.0, \"#0d0887\"], [0.1111111111111111, \"#46039f\"], [0.2222222222222222, \"#7201a8\"], [0.3333333333333333, \"#9c179e\"], [0.4444444444444444, \"#bd3786\"], [0.5555555555555556, \"#d8576b\"], [0.6666666666666666, \"#ed7953\"], [0.7777777777777778, \"#fb9f3a\"], [0.8888888888888888, \"#fdca26\"], [1.0, \"#f0f921\"]], \"type\": \"surface\"}], \"table\": [{\"cells\": {\"fill\": {\"color\": \"#EBF0F8\"}, \"line\": {\"color\": \"white\"}}, \"header\": {\"fill\": {\"color\": \"#C8D4E3\"}, \"line\": {\"color\": \"white\"}}, \"type\": \"table\"}]}, \"layout\": {\"annotationdefaults\": {\"arrowcolor\": \"#2a3f5f\", \"arrowhead\": 0, \"arrowwidth\": 1}, \"autotypenumbers\": \"strict\", \"coloraxis\": {\"colorbar\": {\"outlinewidth\": 0, \"ticks\": \"\"}}, \"colorscale\": {\"diverging\": [[0, \"#8e0152\"], [0.1, \"#c51b7d\"], [0.2, \"#de77ae\"], [0.3, \"#f1b6da\"], [0.4, \"#fde0ef\"], [0.5, \"#f7f7f7\"], [0.6, \"#e6f5d0\"], [0.7, \"#b8e186\"], [0.8, \"#7fbc41\"], [0.9, \"#4d9221\"], [1, \"#276419\"]], \"sequential\": [[0.0, \"#0d0887\"], [0.1111111111111111, \"#46039f\"], [0.2222222222222222, \"#7201a8\"], [0.3333333333333333, \"#9c179e\"], [0.4444444444444444, \"#bd3786\"], [0.5555555555555556, \"#d8576b\"], [0.6666666666666666, \"#ed7953\"], [0.7777777777777778, \"#fb9f3a\"], [0.8888888888888888, \"#fdca26\"], [1.0, \"#f0f921\"]], \"sequentialminus\": [[0.0, \"#0d0887\"], [0.1111111111111111, \"#46039f\"], [0.2222222222222222, \"#7201a8\"], [0.3333333333333333, \"#9c179e\"], [0.4444444444444444, \"#bd3786\"], [0.5555555555555556, \"#d8576b\"], [0.6666666666666666, \"#ed7953\"], [0.7777777777777778, \"#fb9f3a\"], [0.8888888888888888, \"#fdca26\"], [1.0, \"#f0f921\"]]}, \"colorway\": [\"#636efa\", \"#EF553B\", \"#00cc96\", \"#ab63fa\", \"#FFA15A\", \"#19d3f3\", \"#FF6692\", \"#B6E880\", \"#FF97FF\", \"#FECB52\"], \"font\": {\"color\": \"#2a3f5f\"}, \"geo\": {\"bgcolor\": \"white\", \"lakecolor\": \"white\", \"landcolor\": \"#E5ECF6\", \"showlakes\": true, \"showland\": true, \"subunitcolor\": \"white\"}, \"hoverlabel\": {\"align\": \"left\"}, \"hovermode\": \"closest\", \"mapbox\": {\"style\": \"light\"}, \"paper_bgcolor\": \"white\", \"plot_bgcolor\": \"#E5ECF6\", \"polar\": {\"angularaxis\": {\"gridcolor\": \"white\", \"linecolor\": \"white\", \"ticks\": \"\"}, \"bgcolor\": \"#E5ECF6\", \"radialaxis\": {\"gridcolor\": \"white\", \"linecolor\": \"white\", \"ticks\": \"\"}}, \"scene\": {\"xaxis\": {\"backgroundcolor\": \"#E5ECF6\", \"gridcolor\": \"white\", \"gridwidth\": 2, \"linecolor\": \"white\", \"showbackground\": true, \"ticks\": \"\", \"zerolinecolor\": \"white\"}, \"yaxis\": {\"backgroundcolor\": \"#E5ECF6\", \"gridcolor\": \"white\", \"gridwidth\": 2, \"linecolor\": \"white\", \"showbackground\": true, \"ticks\": \"\", \"zerolinecolor\": \"white\"}, \"zaxis\": {\"backgroundcolor\": \"#E5ECF6\", \"gridcolor\": \"white\", \"gridwidth\": 2, \"linecolor\": \"white\", \"showbackground\": true, \"ticks\": \"\", \"zerolinecolor\": \"white\"}}, \"shapedefaults\": {\"line\": {\"color\": \"#2a3f5f\"}}, \"ternary\": {\"aaxis\": {\"gridcolor\": \"white\", \"linecolor\": \"white\", \"ticks\": \"\"}, \"baxis\": {\"gridcolor\": \"white\", \"linecolor\": \"white\", \"ticks\": \"\"}, \"bgcolor\": \"#E5ECF6\", \"caxis\": {\"gridcolor\": \"white\", \"linecolor\": \"white\", \"ticks\": \"\"}}, \"title\": {\"x\": 0.05}, \"xaxis\": {\"automargin\": true, \"gridcolor\": \"white\", \"linecolor\": \"white\", \"ticks\": \"\", \"title\": {\"standoff\": 15}, \"zerolinecolor\": \"white\", \"zerolinewidth\": 2}, \"yaxis\": {\"automargin\": true, \"gridcolor\": \"white\", \"linecolor\": \"white\", \"ticks\": \"\", \"title\": {\"standoff\": 15}, \"zerolinecolor\": \"white\", \"zerolinewidth\": 2}}}, \"updatemenus\": [{\"buttons\": [{\"args\": [null, {\"frame\": {\"duration\": 500, \"redraw\": true}, \"fromcurrent\": true, \"mode\": \"immediate\", \"transition\": {\"duration\": 500, \"easing\": \"linear\"}}], \"label\": \"&#9654;\", \"method\": \"animate\"}, {\"args\": [[null], {\"frame\": {\"duration\": 0, \"redraw\": true}, \"fromcurrent\": true, \"mode\": \"immediate\", \"transition\": {\"duration\": 0, \"easing\": \"linear\"}}], \"label\": \"&#9724;\", \"method\": \"animate\"}], \"direction\": \"left\", \"pad\": {\"r\": 10, \"t\": 70}, \"showactive\": false, \"type\": \"buttons\", \"x\": 0.1, \"xanchor\": \"right\", \"y\": 0, \"yanchor\": \"top\"}]},                        {\"responsive\": true}                    ).then(function(){\n",
       "                            Plotly.addFrames('d987bcb8-cd32-4174-86b4-dabbd323fb57', [{\"data\": [{\"coloraxis\": \"coloraxis\", \"geo\": \"geo\", \"hovertemplate\": \"<b>%{hovertext}</b><br><br>date=2020-12-29<br>iso_code=%{location}<br>total_vaccinations=%{z}<extra></extra>\", \"hovertext\": [\"Argentina\", \"Bahrain\", \"Belgium\", \"Bulgaria\", \"Chile\", \"China\", \"Costa Rica\", \"Czechia\", \"Denmark\", \"England\", \"Estonia\", \"France\", \"Germany\", \"Greece\", \"Hungary\", \"Israel\", \"Italy\", \"Latvia\", \"Lithuania\", \"Malta\", \"Mexico\", \"Northern Ireland\", \"Norway\", \"Oman\", \"Poland\", \"Portugal\", \"Romania\", \"Russia\", \"Scotland\", \"Sweden\", \"Switzerland\", \"United Kingdom\", \"United States\", \"Wales\"], \"locations\": [\"ARG\", \"BHR\", \"BEL\", \"BGR\", \"CHL\", \"CHN\", \"CRI\", \"CZE\", \"DNK\", null, \"EST\", \"FRA\", \"DEU\", \"GRC\", \"HUN\", \"ISR\", \"ITA\", \"LVA\", \"LTU\", \"MLT\", \"MEX\", null, \"NOR\", \"OMN\", \"POL\", \"PRT\", \"ROU\", \"RUS\", null, \"SWE\", \"CHE\", \"GBR\", \"USA\", null], \"name\": \"\", \"z\": [700.0, 56041.0, 299.0, 1719.0, 751452.1692307693, 751452.1692307693, 751452.1692307693, 6967.0, 17732.0, 751452.1692307693, 516.0, 118.0, 87472.0, 1056.0, 2461.0, 667169.0, 8801.0, 1472.0, 8189.0, 751452.1692307693, 18529.0, 751452.1692307693, 1673.0, 3363.0, 6300.0, 16701.0, 2778.0, 751452.1692307693, 751452.1692307693, 751452.1692307693, 751452.1692307693, 751452.1692307693, 751452.1692307693, 751452.1692307693], \"type\": \"choropleth\"}], \"name\": \"2020-12-29\"}, {\"data\": [{\"coloraxis\": \"coloraxis\", \"geo\": \"geo\", \"hovertemplate\": \"<b>%{hovertext}</b><br><br>date=2020-12-30<br>iso_code=%{location}<br>total_vaccinations=%{z}<extra></extra>\", \"hovertext\": [\"Argentina\", \"Bahrain\", \"Belgium\", \"Bulgaria\", \"Chile\", \"China\", \"Costa Rica\", \"Croatia\", \"Czechia\", \"Denmark\", \"England\", \"Estonia\", \"France\", \"Germany\", \"Greece\", \"Hungary\", \"Iceland\", \"Israel\", \"Italy\", \"Latvia\", \"Lithuania\", \"Luxembourg\", \"Malta\", \"Mexico\", \"Northern Ireland\", \"Norway\", \"Oman\", \"Poland\", \"Portugal\", \"Romania\", \"Russia\", \"Scotland\", \"Sweden\", \"Switzerland\", \"United Kingdom\", \"United States\", \"Wales\"], \"locations\": [\"ARG\", \"BHR\", \"BEL\", \"BGR\", \"CHL\", \"CHN\", \"CRI\", \"HRV\", \"CZE\", \"DNK\", null, \"EST\", \"FRA\", \"DEU\", \"GRC\", \"HUN\", \"ISL\", \"ISR\", \"ITA\", \"LVA\", \"LTU\", \"LUX\", \"MLT\", \"MEX\", null, \"NOR\", \"OMN\", \"POL\", \"PRT\", \"ROU\", \"RUS\", null, \"SWE\", \"CHE\", \"GBR\", \"USA\", null], \"name\": \"\", \"z\": [751452.1692307693, 57317.0, 778.0, 4608.0, 751452.1692307693, 751452.1692307693, 751452.1692307693, 7864.0, 10422.0, 29285.0, 751452.1692307693, 884.0, 206.0, 145416.0, 1709.0, 3789.0, 4875.0, 816661.0, 13393.0, 2260.0, 9722.0, 1200.0, 751452.1692307693, 24998.0, 751452.1692307693, 2095.0, 5043.0, 36300.0, 26850.0, 5666.0, 751452.1692307693, 751452.1692307693, 751452.1692307693, 751452.1692307693, 751452.1692307693, 2794588.0, 751452.1692307693], \"type\": \"choropleth\"}], \"name\": \"2020-12-30\"}, {\"data\": [{\"coloraxis\": \"coloraxis\", \"geo\": \"geo\", \"hovertemplate\": \"<b>%{hovertext}</b><br><br>date=2020-12-31<br>iso_code=%{location}<br>total_vaccinations=%{z}<extra></extra>\", \"hovertext\": [\"Argentina\", \"Bahrain\", \"Belgium\", \"Bulgaria\", \"Chile\", \"China\", \"Costa Rica\", \"Croatia\", \"Czechia\", \"Denmark\", \"England\", \"Estonia\", \"Finland\", \"France\", \"Germany\", \"Greece\", \"Hungary\", \"Iceland\", \"Ireland\", \"Israel\", \"Italy\", \"Latvia\", \"Lithuania\", \"Luxembourg\", \"Malta\", \"Mexico\", \"Northern Ireland\", \"Norway\", \"Oman\", \"Poland\", \"Portugal\", \"Romania\", \"Russia\", \"Scotland\", \"Sweden\", \"Switzerland\", \"United Kingdom\", \"United States\", \"Wales\"], \"locations\": [\"ARG\", \"BHR\", \"BEL\", \"BGR\", \"CHL\", \"CHN\", \"CRI\", \"HRV\", \"CZE\", \"DNK\", null, \"EST\", \"FIN\", \"FRA\", \"DEU\", \"GRC\", \"HUN\", \"ISL\", \"IRL\", \"ISR\", \"ITA\", \"LVA\", \"LTU\", \"LUX\", \"MLT\", \"MEX\", null, \"NOR\", \"OMN\", \"POL\", \"PRT\", \"ROU\", \"RUS\", null, \"SWE\", \"CHE\", \"GBR\", \"USA\", null], \"name\": \"\", \"z\": [32013.0, 58643.0, 787.0, 751452.1692307693, 751452.1692307693, 4500000.0, 751452.1692307693, 751452.1692307693, 11721.0, 35612.0, 751452.1692307693, 1907.0, 1767.0, 281.0, 183928.0, 2313.0, 5110.0, 751452.1692307693, 1800.0, 971792.0, 38458.0, 751452.1692307693, 9747.0, 751452.1692307693, 751452.1692307693, 751452.1692307693, 751452.1692307693, 2167.0, 6516.0, 47600.0, 751452.1692307693, 10289.0, 751452.1692307693, 751452.1692307693, 751452.1692307693, 751452.1692307693, 751452.1692307693, 751452.1692307693, 751452.1692307693], \"type\": \"choropleth\"}], \"name\": \"2020-12-31\"}, {\"data\": [{\"coloraxis\": \"coloraxis\", \"geo\": \"geo\", \"hovertemplate\": \"<b>%{hovertext}</b><br><br>date=2021-01-01<br>iso_code=%{location}<br>total_vaccinations=%{z}<extra></extra>\", \"hovertext\": [\"Argentina\", \"Bahrain\", \"Belgium\", \"Bulgaria\", \"Chile\", \"China\", \"Costa Rica\", \"Croatia\", \"Czechia\", \"Denmark\", \"England\", \"Estonia\", \"Finland\", \"France\", \"Germany\", \"Greece\", \"Hungary\", \"Iceland\", \"Ireland\", \"Israel\", \"Italy\", \"Latvia\", \"Lithuania\", \"Luxembourg\", \"Malta\", \"Mexico\", \"Northern Ireland\", \"Norway\", \"Oman\", \"Poland\", \"Portugal\", \"Romania\", \"Russia\", \"Scotland\", \"Sweden\", \"Switzerland\", \"United Kingdom\", \"United States\", \"Wales\"], \"locations\": [\"ARG\", \"BHR\", \"BEL\", \"BGR\", \"CHL\", \"CHN\", \"CRI\", \"HRV\", \"CZE\", \"DNK\", null, \"EST\", \"FIN\", \"FRA\", \"DEU\", \"GRC\", \"HUN\", \"ISL\", \"IRL\", \"ISR\", \"ITA\", \"LVA\", \"LTU\", \"LUX\", \"MLT\", \"MEX\", null, \"NOR\", \"OMN\", \"POL\", \"PRT\", \"ROU\", \"RUS\", null, \"SWE\", \"CHE\", \"GBR\", \"USA\", null], \"name\": \"\", \"z\": [751452.1692307693, 59351.0, 751452.1692307693, 4739.0, 751452.1692307693, 751452.1692307693, 751452.1692307693, 751452.1692307693, 11982.0, 37996.0, 751452.1692307693, 2487.0, 751452.1692307693, 290.0, 208365.0, 2591.0, 751452.1692307693, 751452.1692307693, 751452.1692307693, 1042159.0, 49366.0, 751452.1692307693, 751452.1692307693, 751452.1692307693, 751452.1692307693, 751452.1692307693, 751452.1692307693, 2173.0, 751452.1692307693, 751452.1692307693, 751452.1692307693, 11656.0, 751452.1692307693, 751452.1692307693, 751452.1692307693, 751452.1692307693, 751452.1692307693, 751452.1692307693, 751452.1692307693], \"type\": \"choropleth\"}], \"name\": \"2021-01-01\"}, {\"data\": [{\"coloraxis\": \"coloraxis\", \"geo\": \"geo\", \"hovertemplate\": \"<b>%{hovertext}</b><br><br>date=2021-01-02<br>iso_code=%{location}<br>total_vaccinations=%{z}<extra></extra>\", \"hovertext\": [\"Argentina\", \"Bahrain\", \"Belgium\", \"Bulgaria\", \"Canada\", \"Chile\", \"China\", \"Costa Rica\", \"Croatia\", \"Czechia\", \"Denmark\", \"England\", \"Estonia\", \"Finland\", \"France\", \"Germany\", \"Greece\", \"Hungary\", \"Iceland\", \"Ireland\", \"Israel\", \"Italy\", \"Latvia\", \"Lithuania\", \"Luxembourg\", \"Malta\", \"Mexico\", \"Northern Ireland\", \"Norway\", \"Oman\", \"Poland\", \"Portugal\", \"Romania\", \"Russia\", \"Scotland\", \"Sweden\", \"Switzerland\", \"United Kingdom\", \"United States\", \"Wales\"], \"locations\": [\"ARG\", \"BHR\", \"BEL\", \"BGR\", \"CAN\", \"CHL\", \"CHN\", \"CRI\", \"HRV\", \"CZE\", \"DNK\", null, \"EST\", \"FIN\", \"FRA\", \"DEU\", \"GRC\", \"HUN\", \"ISL\", \"IRL\", \"ISR\", \"ITA\", \"LVA\", \"LTU\", \"LUX\", \"MLT\", \"MEX\", null, \"NOR\", \"OMN\", \"POL\", \"PRT\", \"ROU\", \"RUS\", null, \"SWE\", \"CHE\", \"GBR\", \"USA\", null], \"name\": \"\", \"z\": [751452.1692307693, 60097.0, 751452.1692307693, 751452.1692307693, 751452.1692307693, 751452.1692307693, 751452.1692307693, 751452.1692307693, 751452.1692307693, 13231.0, 47020.0, 751452.1692307693, 751452.1692307693, 751452.1692307693, 332.0, 259596.0, 3132.0, 751452.1692307693, 751452.1692307693, 751452.1692307693, 1112917.0, 87129.0, 751452.1692307693, 751452.1692307693, 751452.1692307693, 751452.1692307693, 751452.1692307693, 751452.1692307693, 2173.0, 7231.0, 50391.0, 751452.1692307693, 13242.0, 800000.0, 751452.1692307693, 751452.1692307693, 751452.1692307693, 751452.1692307693, 4225756.0, 751452.1692307693], \"type\": \"choropleth\"}], \"name\": \"2021-01-02\"}, {\"data\": [{\"coloraxis\": \"coloraxis\", \"geo\": \"geo\", \"hovertemplate\": \"<b>%{hovertext}</b><br><br>date=2021-01-03<br>iso_code=%{location}<br>total_vaccinations=%{z}<extra></extra>\", \"hovertext\": [\"Argentina\", \"Bahrain\", \"Belgium\", \"Bulgaria\", \"Chile\", \"China\", \"Costa Rica\", \"Croatia\", \"Czechia\", \"Denmark\", \"England\", \"Estonia\", \"Finland\", \"France\", \"Germany\", \"Greece\", \"Hungary\", \"Iceland\", \"Ireland\", \"Israel\", \"Italy\", \"Latvia\", \"Lithuania\", \"Luxembourg\", \"Malta\", \"Mexico\", \"Northern Ireland\", \"Norway\", \"Oman\", \"Poland\", \"Portugal\", \"Romania\", \"Russia\", \"Scotland\", \"Slovenia\", \"Sweden\", \"Switzerland\", \"United Kingdom\", \"United States\", \"Wales\"], \"locations\": [\"ARG\", \"BHR\", \"BEL\", \"BGR\", \"CHL\", \"CHN\", \"CRI\", \"HRV\", \"CZE\", \"DNK\", null, \"EST\", \"FIN\", \"FRA\", \"DEU\", \"GRC\", \"HUN\", \"ISL\", \"IRL\", \"ISR\", \"ITA\", \"LVA\", \"LTU\", \"LUX\", \"MLT\", \"MEX\", null, \"NOR\", \"OMN\", \"POL\", \"PRT\", \"ROU\", \"RUS\", null, \"SVN\", \"SWE\", \"CHE\", \"GBR\", \"USA\", null], \"name\": \"\", \"z\": [751452.1692307693, 60689.0, 751452.1692307693, 751452.1692307693, 751452.1692307693, 751452.1692307693, 2455.0, 12285.0, 14139.0, 53099.0, 1182209.0, 2517.0, 751452.1692307693, 406.0, 284418.0, 3843.0, 12000.0, 751452.1692307693, 751452.1692307693, 1258478.0, 121936.0, 751452.1692307693, 751452.1692307693, 751452.1692307693, 751452.1692307693, 751452.1692307693, 41956.0, 2173.0, 8826.0, 50833.0, 32000.0, 13596.0, 751452.1692307693, 115533.0, 5934.0, 5266.0, 751452.1692307693, 1389655.0, 751452.1692307693, 49957.0], \"type\": \"choropleth\"}], \"name\": \"2021-01-03\"}, {\"data\": [{\"coloraxis\": \"coloraxis\", \"geo\": \"geo\", \"hovertemplate\": \"<b>%{hovertext}</b><br><br>date=2021-01-04<br>iso_code=%{location}<br>total_vaccinations=%{z}<extra></extra>\", \"hovertext\": [\"Argentina\", \"Bahrain\", \"Belgium\", \"Bulgaria\", \"Chile\", \"China\", \"Costa Rica\", \"Croatia\", \"Czechia\", \"Denmark\", \"England\", \"Estonia\", \"Finland\", \"France\", \"Germany\", \"Greece\", \"Hungary\", \"Iceland\", \"Ireland\", \"Israel\", \"Italy\", \"Latvia\", \"Lithuania\", \"Luxembourg\", \"Malta\", \"Mexico\", \"Northern Ireland\", \"Norway\", \"Oman\", \"Poland\", \"Portugal\", \"Romania\", \"Russia\", \"Scotland\", \"Slovakia\", \"Slovenia\", \"Spain\", \"Sweden\", \"Switzerland\", \"United Kingdom\", \"United States\", \"Wales\"], \"locations\": [\"ARG\", \"BHR\", \"BEL\", \"BGR\", \"CHL\", \"CHN\", \"CRI\", \"HRV\", \"CZE\", \"DNK\", null, \"EST\", \"FIN\", \"FRA\", \"DEU\", \"GRC\", \"HUN\", \"ISL\", \"IRL\", \"ISR\", \"ITA\", \"LVA\", \"LTU\", \"LUX\", \"MLT\", \"MEX\", null, \"NOR\", \"OMN\", \"POL\", \"PRT\", \"ROU\", \"RUS\", null, \"SVK\", \"SVN\", \"ESP\", \"SWE\", \"CHE\", \"GBR\", \"USA\", null], \"name\": \"\", \"z\": [39599.0, 61612.0, 788.0, 751452.1692307693, 9051.0, 751452.1692307693, 751452.1692307693, 751452.1692307693, 17691.0, 55523.0, 751452.1692307693, 2535.0, 3604.0, 1750.0, 333275.0, 9975.0, 15000.0, 751452.1692307693, 4000.0, 1397781.0, 189465.0, 2959.0, 751452.1692307693, 751452.1692307693, 1940.0, 43960.0, 751452.1692307693, 2174.0, 10728.0, 92220.0, 751452.1692307693, 25508.0, 751452.1692307693, 751452.1692307693, 0.0, 7204.0, 82834.0, 751452.1692307693, 751452.1692307693, 751452.1692307693, 4563260.0, 751452.1692307693], \"type\": \"choropleth\"}], \"name\": \"2021-01-04\"}, {\"data\": [{\"coloraxis\": \"coloraxis\", \"geo\": \"geo\", \"hovertemplate\": \"<b>%{hovertext}</b><br><br>date=2021-01-05<br>iso_code=%{location}<br>total_vaccinations=%{z}<extra></extra>\", \"hovertext\": [\"Argentina\", \"Bahrain\", \"Belgium\", \"Bulgaria\", \"Chile\", \"China\", \"Costa Rica\", \"Croatia\", \"Czechia\", \"Denmark\", \"England\", \"Estonia\", \"Finland\", \"France\", \"Germany\", \"Greece\", \"Hungary\", \"Iceland\", \"Ireland\", \"Israel\", \"Italy\", \"Latvia\", \"Lithuania\", \"Luxembourg\", \"Malta\", \"Mexico\", \"Northern Ireland\", \"Norway\", \"Oman\", \"Poland\", \"Portugal\", \"Romania\", \"Russia\", \"Scotland\", \"Slovakia\", \"Slovenia\", \"Spain\", \"Sweden\", \"Switzerland\", \"United Arab Emirates\", \"United Kingdom\", \"United States\", \"Wales\"], \"locations\": [\"ARG\", \"BHR\", \"BEL\", \"BGR\", \"CHL\", \"CHN\", \"CRI\", \"HRV\", \"CZE\", \"DNK\", null, \"EST\", \"FIN\", \"FRA\", \"DEU\", \"GRC\", \"HUN\", \"ISL\", \"IRL\", \"ISR\", \"ITA\", \"LVA\", \"LTU\", \"LUX\", \"MLT\", \"MEX\", null, \"NOR\", \"OMN\", \"POL\", \"PRT\", \"ROU\", \"RUS\", null, \"SVK\", \"SVN\", \"ESP\", \"SWE\", \"CHE\", \"ARE\", \"GBR\", \"USA\", null], \"name\": \"\", \"z\": [751452.1692307693, 63893.0, 2287.0, 5448.0, 10494.0, 751452.1692307693, 751452.1692307693, 13798.0, 22183.0, 69082.0, 751452.1692307693, 3188.0, 5445.0, 6513.0, 384847.0, 16233.0, 21000.0, 751452.1692307693, 751452.1692307693, 1520432.0, 267840.0, 3847.0, 10366.0, 751452.1692307693, 751452.1692307693, 48236.0, 751452.1692307693, 5593.0, 12751.0, 140226.0, 751452.1692307693, 41609.0, 751452.1692307693, 751452.1692307693, 425.0, 8901.0, 139339.0, 751452.1692307693, 751452.1692307693, 826301.0, 751452.1692307693, 4836469.0, 751452.1692307693], \"type\": \"choropleth\"}], \"name\": \"2021-01-05\"}, {\"data\": [{\"coloraxis\": \"coloraxis\", \"geo\": \"geo\", \"hovertemplate\": \"<b>%{hovertext}</b><br><br>date=2021-01-06<br>iso_code=%{location}<br>total_vaccinations=%{z}<extra></extra>\", \"hovertext\": [\"Argentina\", \"Bahrain\", \"Belgium\", \"Bulgaria\", \"Chile\", \"China\", \"Costa Rica\", \"Croatia\", \"Cyprus\", \"Czechia\", \"Denmark\", \"England\", \"Estonia\", \"Finland\", \"France\", \"Germany\", \"Greece\", \"Hungary\", \"Iceland\", \"Ireland\", \"Israel\", \"Italy\", \"Latvia\", \"Lithuania\", \"Luxembourg\", \"Malta\", \"Mexico\", \"Netherlands\", \"Northern Ireland\", \"Norway\", \"Oman\", \"Poland\", \"Portugal\", \"Romania\", \"Russia\", \"Saudi Arabia\", \"Scotland\", \"Slovakia\", \"Slovenia\", \"Spain\", \"Sweden\", \"Switzerland\", \"United Arab Emirates\", \"United Kingdom\", \"United States\", \"Wales\"], \"locations\": [\"ARG\", \"BHR\", \"BEL\", \"BGR\", \"CHL\", \"CHN\", \"CRI\", \"HRV\", \"CYP\", \"CZE\", \"DNK\", null, \"EST\", \"FIN\", \"FRA\", \"DEU\", \"GRC\", \"HUN\", \"ISL\", \"IRL\", \"ISR\", \"ITA\", \"LVA\", \"LTU\", \"LUX\", \"MLT\", \"MEX\", \"NLD\", null, \"NOR\", \"OMN\", \"POL\", \"PRT\", \"ROU\", \"RUS\", \"SAU\", null, \"SVK\", \"SVN\", \"ESP\", \"SWE\", \"CHE\", \"ARE\", \"GBR\", \"USA\", null], \"name\": \"\", \"z\": [751452.1692307693, 68472.0, 6061.0, 7913.0, 10699.0, 751452.1692307693, 751452.1692307693, 751452.1692307693, 3901.0, 27889.0, 89060.0, 751452.1692307693, 5009.0, 751452.1692307693, 16511.0, 441400.0, 20466.0, 31500.0, 751452.1692307693, 751452.1692307693, 1620977.0, 332257.0, 4623.0, 13865.0, 751452.1692307693, 751452.1692307693, 53185.0, 6000.0, 751452.1692307693, 14574.0, 14005.0, 160359.0, 42035.0, 58554.0, 751452.1692307693, 100000.0, 751452.1692307693, 6618.0, 12265.0, 751452.1692307693, 751452.1692307693, 751452.1692307693, 751452.1692307693, 751452.1692307693, 5306797.0, 751452.1692307693], \"type\": \"choropleth\"}], \"name\": \"2021-01-06\"}, {\"data\": [{\"coloraxis\": \"coloraxis\", \"geo\": \"geo\", \"hovertemplate\": \"<b>%{hovertext}</b><br><br>date=2021-01-07<br>iso_code=%{location}<br>total_vaccinations=%{z}<extra></extra>\", \"hovertext\": [\"Argentina\", \"Bahrain\", \"Belgium\", \"Bulgaria\", \"Chile\", \"China\", \"Costa Rica\", \"Croatia\", \"Cyprus\", \"Czechia\", \"Denmark\", \"England\", \"Estonia\", \"Finland\", \"France\", \"Germany\", \"Greece\", \"Hungary\", \"Iceland\", \"Ireland\", \"Israel\", \"Italy\", \"Latvia\", \"Lithuania\", \"Luxembourg\", \"Malta\", \"Mexico\", \"Netherlands\", \"Northern Ireland\", \"Norway\", \"Oman\", \"Poland\", \"Portugal\", \"Romania\", \"Russia\", \"Saudi Arabia\", \"Scotland\", \"Slovakia\", \"Slovenia\", \"Spain\", \"Sweden\", \"Switzerland\", \"United Arab Emirates\", \"United Kingdom\", \"United States\", \"Wales\"], \"locations\": [\"ARG\", \"BHR\", \"BEL\", \"BGR\", \"CHL\", \"CHN\", \"CRI\", \"HRV\", \"CYP\", \"CZE\", \"DNK\", null, \"EST\", \"FIN\", \"FRA\", \"DEU\", \"GRC\", \"HUN\", \"ISL\", \"IRL\", \"ISR\", \"ITA\", \"LVA\", \"LTU\", \"LUX\", \"MLT\", \"MEX\", \"NLD\", null, \"NOR\", \"OMN\", \"POL\", \"PRT\", \"ROU\", \"RUS\", \"SAU\", null, \"SVK\", \"SVN\", \"ESP\", \"SWE\", \"CHE\", \"ARE\", \"GBR\", \"USA\", null], \"name\": \"\", \"z\": [751452.1692307693, 72239.0, 14089.0, 11117.0, 751452.1692307693, 751452.1692307693, 751452.1692307693, 20603.0, 751452.1692307693, 35665.0, 106679.0, 751452.1692307693, 6632.0, 8155.0, 41702.0, 499449.0, 26006.0, 42549.0, 751452.1692307693, 15314.0, 1734162.0, 422525.0, 5430.0, 18007.0, 751452.1692307693, 751452.1692307693, 58402.0, 15000.0, 751452.1692307693, 21119.0, 14911.0, 188956.0, 751452.1692307693, 76400.0, 751452.1692307693, 137862.0, 751452.1692307693, 13631.0, 16339.0, 207323.0, 751452.1692307693, 751452.1692307693, 887697.0, 751452.1692307693, 5919418.0, 751452.1692307693], \"type\": \"choropleth\"}], \"name\": \"2021-01-07\"}, {\"data\": [{\"coloraxis\": \"coloraxis\", \"geo\": \"geo\", \"hovertemplate\": \"<b>%{hovertext}</b><br><br>date=2021-01-08<br>iso_code=%{location}<br>total_vaccinations=%{z}<extra></extra>\", \"hovertext\": [\"Argentina\", \"Bahrain\", \"Belgium\", \"Bulgaria\", \"Chile\", \"China\", \"Costa Rica\", \"Croatia\", \"Cyprus\", \"Czechia\", \"Denmark\", \"England\", \"Estonia\", \"Finland\", \"France\", \"Germany\", \"Greece\", \"Hungary\", \"Iceland\", \"Ireland\", \"Israel\", \"Italy\", \"Latvia\", \"Lithuania\", \"Luxembourg\", \"Malta\", \"Mexico\", \"Netherlands\", \"Northern Ireland\", \"Norway\", \"Oman\", \"Poland\", \"Portugal\", \"Romania\", \"Russia\", \"Saudi Arabia\", \"Scotland\", \"Serbia\", \"Slovakia\", \"Slovenia\", \"Spain\", \"Sweden\", \"Switzerland\", \"United Arab Emirates\", \"United Kingdom\", \"United States\", \"Wales\"], \"locations\": [\"ARG\", \"BHR\", \"BEL\", \"BGR\", \"CHL\", \"CHN\", \"CRI\", \"HRV\", \"CYP\", \"CZE\", \"DNK\", null, \"EST\", \"FIN\", \"FRA\", \"DEU\", \"GRC\", \"HUN\", \"ISL\", \"IRL\", \"ISR\", \"ITA\", \"LVA\", \"LTU\", \"LUX\", \"MLT\", \"MEX\", \"NLD\", null, \"NOR\", \"OMN\", \"POL\", \"PRT\", \"ROU\", \"RUS\", \"SAU\", null, \"SRB\", \"SVK\", \"SVN\", \"ESP\", \"SWE\", \"CHE\", \"ARE\", \"GBR\", \"USA\", null], \"name\": \"\", \"z\": [107542.0, 78291.0, 23167.0, 13355.0, 751452.1692307693, 751452.1692307693, 9751.0, 24985.0, 751452.1692307693, 45531.0, 115236.0, 751452.1692307693, 7973.0, 11135.0, 72389.0, 558740.0, 34787.0, 751452.1692307693, 751452.1692307693, 751452.1692307693, 1799337.0, 515934.0, 6332.0, 23150.0, 751452.1692307693, 751452.1692307693, 67468.0, 27000.0, 751452.1692307693, 22721.0, 14980.0, 198787.0, 70000.0, 92706.0, 751452.1692307693, 751452.1692307693, 751452.1692307693, 7000.0, 20548.0, 19523.0, 277976.0, 751452.1692307693, 751452.1692307693, 941556.0, 751452.1692307693, 6688231.0, 751452.1692307693], \"type\": \"choropleth\"}], \"name\": \"2021-01-08\"}, {\"data\": [{\"coloraxis\": \"coloraxis\", \"geo\": \"geo\", \"hovertemplate\": \"<b>%{hovertext}</b><br><br>date=2021-01-09<br>iso_code=%{location}<br>total_vaccinations=%{z}<extra></extra>\", \"hovertext\": [\"Argentina\", \"Bahrain\", \"Belgium\", \"Bulgaria\", \"Canada\", \"Chile\", \"China\", \"Costa Rica\", \"Croatia\", \"Cyprus\", \"Czechia\", \"Denmark\", \"England\", \"Estonia\", \"Finland\", \"France\", \"Germany\", \"Greece\", \"Hungary\", \"Iceland\", \"Ireland\", \"Israel\", \"Italy\", \"Latvia\", \"Lithuania\", \"Luxembourg\", \"Malta\", \"Mexico\", \"Netherlands\", \"Northern Ireland\", \"Norway\", \"Oman\", \"Poland\", \"Portugal\", \"Romania\", \"Russia\", \"Saudi Arabia\", \"Scotland\", \"Serbia\", \"Seychelles\", \"Slovakia\", \"Slovenia\", \"Spain\", \"Sweden\", \"Switzerland\", \"United Arab Emirates\", \"United Kingdom\", \"United States\", \"Wales\"], \"locations\": [\"ARG\", \"BHR\", \"BEL\", \"BGR\", \"CAN\", \"CHL\", \"CHN\", \"CRI\", \"HRV\", \"CYP\", \"CZE\", \"DNK\", null, \"EST\", \"FIN\", \"FRA\", \"DEU\", \"GRC\", \"HUN\", \"ISL\", \"IRL\", \"ISR\", \"ITA\", \"LVA\", \"LTU\", \"LUX\", \"MLT\", \"MEX\", \"NLD\", null, \"NOR\", \"OMN\", \"POL\", \"PRT\", \"ROU\", \"RUS\", \"SAU\", null, \"SRB\", \"SYC\", \"SVK\", \"SVN\", \"ESP\", \"SWE\", \"CHE\", \"ARE\", \"GBR\", \"USA\", null], \"name\": \"\", \"z\": [751452.1692307693, 84157.0, 26343.0, 13473.0, 751452.1692307693, 751452.1692307693, 9000000.0, 751452.1692307693, 30000.0, 751452.1692307693, 47503.0, 117134.0, 751452.1692307693, 10197.0, 751452.1692307693, 82507.0, 613305.0, 40163.0, 751452.1692307693, 751452.1692307693, 751452.1692307693, 1843191.0, 601000.0, 6635.0, 23454.0, 751452.1692307693, 751452.1692307693, 74794.0, 30000.0, 751452.1692307693, 22852.0, 15023.0, 200022.0, 751452.1692307693, 102301.0, 751452.1692307693, 751452.1692307693, 751452.1692307693, 751452.1692307693, 0.0, 22281.0, 19930.0, 751452.1692307693, 751452.1692307693, 751452.1692307693, 1020349.0, 751452.1692307693, 751452.1692307693, 751452.1692307693], \"type\": \"choropleth\"}], \"name\": \"2021-01-09\"}, {\"data\": [{\"coloraxis\": \"coloraxis\", \"geo\": \"geo\", \"hovertemplate\": \"<b>%{hovertext}</b><br><br>date=2021-01-10<br>iso_code=%{location}<br>total_vaccinations=%{z}<extra></extra>\", \"hovertext\": [\"Argentina\", \"Bahrain\", \"Belgium\", \"Bermuda\", \"Bulgaria\", \"Chile\", \"China\", \"Costa Rica\", \"Croatia\", \"Cyprus\", \"Czechia\", \"Denmark\", \"England\", \"Estonia\", \"Finland\", \"France\", \"Germany\", \"Gibraltar\", \"Greece\", \"Hungary\", \"Iceland\", \"Ireland\", \"Israel\", \"Italy\", \"Latvia\", \"Lithuania\", \"Luxembourg\", \"Malta\", \"Mexico\", \"Netherlands\", \"Northern Ireland\", \"Norway\", \"Oman\", \"Poland\", \"Portugal\", \"Romania\", \"Russia\", \"Saudi Arabia\", \"Scotland\", \"Serbia\", \"Seychelles\", \"Slovakia\", \"Slovenia\", \"Spain\", \"Sweden\", \"Switzerland\", \"United Arab Emirates\", \"United Kingdom\", \"United States\", \"Wales\"], \"locations\": [\"ARG\", \"BHR\", \"BEL\", \"BMU\", \"BGR\", \"CHL\", \"CHN\", \"CRI\", \"HRV\", \"CYP\", \"CZE\", \"DNK\", null, \"EST\", \"FIN\", \"FRA\", \"DEU\", \"GIB\", \"GRC\", \"HUN\", \"ISL\", \"IRL\", \"ISR\", \"ITA\", \"LVA\", \"LTU\", \"LUX\", \"MLT\", \"MEX\", \"NLD\", null, \"NOR\", \"OMN\", \"POL\", \"PRT\", \"ROU\", \"RUS\", \"SAU\", null, \"SRB\", \"SYC\", \"SVK\", \"SVN\", \"ESP\", \"SWE\", \"CHE\", \"ARE\", \"GBR\", \"USA\", null], \"name\": \"\", \"z\": [751452.1692307693, 89250.0, 26736.0, 0.0, 751452.1692307693, 751452.1692307693, 751452.1692307693, 751452.1692307693, 751452.1692307693, 6035.0, 49193.0, 117949.0, 2333764.0, 10749.0, 751452.1692307693, 87742.0, 645984.0, 420.0, 44080.0, 71000.0, 751452.1692307693, 40000.0, 1885946.0, 660463.0, 6966.0, 23457.0, 751452.1692307693, 751452.1692307693, 81300.0, 34000.0, 91954.0, 22958.0, 15907.0, 203053.0, 751452.1692307693, 108294.0, 751452.1692307693, 751452.1692307693, 166135.0, 9300.0, 751452.1692307693, 25326.0, 20546.0, 751452.1692307693, 32953.0, 751452.1692307693, 1086568.0, 2677971.0, 751452.1692307693, 86118.0], \"type\": \"choropleth\"}], \"name\": \"2021-01-10\"}, {\"data\": [{\"coloraxis\": \"coloraxis\", \"geo\": \"geo\", \"hovertemplate\": \"<b>%{hovertext}</b><br><br>date=2021-01-11<br>iso_code=%{location}<br>total_vaccinations=%{z}<extra></extra>\", \"hovertext\": [\"Argentina\", \"Bahrain\", \"Belgium\", \"Bermuda\", \"Bulgaria\", \"Chile\", \"China\", \"Costa Rica\", \"Croatia\", \"Cyprus\", \"Czechia\", \"Denmark\", \"England\", \"Estonia\", \"Finland\", \"France\", \"Germany\", \"Gibraltar\", \"Greece\", \"Hungary\", \"Iceland\", \"Ireland\", \"Israel\", \"Italy\", \"Latvia\", \"Lithuania\", \"Luxembourg\", \"Malta\", \"Mexico\", \"Netherlands\", \"Northern Ireland\", \"Norway\", \"Oman\", \"Poland\", \"Portugal\", \"Romania\", \"Russia\", \"Saudi Arabia\", \"Scotland\", \"Serbia\", \"Seychelles\", \"Singapore\", \"Slovakia\", \"Slovenia\", \"Spain\", \"Sweden\", \"Switzerland\", \"United Arab Emirates\", \"United Kingdom\", \"United States\", \"Wales\"], \"locations\": [\"ARG\", \"BHR\", \"BEL\", \"BMU\", \"BGR\", \"CHL\", \"CHN\", \"CRI\", \"HRV\", \"CYP\", \"CZE\", \"DNK\", null, \"EST\", \"FIN\", \"FRA\", \"DEU\", \"GIB\", \"GRC\", \"HUN\", \"ISL\", \"IRL\", \"ISR\", \"ITA\", \"LVA\", \"LTU\", \"LUX\", \"MLT\", \"MEX\", \"NLD\", null, \"NOR\", \"OMN\", \"POL\", \"PRT\", \"ROU\", \"RUS\", \"SAU\", null, \"SRB\", \"SYC\", \"SGP\", \"SVK\", \"SVN\", \"ESP\", \"SWE\", \"CHE\", \"ARE\", \"GBR\", \"USA\", null], \"name\": \"\", \"z\": [751452.1692307693, 92598.0, 32161.0, 751452.1692307693, 14161.0, 751452.1692307693, 751452.1692307693, 751452.1692307693, 751452.1692307693, 751452.1692307693, 58711.0, 118608.0, 2474205.0, 10972.0, 14196.0, 120213.0, 711798.0, 1445.0, 49645.0, 78579.0, 751452.1692307693, 751452.1692307693, 1925259.0, 739786.0, 8328.0, 25660.0, 1943.0, 4870.0, 87060.0, 35500.0, 99475.0, 23299.0, 18287.0, 257834.0, 751452.1692307693, 125190.0, 751452.1692307693, 178337.0, 178799.0, 751452.1692307693, 751452.1692307693, 3400.0, 29221.0, 22484.0, 406091.0, 751452.1692307693, 751452.1692307693, 1167251.0, 2843815.0, 8987322.0, 91336.0], \"type\": \"choropleth\"}], \"name\": \"2021-01-11\"}, {\"data\": [{\"coloraxis\": \"coloraxis\", \"geo\": \"geo\", \"hovertemplate\": \"<b>%{hovertext}</b><br><br>date=2021-01-12<br>iso_code=%{location}<br>total_vaccinations=%{z}<extra></extra>\", \"hovertext\": [\"Argentina\", \"Bahrain\", \"Belgium\", \"Bermuda\", \"Bulgaria\", \"Canada\", \"Chile\", \"China\", \"Costa Rica\", \"Croatia\", \"Cyprus\", \"Czechia\", \"Denmark\", \"England\", \"Estonia\", \"Finland\", \"France\", \"Germany\", \"Gibraltar\", \"Greece\", \"Hungary\", \"Iceland\", \"Indonesia\", \"Ireland\", \"Israel\", \"Italy\", \"Latvia\", \"Lithuania\", \"Luxembourg\", \"Malta\", \"Mexico\", \"Netherlands\", \"Northern Ireland\", \"Norway\", \"Oman\", \"Poland\", \"Portugal\", \"Romania\", \"Russia\", \"Saudi Arabia\", \"Scotland\", \"Serbia\", \"Seychelles\", \"Singapore\", \"Slovakia\", \"Slovenia\", \"Spain\", \"Sweden\", \"Switzerland\", \"United Arab Emirates\", \"United Kingdom\", \"United States\", \"Wales\"], \"locations\": [\"ARG\", \"BHR\", \"BEL\", \"BMU\", \"BGR\", \"CAN\", \"CHL\", \"CHN\", \"CRI\", \"HRV\", \"CYP\", \"CZE\", \"DNK\", null, \"EST\", \"FIN\", \"FRA\", \"DEU\", \"GIB\", \"GRC\", \"HUN\", \"ISL\", \"IDN\", \"IRL\", \"ISR\", \"ITA\", \"LVA\", \"LTU\", \"LUX\", \"MLT\", \"MEX\", \"NLD\", null, \"NOR\", \"OMN\", \"POL\", \"PRT\", \"ROU\", \"RUS\", \"SAU\", null, \"SRB\", \"SYC\", \"SGP\", \"SVK\", \"SVN\", \"ESP\", \"SWE\", \"CHE\", \"ARE\", \"GBR\", \"USA\", null], \"name\": \"\", \"z\": [751452.1692307693, 97776.0, 47356.0, 751452.1692307693, 15780.0, 267078.0, 751452.1692307693, 751452.1692307693, 751452.1692307693, 751452.1692307693, 751452.1692307693, 71668.0, 119068.0, 2661850.0, 11896.0, 17617.0, 171924.0, 792593.0, 2501.0, 56199.0, 86929.0, 751452.1692307693, 0.0, 751452.1692307693, 1983790.0, 819352.0, 9948.0, 27741.0, 2372.0, 751452.1692307693, 92879.0, 45000.0, 109257.0, 27451.0, 20649.0, 309620.0, 751452.1692307693, 140447.0, 751452.1692307693, 751452.1692307693, 194955.0, 751452.1692307693, 751452.1692307693, 6200.0, 39735.0, 24462.0, 488122.0, 751452.1692307693, 751452.1692307693, 1275652.0, 3067541.0, 9327138.0, 101479.0], \"type\": \"choropleth\"}], \"name\": \"2021-01-12\"}, {\"data\": [{\"coloraxis\": \"coloraxis\", \"geo\": \"geo\", \"hovertemplate\": \"<b>%{hovertext}</b><br><br>date=2021-01-13<br>iso_code=%{location}<br>total_vaccinations=%{z}<extra></extra>\", \"hovertext\": [\"Argentina\", \"Bahrain\", \"Belgium\", \"Bermuda\", \"Bulgaria\", \"Canada\", \"Chile\", \"China\", \"Costa Rica\", \"Croatia\", \"Cyprus\", \"Czechia\", \"Denmark\", \"England\", \"Estonia\", \"Finland\", \"France\", \"Germany\", \"Gibraltar\", \"Greece\", \"Hungary\", \"Iceland\", \"Indonesia\", \"Ireland\", \"Israel\", \"Italy\", \"Latvia\", \"Lithuania\", \"Luxembourg\", \"Malta\", \"Mexico\", \"Netherlands\", \"Northern Ireland\", \"Norway\", \"Oman\", \"Poland\", \"Portugal\", \"Romania\", \"Russia\", \"Saudi Arabia\", \"Scotland\", \"Serbia\", \"Seychelles\", \"Singapore\", \"Slovakia\", \"Slovenia\", \"Spain\", \"Sweden\", \"Switzerland\", \"Turkey\", \"United Arab Emirates\", \"United Kingdom\", \"United States\", \"Wales\"], \"locations\": [\"ARG\", \"BHR\", \"BEL\", \"BMU\", \"BGR\", \"CAN\", \"CHL\", \"CHN\", \"CRI\", \"HRV\", \"CYP\", \"CZE\", \"DNK\", null, \"EST\", \"FIN\", \"FRA\", \"DEU\", \"GIB\", \"GRC\", \"HUN\", \"ISL\", \"IDN\", \"IRL\", \"ISR\", \"ITA\", \"LVA\", \"LTU\", \"LUX\", \"MLT\", \"MEX\", \"NLD\", null, \"NOR\", \"OMN\", \"POL\", \"PRT\", \"ROU\", \"RUS\", \"SAU\", null, \"SRB\", \"SYC\", \"SGP\", \"SVK\", \"SVN\", \"ESP\", \"SWE\", \"CHE\", \"TUR\", \"ARE\", \"GBR\", \"USA\", null], \"name\": \"\", \"z\": [166833.0, 101363.0, 67416.0, 751452.1692307693, 17038.0, 288488.0, 14612.0, 10000000.0, 751452.1692307693, 34553.0, 751452.1692307693, 84950.0, 131742.0, 2910027.0, 13481.0, 23126.0, 226955.0, 887751.0, 751452.1692307693, 64619.0, 96101.0, 751452.1692307693, 751452.1692307693, 77303.0, 2090379.0, 910664.0, 11454.0, 33820.0, 2871.0, 751452.1692307693, 192567.0, 47000.0, 121711.0, 37034.0, 22749.0, 369212.0, 751452.1692307693, 154268.0, 1000000.0, 751452.1692307693, 211397.0, 751452.1692307693, 2000.0, 751452.1692307693, 46243.0, 29561.0, 581638.0, 751452.1692307693, 751452.1692307693, 0.0, 1394580.0, 3356229.0, 10278462.0, 113094.0], \"type\": \"choropleth\"}], \"name\": \"2021-01-13\"}, {\"data\": [{\"coloraxis\": \"coloraxis\", \"geo\": \"geo\", \"hovertemplate\": \"<b>%{hovertext}</b><br><br>date=2021-01-14<br>iso_code=%{location}<br>total_vaccinations=%{z}<extra></extra>\", \"hovertext\": [\"Argentina\", \"Bahrain\", \"Belgium\", \"Bermuda\", \"Bulgaria\", \"Canada\", \"Chile\", \"China\", \"Costa Rica\", \"Croatia\", \"Cyprus\", \"Czechia\", \"Denmark\", \"England\", \"Estonia\", \"Finland\", \"France\", \"Germany\", \"Gibraltar\", \"Greece\", \"Hungary\", \"Iceland\", \"Indonesia\", \"Ireland\", \"Israel\", \"Italy\", \"Latvia\", \"Lithuania\", \"Luxembourg\", \"Malta\", \"Mexico\", \"Netherlands\", \"Northern Cyprus\", \"Northern Ireland\", \"Norway\", \"Oman\", \"Poland\", \"Portugal\", \"Romania\", \"Saudi Arabia\", \"Scotland\", \"Serbia\", \"Seychelles\", \"Singapore\", \"Slovakia\", \"Slovenia\", \"Spain\", \"Sweden\", \"Switzerland\", \"Turkey\", \"United Arab Emirates\", \"United Kingdom\", \"United States\", \"Wales\"], \"locations\": [\"ARG\", \"BHR\", \"BEL\", \"BMU\", \"BGR\", \"CAN\", \"CHL\", \"CHN\", \"CRI\", \"HRV\", \"CYP\", \"CZE\", \"DNK\", null, \"EST\", \"FIN\", \"FRA\", \"DEU\", \"GIB\", \"GRC\", \"HUN\", \"ISL\", \"IDN\", \"IRL\", \"ISR\", \"ITA\", \"LVA\", \"LTU\", \"LUX\", \"MLT\", \"MEX\", \"NLD\", null, null, \"NOR\", \"OMN\", \"POL\", \"PRT\", \"ROU\", \"SAU\", null, \"SRB\", \"SYC\", \"SGP\", \"SVK\", \"SVN\", \"ESP\", \"SWE\", \"CHE\", \"TUR\", \"ARE\", \"GBR\", \"USA\", null], \"name\": \"\", \"z\": [751452.1692307693, 109566.0, 88467.0, 751452.1692307693, 17686.0, 310788.0, 18526.0, 751452.1692307693, 751452.1692307693, 38000.0, 751452.1692307693, 99571.0, 149560.0, 3189674.0, 14879.0, 33033.0, 295661.0, 987765.0, 751452.1692307693, 70695.0, 105728.0, 751452.1692307693, 751452.1692307693, 751452.1692307693, 2213258.0, 1000329.0, 13271.0, 42413.0, 3233.0, 751452.1692307693, 329983.0, 751452.1692307693, 0.0, 133831.0, 45351.0, 24204.0, 410480.0, 751452.1692307693, 167612.0, 751452.1692307693, 228171.0, 18136.0, 751452.1692307693, 751452.1692307693, 53830.0, 35159.0, 676186.0, 751452.1692307693, 66000.0, 279452.0, 1527833.0, 3678180.0, 11148991.0, 126504.0], \"type\": \"choropleth\"}], \"name\": \"2021-01-14\"}, {\"data\": [{\"coloraxis\": \"coloraxis\", \"geo\": \"geo\", \"hovertemplate\": \"<b>%{hovertext}</b><br><br>date=2021-01-15<br>iso_code=%{location}<br>total_vaccinations=%{z}<extra></extra>\", \"hovertext\": [\"Argentina\", \"Bahrain\", \"Belgium\", \"Bermuda\", \"Bulgaria\", \"Canada\", \"Chile\", \"China\", \"Costa Rica\", \"Croatia\", \"Cyprus\", \"Czechia\", \"Denmark\", \"England\", \"Estonia\", \"Finland\", \"France\", \"Germany\", \"Gibraltar\", \"Greece\", \"Hungary\", \"Iceland\", \"India\", \"Indonesia\", \"Ireland\", \"Israel\", \"Italy\", \"Latvia\", \"Lithuania\", \"Luxembourg\", \"Malta\", \"Mexico\", \"Netherlands\", \"Northern Cyprus\", \"Northern Ireland\", \"Norway\", \"Oman\", \"Poland\", \"Portugal\", \"Romania\", \"Saudi Arabia\", \"Scotland\", \"Serbia\", \"Seychelles\", \"Singapore\", \"Slovakia\", \"Slovenia\", \"Spain\", \"Sweden\", \"Switzerland\", \"Turkey\", \"United Arab Emirates\", \"United Kingdom\", \"United States\", \"Wales\"], \"locations\": [\"ARG\", \"BHR\", \"BEL\", \"BMU\", \"BGR\", \"CAN\", \"CHL\", \"CHN\", \"CRI\", \"HRV\", \"CYP\", \"CZE\", \"DNK\", null, \"EST\", \"FIN\", \"FRA\", \"DEU\", \"GIB\", \"GRC\", \"HUN\", \"ISL\", \"IND\", \"IDN\", \"IRL\", \"ISR\", \"ITA\", \"LVA\", \"LTU\", \"LUX\", \"MLT\", \"MEX\", \"NLD\", null, null, \"NOR\", \"OMN\", \"POL\", \"PRT\", \"ROU\", \"SAU\", null, \"SRB\", \"SYC\", \"SGP\", \"SVK\", \"SVN\", \"ESP\", \"SWE\", \"CHE\", \"TUR\", \"ARE\", \"GBR\", \"USA\", null], \"name\": \"\", \"z\": [200759.0, 122819.0, 110211.0, 751452.1692307693, 18126.0, 342227.0, 21876.0, 751452.1692307693, 24859.0, 41532.0, 10226.0, 112927.0, 164693.0, 3514385.0, 16677.0, 43143.0, 352431.0, 1079421.0, 5135.0, 75276.0, 112847.0, 751452.1692307693, 0.0, 751452.1692307693, 751452.1692307693, 2278746.0, 1084630.0, 15136.0, 49615.0, 751452.1692307693, 9496.0, 417375.0, 55000.0, 751452.1692307693, 137380.0, 49794.0, 751452.1692307693, 436963.0, 106000.0, 183669.0, 751452.1692307693, 751452.1692307693, 751452.1692307693, 4000.0, 751452.1692307693, 61372.0, 40778.0, 768950.0, 751452.1692307693, 751452.1692307693, 616652.0, 1665987.0, 4006440.0, 12279180.0, 751452.1692307693], \"type\": \"choropleth\"}], \"name\": \"2021-01-15\"}, {\"data\": [{\"coloraxis\": \"coloraxis\", \"geo\": \"geo\", \"hovertemplate\": \"<b>%{hovertext}</b><br><br>date=2021-01-16<br>iso_code=%{location}<br>total_vaccinations=%{z}<extra></extra>\", \"hovertext\": [\"Argentina\", \"Bahrain\", \"Belgium\", \"Bermuda\", \"Brazil\", \"Bulgaria\", \"Canada\", \"Chile\", \"China\", \"Costa Rica\", \"Croatia\", \"Cyprus\", \"Czechia\", \"Denmark\", \"England\", \"Estonia\", \"Finland\", \"France\", \"Germany\", \"Gibraltar\", \"Greece\", \"Hungary\", \"Iceland\", \"India\", \"Indonesia\", \"Ireland\", \"Israel\", \"Italy\", \"Latvia\", \"Lithuania\", \"Luxembourg\", \"Malta\", \"Mexico\", \"Netherlands\", \"Northern Cyprus\", \"Northern Ireland\", \"Norway\", \"Oman\", \"Poland\", \"Portugal\", \"Romania\", \"Saudi Arabia\", \"Scotland\", \"Serbia\", \"Seychelles\", \"Singapore\", \"Slovakia\", \"Slovenia\", \"Spain\", \"Sweden\", \"Switzerland\", \"Turkey\", \"United Arab Emirates\", \"United Kingdom\", \"United States\", \"Wales\"], \"locations\": [\"ARG\", \"BHR\", \"BEL\", \"BMU\", \"BRA\", \"BGR\", \"CAN\", \"CHL\", \"CHN\", \"CRI\", \"HRV\", \"CYP\", \"CZE\", \"DNK\", null, \"EST\", \"FIN\", \"FRA\", \"DEU\", \"GIB\", \"GRC\", \"HUN\", \"ISL\", \"IND\", \"IDN\", \"IRL\", \"ISR\", \"ITA\", \"LVA\", \"LTU\", \"LUX\", \"MLT\", \"MEX\", \"NLD\", null, null, \"NOR\", \"OMN\", \"POL\", \"PRT\", \"ROU\", \"SAU\", null, \"SRB\", \"SYC\", \"SGP\", \"SVK\", \"SVN\", \"ESP\", \"SWE\", \"CHE\", \"TUR\", \"ARE\", \"GBR\", \"USA\", null], \"name\": \"\", \"z\": [751452.1692307693, 137159.0, 115063.0, 1665.0, 0.0, 18332.0, 751452.1692307693, 21937.0, 751452.1692307693, 751452.1692307693, 45906.0, 751452.1692307693, 116221.0, 169342.0, 3791594.0, 17959.0, 751452.1692307693, 369411.0, 1135024.0, 5847.0, 79744.0, 119944.0, 751452.1692307693, 191181.0, 751452.1692307693, 751452.1692307693, 2333349.0, 1145650.0, 15799.0, 50704.0, 751452.1692307693, 751452.1692307693, 463246.0, 751452.1692307693, 751452.1692307693, 140561.0, 50505.0, 24773.0, 457303.0, 751452.1692307693, 196090.0, 751452.1692307693, 751452.1692307693, 751452.1692307693, 7000.0, 751452.1692307693, 62580.0, 41439.0, 751452.1692307693, 751452.1692307693, 751452.1692307693, 676903.0, 1797926.0, 4286830.0, 751452.1692307693, 751452.1692307693], \"type\": \"choropleth\"}], \"name\": \"2021-01-16\"}, {\"data\": [{\"coloraxis\": \"coloraxis\", \"geo\": \"geo\", \"hovertemplate\": \"<b>%{hovertext}</b><br><br>date=2021-01-17<br>iso_code=%{location}<br>total_vaccinations=%{z}<extra></extra>\", \"hovertext\": [\"Argentina\", \"Bahrain\", \"Belgium\", \"Bermuda\", \"Brazil\", \"Bulgaria\", \"Canada\", \"Chile\", \"China\", \"Costa Rica\", \"Croatia\", \"Cyprus\", \"Czechia\", \"Denmark\", \"England\", \"Estonia\", \"Finland\", \"France\", \"Germany\", \"Gibraltar\", \"Greece\", \"Hungary\", \"Iceland\", \"India\", \"Indonesia\", \"Ireland\", \"Israel\", \"Italy\", \"Latvia\", \"Lithuania\", \"Luxembourg\", \"Malta\", \"Mexico\", \"Netherlands\", \"Northern Cyprus\", \"Northern Ireland\", \"Norway\", \"Oman\", \"Poland\", \"Portugal\", \"Romania\", \"Saudi Arabia\", \"Scotland\", \"Serbia\", \"Seychelles\", \"Singapore\", \"Slovakia\", \"Slovenia\", \"Spain\", \"Sweden\", \"Switzerland\", \"Turkey\", \"United Arab Emirates\", \"United Kingdom\", \"United States\", \"Wales\"], \"locations\": [\"ARG\", \"BHR\", \"BEL\", \"BMU\", \"BRA\", \"BGR\", \"CAN\", \"CHL\", \"CHN\", \"CRI\", \"HRV\", \"CYP\", \"CZE\", \"DNK\", null, \"EST\", \"FIN\", \"FRA\", \"DEU\", \"GIB\", \"GRC\", \"HUN\", \"ISL\", \"IND\", \"IDN\", \"IRL\", \"ISR\", \"ITA\", \"LVA\", \"LTU\", \"LUX\", \"MLT\", \"MEX\", \"NLD\", null, null, \"NOR\", \"OMN\", \"POL\", \"PRT\", \"ROU\", \"SAU\", null, \"SRB\", \"SYC\", \"SGP\", \"SVK\", \"SVN\", \"ESP\", \"SWE\", \"CHE\", \"TUR\", \"ARE\", \"GBR\", \"USA\", null], \"name\": \"\", \"z\": [751452.1692307693, 141563.0, 117907.0, 751452.1692307693, 112.0, 18453.0, 751452.1692307693, 21972.0, 751452.1692307693, 751452.1692307693, 751452.1692307693, 751452.1692307693, 119258.0, 172605.0, 3947442.0, 18179.0, 751452.1692307693, 378646.0, 1180039.0, 5847.0, 751452.1692307693, 123188.0, 751452.1692307693, 224301.0, 751452.1692307693, 94000.0, 2483574.0, 1181066.0, 15916.0, 51834.0, 3755.0, 11705.0, 472142.0, 77000.0, 751452.1692307693, 146733.0, 50820.0, 25446.0, 469466.0, 751452.1692307693, 205060.0, 295530.0, 268689.0, 751452.1692307693, 751452.1692307693, 751452.1692307693, 62634.0, 42035.0, 751452.1692307693, 97358.0, 751452.1692307693, 706451.0, 1882778.0, 4514802.0, 751452.1692307693, 151938.0], \"type\": \"choropleth\"}], \"name\": \"2021-01-17\"}, {\"data\": [{\"coloraxis\": \"coloraxis\", \"geo\": \"geo\", \"hovertemplate\": \"<b>%{hovertext}</b><br><br>date=2021-01-18<br>iso_code=%{location}<br>total_vaccinations=%{z}<extra></extra>\", \"hovertext\": [\"Argentina\", \"Austria\", \"Bahrain\", \"Belgium\", \"Bermuda\", \"Brazil\", \"Bulgaria\", \"Canada\", \"Chile\", \"China\", \"Costa Rica\", \"Croatia\", \"Cyprus\", \"Czechia\", \"Denmark\", \"England\", \"Estonia\", \"Finland\", \"France\", \"Germany\", \"Gibraltar\", \"Greece\", \"Hungary\", \"Iceland\", \"India\", \"Indonesia\", \"Ireland\", \"Israel\", \"Italy\", \"Latvia\", \"Lithuania\", \"Luxembourg\", \"Malta\", \"Mexico\", \"Netherlands\", \"Northern Cyprus\", \"Northern Ireland\", \"Norway\", \"Oman\", \"Poland\", \"Portugal\", \"Romania\", \"Scotland\", \"Serbia\", \"Seychelles\", \"Singapore\", \"Slovakia\", \"Slovenia\", \"Spain\", \"Sweden\", \"Switzerland\", \"Turkey\", \"United Arab Emirates\", \"United Kingdom\", \"United States\", \"Wales\"], \"locations\": [\"ARG\", \"AUT\", \"BHR\", \"BEL\", \"BMU\", \"BRA\", \"BGR\", \"CAN\", \"CHL\", \"CHN\", \"CRI\", \"HRV\", \"CYP\", \"CZE\", \"DNK\", null, \"EST\", \"FIN\", \"FRA\", \"DEU\", \"GIB\", \"GRC\", \"HUN\", \"ISL\", \"IND\", \"IDN\", \"IRL\", \"ISR\", \"ITA\", \"LVA\", \"LTU\", \"LUX\", \"MLT\", \"MEX\", \"NLD\", null, null, \"NOR\", \"OMN\", \"POL\", \"PRT\", \"ROU\", null, \"SRB\", \"SYC\", \"SGP\", \"SVK\", \"SVN\", \"ESP\", \"SWE\", \"CHE\", \"TUR\", \"ARE\", \"GBR\", \"USA\", null], \"name\": \"\", \"z\": [751452.1692307693, 61012.0, 142831.0, 127789.0, 751452.1692307693, 1109.0, 19638.0, 422864.0, 32385.0, 751452.1692307693, 29389.0, 751452.1692307693, 751452.1692307693, 132811.0, 178635.0, 4118342.0, 18275.0, 54568.0, 453280.0, 1251672.0, 6435.0, 85223.0, 131332.0, 751452.1692307693, 454049.0, 751452.1692307693, 751452.1692307693, 2669944.0, 1221544.0, 16759.0, 56316.0, 4569.0, 13002.0, 492529.0, 751452.1692307693, 751452.1692307693, 154436.0, 52328.0, 26758.0, 495164.0, 751452.1692307693, 235239.0, 288468.0, 751452.1692307693, 751452.1692307693, 751452.1692307693, 71617.0, 43081.0, 897942.0, 751452.1692307693, 751452.1692307693, 832412.0, 1971521.0, 4723443.0, 751452.1692307693, 162197.0], \"type\": \"choropleth\"}], \"name\": \"2021-01-18\"}, {\"data\": [{\"coloraxis\": \"coloraxis\", \"geo\": \"geo\", \"hovertemplate\": \"<b>%{hovertext}</b><br><br>date=2021-01-19<br>iso_code=%{location}<br>total_vaccinations=%{z}<extra></extra>\", \"hovertext\": [\"Argentina\", \"Austria\", \"Bahrain\", \"Belgium\", \"Bermuda\", \"Brazil\", \"Bulgaria\", \"Canada\", \"Chile\", \"China\", \"Costa Rica\", \"Croatia\", \"Cyprus\", \"Czechia\", \"Denmark\", \"England\", \"Estonia\", \"Finland\", \"France\", \"Germany\", \"Gibraltar\", \"Greece\", \"Hungary\", \"Iceland\", \"India\", \"Indonesia\", \"Ireland\", \"Israel\", \"Italy\", \"Latvia\", \"Lithuania\", \"Luxembourg\", \"Malta\", \"Mexico\", \"Netherlands\", \"Northern Cyprus\", \"Northern Ireland\", \"Norway\", \"Oman\", \"Panama\", \"Poland\", \"Portugal\", \"Romania\", \"Scotland\", \"Serbia\", \"Seychelles\", \"Singapore\", \"Slovakia\", \"Slovenia\", \"Spain\", \"Sweden\", \"Switzerland\", \"Turkey\", \"United Arab Emirates\", \"United Kingdom\", \"United States\", \"Wales\"], \"locations\": [\"ARG\", \"AUT\", \"BHR\", \"BEL\", \"BMU\", \"BRA\", \"BGR\", \"CAN\", \"CHL\", \"CHN\", \"CRI\", \"HRV\", \"CYP\", \"CZE\", \"DNK\", null, \"EST\", \"FIN\", \"FRA\", \"DEU\", \"GIB\", \"GRC\", \"HUN\", \"ISL\", \"IND\", \"IDN\", \"IRL\", \"ISR\", \"ITA\", \"LVA\", \"LTU\", \"LUX\", \"MLT\", \"MEX\", \"NLD\", null, null, \"NOR\", \"OMN\", \"PAN\", \"POL\", \"PRT\", \"ROU\", null, \"SRB\", \"SYC\", \"SGP\", \"SVK\", \"SVN\", \"ESP\", \"SWE\", \"CHE\", \"TUR\", \"ARE\", \"GBR\", \"USA\", null], \"name\": \"\", \"z\": [751452.1692307693, 71508.0, 143596.0, 145120.0, 751452.1692307693, 11470.0, 22226.0, 459780.0, 50924.0, 751452.1692307693, 751452.1692307693, 54304.0, 751452.1692307693, 147433.0, 183251.0, 4419704.0, 19315.0, 55824.0, 568486.0, 1339357.0, 7017.0, 93179.0, 133257.0, 751452.1692307693, 674835.0, 751452.1692307693, 751452.1692307693, 2876815.0, 1252414.0, 17635.0, 62580.0, 5294.0, 14276.0, 498122.0, 751452.1692307693, 4968.0, 160396.0, 57585.0, 28049.0, 0.0, 541229.0, 751452.1692307693, 270046.0, 314079.0, 751452.1692307693, 10976.0, 751452.1692307693, 78663.0, 43869.0, 966097.0, 751452.1692307693, 110000.0, 950635.0, 2065367.0, 5070365.0, 15707588.0, 176186.0], \"type\": \"choropleth\"}], \"name\": \"2021-01-19\"}, {\"data\": [{\"coloraxis\": \"coloraxis\", \"geo\": \"geo\", \"hovertemplate\": \"<b>%{hovertext}</b><br><br>date=2021-01-20<br>iso_code=%{location}<br>total_vaccinations=%{z}<extra></extra>\", \"hovertext\": [\"Argentina\", \"Austria\", \"Bahrain\", \"Belgium\", \"Bermuda\", \"Brazil\", \"Bulgaria\", \"Canada\", \"Chile\", \"China\", \"Costa Rica\", \"Croatia\", \"Cyprus\", \"Czechia\", \"Denmark\", \"England\", \"Estonia\", \"Finland\", \"France\", \"Germany\", \"Gibraltar\", \"Greece\", \"Hungary\", \"Iceland\", \"India\", \"Indonesia\", \"Ireland\", \"Israel\", \"Italy\", \"Latvia\", \"Lithuania\", \"Luxembourg\", \"Malta\", \"Mexico\", \"Netherlands\", \"Northern Cyprus\", \"Northern Ireland\", \"Norway\", \"Oman\", \"Panama\", \"Poland\", \"Portugal\", \"Romania\", \"Scotland\", \"Serbia\", \"Seychelles\", \"Singapore\", \"Slovakia\", \"Slovenia\", \"Spain\", \"Sweden\", \"Switzerland\", \"Turkey\", \"United Arab Emirates\", \"United Kingdom\", \"United States\", \"Wales\"], \"locations\": [\"ARG\", \"AUT\", \"BHR\", \"BEL\", \"BMU\", \"BRA\", \"BGR\", \"CAN\", \"CHL\", \"CHN\", \"CRI\", \"HRV\", \"CYP\", \"CZE\", \"DNK\", null, \"EST\", \"FIN\", \"FRA\", \"DEU\", \"GIB\", \"GRC\", \"HUN\", \"ISL\", \"IND\", \"IDN\", \"IRL\", \"ISR\", \"ITA\", \"LVA\", \"LTU\", \"LUX\", \"MLT\", \"MEX\", \"NLD\", null, null, \"NOR\", \"OMN\", \"PAN\", \"POL\", \"PRT\", \"ROU\", null, \"SRB\", \"SYC\", \"SGP\", \"SVK\", \"SVN\", \"ESP\", \"SWE\", \"CHE\", \"TUR\", \"ARE\", \"GBR\", \"USA\", null], \"name\": \"\", \"z\": [247933.0, 88895.0, 144130.0, 163977.0, 751452.1692307693, 28543.0, 24127.0, 485739.0, 54036.0, 15000000.0, 751452.1692307693, 751452.1692307693, 751452.1692307693, 162482.0, 186682.0, 4740578.0, 20478.0, 62061.0, 688901.0, 1460126.0, 7017.0, 107335.0, 138584.0, 6205.0, 806484.0, 751452.1692307693, 121900.0, 3093060.0, 1280659.0, 18405.0, 66011.0, 6193.0, 15316.0, 501030.0, 100000.0, 751452.1692307693, 166538.0, 68025.0, 29548.0, 6.0, 591785.0, 751452.1692307693, 308384.0, 339337.0, 44611.0, 13163.0, 751452.1692307693, 85957.0, 46467.0, 1025937.0, 751452.1692307693, 751452.1692307693, 1052493.0, 2161150.0, 5437284.0, 16525281.0, 190831.0], \"type\": \"choropleth\"}], \"name\": \"2021-01-20\"}, {\"data\": [{\"coloraxis\": \"coloraxis\", \"geo\": \"geo\", \"hovertemplate\": \"<b>%{hovertext}</b><br><br>date=2021-01-21<br>iso_code=%{location}<br>total_vaccinations=%{z}<extra></extra>\", \"hovertext\": [\"Argentina\", \"Austria\", \"Belgium\", \"Bermuda\", \"Brazil\", \"Bulgaria\", \"Canada\", \"Chile\", \"China\", \"Costa Rica\", \"Croatia\", \"Cyprus\", \"Czechia\", \"Denmark\", \"Ecuador\", \"England\", \"Estonia\", \"Finland\", \"France\", \"Germany\", \"Gibraltar\", \"Greece\", \"Hungary\", \"Iceland\", \"India\", \"Indonesia\", \"Ireland\", \"Isle of Man\", \"Israel\", \"Italy\", \"Latvia\", \"Lithuania\", \"Luxembourg\", \"Malta\", \"Mexico\", \"Netherlands\", \"Northern Cyprus\", \"Northern Ireland\", \"Norway\", \"Oman\", \"Panama\", \"Poland\", \"Portugal\", \"Romania\", \"Scotland\", \"Serbia\", \"Seychelles\", \"Singapore\", \"Slovakia\", \"Slovenia\", \"Spain\", \"Sweden\", \"Switzerland\", \"Turkey\", \"United Arab Emirates\", \"United Kingdom\", \"United States\", \"Wales\"], \"locations\": [\"ARG\", \"AUT\", \"BEL\", \"BMU\", \"BRA\", \"BGR\", \"CAN\", \"CHL\", \"CHN\", \"CRI\", \"HRV\", \"CYP\", \"CZE\", \"DNK\", \"ECU\", null, \"EST\", \"FIN\", \"FRA\", \"DEU\", \"GIB\", \"GRC\", \"HUN\", \"ISL\", \"IND\", \"IDN\", \"IRL\", \"IMN\", \"ISR\", \"ITA\", \"LVA\", \"LTU\", \"LUX\", \"MLT\", \"MEX\", \"NLD\", null, null, \"NOR\", \"OMN\", \"PAN\", \"POL\", \"PRT\", \"ROU\", null, \"SRB\", \"SYC\", \"SGP\", \"SVK\", \"SVN\", \"ESP\", \"SWE\", \"CHE\", \"TUR\", \"ARE\", \"GBR\", \"USA\", null], \"name\": \"\", \"z\": [265724.0, 108252.0, 190568.0, 751452.1692307693, 136519.0, 25251.0, 706464.0, 62822.0, 751452.1692307693, 751452.1692307693, 751452.1692307693, 751452.1692307693, 178727.0, 190557.0, 0.0, 5100475.0, 21985.0, 78300.0, 826849.0, 1552474.0, 7947.0, 123347.0, 144798.0, 751452.1692307693, 1043534.0, 751452.1692307693, 751452.1692307693, 3558.0, 3322410.0, 1314039.0, 18684.0, 67460.0, 6897.0, 16531.0, 552335.0, 751452.1692307693, 751452.1692307693, 173549.0, 76345.0, 751452.1692307693, 2728.0, 644999.0, 751452.1692307693, 348096.0, 363143.0, 84832.0, 751452.1692307693, 751452.1692307693, 92828.0, 52098.0, 1103301.0, 751452.1692307693, 169783.0, 1120258.0, 2246069.0, 5849899.0, 17546374.0, 212732.0], \"type\": \"choropleth\"}], \"name\": \"2021-01-21\"}, {\"data\": [{\"coloraxis\": \"coloraxis\", \"geo\": \"geo\", \"hovertemplate\": \"<b>%{hovertext}</b><br><br>date=2021-01-22<br>iso_code=%{location}<br>total_vaccinations=%{z}<extra></extra>\", \"hovertext\": [\"Argentina\", \"Austria\", \"Belgium\", \"Bermuda\", \"Brazil\", \"Bulgaria\", \"Canada\", \"Chile\", \"China\", \"Costa Rica\", \"Croatia\", \"Cyprus\", \"Czechia\", \"Denmark\", \"Ecuador\", \"England\", \"Estonia\", \"Finland\", \"France\", \"Germany\", \"Gibraltar\", \"Greece\", \"Hungary\", \"Iceland\", \"India\", \"Indonesia\", \"Ireland\", \"Isle of Man\", \"Israel\", \"Italy\", \"Latvia\", \"Lithuania\", \"Luxembourg\", \"Malta\", \"Mexico\", \"Netherlands\", \"Northern Cyprus\", \"Northern Ireland\", \"Norway\", \"Oman\", \"Panama\", \"Poland\", \"Portugal\", \"Romania\", \"Scotland\", \"Serbia\", \"Seychelles\", \"Singapore\", \"Slovakia\", \"Slovenia\", \"Spain\", \"Sweden\", \"Switzerland\", \"Turkey\", \"United Arab Emirates\", \"United Kingdom\", \"United States\", \"Wales\"], \"locations\": [\"ARG\", \"AUT\", \"BEL\", \"BMU\", \"BRA\", \"BGR\", \"CAN\", \"CHL\", \"CHN\", \"CRI\", \"HRV\", \"CYP\", \"CZE\", \"DNK\", \"ECU\", null, \"EST\", \"FIN\", \"FRA\", \"DEU\", \"GIB\", \"GRC\", \"HUN\", \"ISL\", \"IND\", \"IDN\", \"IRL\", \"IMN\", \"ISR\", \"ITA\", \"LVA\", \"LTU\", \"LUX\", \"MLT\", \"MEX\", \"NLD\", null, null, \"NOR\", \"OMN\", \"PAN\", \"POL\", \"PRT\", \"ROU\", null, \"SRB\", \"SYC\", \"SGP\", \"SVK\", \"SVN\", \"ESP\", \"SWE\", \"CHE\", \"TUR\", \"ARE\", \"GBR\", \"USA\", null], \"name\": \"\", \"z\": [279602.0, 124756.0, 216058.0, 751452.1692307693, 245877.0, 26101.0, 752377.0, 63047.0, 751452.1692307693, 751452.1692307693, 64951.0, 17379.0, 193914.0, 196928.0, 108.0, 5526071.0, 24196.0, 91260.0, 933621.0, 1664982.0, 8877.0, 140870.0, 150128.0, 751452.1692307693, 1390592.0, 132000.0, 751452.1692307693, 3648.0, 3430335.0, 1338948.0, 18897.0, 67747.0, 751452.1692307693, 17767.0, 614808.0, 135000.0, 11000.0, 177026.0, 79556.0, 751452.1692307693, 5081.0, 684277.0, 212000.0, 385936.0, 385855.0, 119711.0, 16890.0, 60000.0, 96421.0, 54839.0, 1165825.0, 751452.1692307693, 751452.1692307693, 1202212.0, 2339078.0, 6329968.0, 19107959.0, 241016.0], \"type\": \"choropleth\"}], \"name\": \"2021-01-22\"}, {\"data\": [{\"coloraxis\": \"coloraxis\", \"geo\": \"geo\", \"hovertemplate\": \"<b>%{hovertext}</b><br><br>date=2021-01-23<br>iso_code=%{location}<br>total_vaccinations=%{z}<extra></extra>\", \"hovertext\": [\"Argentina\", \"Austria\", \"Belgium\", \"Bermuda\", \"Brazil\", \"Bulgaria\", \"Canada\", \"Chile\", \"China\", \"Costa Rica\", \"Croatia\", \"Czechia\", \"Denmark\", \"Ecuador\", \"England\", \"Estonia\", \"Finland\", \"France\", \"Germany\", \"Gibraltar\", \"Greece\", \"Hungary\", \"Iceland\", \"India\", \"Indonesia\", \"Ireland\", \"Isle of Man\", \"Israel\", \"Italy\", \"Latvia\", \"Lithuania\", \"Luxembourg\", \"Malta\", \"Mexico\", \"Netherlands\", \"Northern Ireland\", \"Norway\", \"Oman\", \"Panama\", \"Poland\", \"Portugal\", \"Romania\", \"Scotland\", \"Serbia\", \"Seychelles\", \"Singapore\", \"Slovakia\", \"Slovenia\", \"Spain\", \"Sweden\", \"Switzerland\", \"Turkey\", \"United Arab Emirates\", \"United Kingdom\", \"United States\", \"Wales\"], \"locations\": [\"ARG\", \"AUT\", \"BEL\", \"BMU\", \"BRA\", \"BGR\", \"CAN\", \"CHL\", \"CHN\", \"CRI\", \"HRV\", \"CZE\", \"DNK\", \"ECU\", null, \"EST\", \"FIN\", \"FRA\", \"DEU\", \"GIB\", \"GRC\", \"HUN\", \"ISL\", \"IND\", \"IDN\", \"IRL\", \"IMN\", \"ISR\", \"ITA\", \"LVA\", \"LTU\", \"LUX\", \"MLT\", \"MEX\", \"NLD\", null, \"NOR\", \"OMN\", \"PAN\", \"POL\", \"PRT\", \"ROU\", null, \"SRB\", \"SYC\", \"SGP\", \"SVK\", \"SVN\", \"ESP\", \"SWE\", \"CHE\", \"TUR\", \"ARE\", \"GBR\", \"USA\", null], \"name\": \"\", \"z\": [288064.0, 136348.0, 222997.0, 2932.0, 537774.0, 26119.0, 751452.1692307693, 63939.0, 751452.1692307693, 751452.1692307693, 751452.1692307693, 197551.0, 204774.0, 751452.1692307693, 5970175.0, 25704.0, 751452.1692307693, 968647.0, 1752828.0, 9807.0, 157388.0, 153392.0, 751452.1692307693, 1582201.0, 751452.1692307693, 751452.1692307693, 751452.1692307693, 3523122.0, 1376449.0, 19022.0, 67755.0, 751452.1692307693, 18930.0, 618768.0, 751452.1692307693, 178331.0, 79909.0, 30675.0, 5594.0, 701164.0, 232725.0, 418885.0, 409421.0, 163355.0, 18353.0, 751452.1692307693, 96697.0, 55680.0, 751452.1692307693, 751452.1692307693, 751452.1692307693, 1226883.0, 2426798.0, 6822981.0, 20537990.0, 265054.0], \"type\": \"choropleth\"}], \"name\": \"2021-01-23\"}, {\"data\": [{\"coloraxis\": \"coloraxis\", \"geo\": \"geo\", \"hovertemplate\": \"<b>%{hovertext}</b><br><br>date=2021-01-24<br>iso_code=%{location}<br>total_vaccinations=%{z}<extra></extra>\", \"hovertext\": [\"Argentina\", \"Austria\", \"Belgium\", \"Brazil\", \"Bulgaria\", \"Canada\", \"Chile\", \"China\", \"Costa Rica\", \"Croatia\", \"Czechia\", \"Denmark\", \"Ecuador\", \"England\", \"Estonia\", \"Finland\", \"France\", \"Germany\", \"Gibraltar\", \"Greece\", \"Hungary\", \"Iceland\", \"India\", \"Indonesia\", \"Ireland\", \"Isle of Man\", \"Israel\", \"Italy\", \"Latvia\", \"Lithuania\", \"Luxembourg\", \"Malta\", \"Mexico\", \"Netherlands\", \"Northern Ireland\", \"Norway\", \"Oman\", \"Panama\", \"Poland\", \"Portugal\", \"Romania\", \"Scotland\", \"Serbia\", \"Seychelles\", \"Singapore\", \"Slovakia\", \"Slovenia\", \"Spain\", \"Sweden\", \"Switzerland\", \"Turkey\", \"United Arab Emirates\", \"United Kingdom\", \"United States\", \"Wales\"], \"locations\": [\"ARG\", \"AUT\", \"BEL\", \"BRA\", \"BGR\", \"CAN\", \"CHL\", \"CHN\", \"CRI\", \"HRV\", \"CZE\", \"DNK\", \"ECU\", null, \"EST\", \"FIN\", \"FRA\", \"DEU\", \"GIB\", \"GRC\", \"HUN\", \"ISL\", \"IND\", \"IDN\", \"IRL\", \"IMN\", \"ISR\", \"ITA\", \"LVA\", \"LTU\", \"LUX\", \"MLT\", \"MEX\", \"NLD\", null, \"NOR\", \"OMN\", \"PAN\", \"POL\", \"PRT\", \"ROU\", null, \"SRB\", \"SYC\", \"SGP\", \"SVK\", \"SVN\", \"ESP\", \"SWE\", \"CHE\", \"TUR\", \"ARE\", \"GBR\", \"USA\", null], \"name\": \"\", \"z\": [292023.0, 139538.0, 224687.0, 604722.0, 26143.0, 751452.1692307693, 751452.1692307693, 751452.1692307693, 751452.1692307693, 751452.1692307693, 200087.0, 211892.0, 751452.1692307693, 6169377.0, 25964.0, 751452.1692307693, 977273.0, 1818624.0, 10341.0, 751452.1692307693, 156098.0, 751452.1692307693, 1615504.0, 149242.0, 143000.0, 751452.1692307693, 3729356.0, 1409632.0, 751452.1692307693, 751452.1692307693, 751452.1692307693, 19981.0, 629626.0, 146612.0, 182355.0, 79968.0, 32765.0, 6420.0, 707474.0, 751452.1692307693, 446285.0, 420940.0, 217800.0, 751452.1692307693, 751452.1692307693, 96697.0, 55978.0, 751452.1692307693, 190096.0, 197368.0, 1244653.0, 2487789.0, 7044048.0, 21848655.0, 271376.0], \"type\": \"choropleth\"}], \"name\": \"2021-01-24\"}, {\"data\": [{\"coloraxis\": \"coloraxis\", \"geo\": \"geo\", \"hovertemplate\": \"<b>%{hovertext}</b><br><br>date=2021-01-25<br>iso_code=%{location}<br>total_vaccinations=%{z}<extra></extra>\", \"hovertext\": [\"Argentina\", \"Austria\", \"Belgium\", \"Brazil\", \"Bulgaria\", \"Canada\", \"Chile\", \"China\", \"Costa Rica\", \"Croatia\", \"Czechia\", \"Denmark\", \"Ecuador\", \"England\", \"Estonia\", \"Finland\", \"France\", \"Germany\", \"Gibraltar\", \"Greece\", \"Hungary\", \"Iceland\", \"India\", \"Indonesia\", \"Ireland\", \"Isle of Man\", \"Israel\", \"Italy\", \"Latvia\", \"Lithuania\", \"Luxembourg\", \"Malta\", \"Mexico\", \"Netherlands\", \"Northern Ireland\", \"Norway\", \"Oman\", \"Poland\", \"Portugal\", \"Romania\", \"Scotland\", \"Serbia\", \"Seychelles\", \"Singapore\", \"Slovakia\", \"Slovenia\", \"Spain\", \"Turkey\", \"United Arab Emirates\", \"United Kingdom\", \"United States\", \"Wales\"], \"locations\": [\"ARG\", \"AUT\", \"BEL\", \"BRA\", \"BGR\", \"CAN\", \"CHL\", \"CHN\", \"CRI\", \"HRV\", \"CZE\", \"DNK\", \"ECU\", null, \"EST\", \"FIN\", \"FRA\", \"DEU\", \"GIB\", \"GRC\", \"HUN\", \"ISL\", \"IND\", \"IDN\", \"IRL\", \"IMN\", \"ISR\", \"ITA\", \"LVA\", \"LTU\", \"LUX\", \"MLT\", \"MEX\", \"NLD\", null, \"NOR\", \"OMN\", \"POL\", \"PRT\", \"ROU\", null, \"SRB\", \"SYC\", \"SGP\", \"SVK\", \"SVN\", \"ESP\", \"TUR\", \"ARE\", \"GBR\", \"USA\", null], \"name\": \"\", \"z\": [292386.0, 141350.0, 233225.0, 700608.0, 26798.0, 802354.0, 64286.0, 751452.1692307693, 48128.0, 69984.0, 212090.0, 214615.0, 751452.1692307693, 6405554.0, 26126.0, 110651.0, 1047784.0, 1913806.0, 10539.0, 177377.0, 162315.0, 15220.0, 2023809.0, 161959.0, 751452.1692307693, 4209.0, 3946644.0, 1476056.0, 19689.0, 67791.0, 8554.0, 21172.0, 645105.0, 163931.0, 186112.0, 80538.0, 34606.0, 776987.0, 751452.1692307693, 484631.0, 443960.0, 256521.0, 19889.0, 751452.1692307693, 102683.0, 57591.0, 1237593.0, 1302753.0, 2571091.0, 7325773.0, 22734243.0, 290147.0], \"type\": \"choropleth\"}], \"name\": \"2021-01-25\"}, {\"data\": [{\"coloraxis\": \"coloraxis\", \"geo\": \"geo\", \"hovertemplate\": \"<b>%{hovertext}</b><br><br>date=2021-01-26<br>iso_code=%{location}<br>total_vaccinations=%{z}<extra></extra>\", \"hovertext\": [\"Argentina\", \"Austria\", \"Belgium\", \"Brazil\", \"Bulgaria\", \"Canada\", \"Chile\", \"China\", \"Czechia\", \"Denmark\", \"Ecuador\", \"England\", \"Estonia\", \"Finland\", \"France\", \"Germany\", \"Gibraltar\", \"Greece\", \"Hungary\", \"Iceland\", \"India\", \"Indonesia\", \"Ireland\", \"Isle of Man\", \"Israel\", \"Italy\", \"Latvia\", \"Lithuania\", \"Luxembourg\", \"Malta\", \"Mexico\", \"Myanmar\", \"Netherlands\", \"Northern Ireland\", \"Norway\", \"Oman\", \"Poland\", \"Portugal\", \"Romania\", \"Scotland\", \"Serbia\", \"Seychelles\", \"Singapore\", \"Slovakia\", \"Slovenia\", \"Spain\", \"Turkey\", \"United Arab Emirates\", \"United Kingdom\", \"United States\", \"Wales\"], \"locations\": [\"ARG\", \"AUT\", \"BEL\", \"BRA\", \"BGR\", \"CAN\", \"CHL\", \"CHN\", \"CZE\", \"DNK\", \"ECU\", null, \"EST\", \"FIN\", \"FRA\", \"DEU\", \"GIB\", \"GRC\", \"HUN\", \"ISL\", \"IND\", \"IDN\", \"IRL\", \"IMN\", \"ISR\", \"ITA\", \"LVA\", \"LTU\", \"LUX\", \"MLT\", \"MEX\", \"MMR\", \"NLD\", null, \"NOR\", \"OMN\", \"POL\", \"PRT\", \"ROU\", null, \"SRB\", \"SYC\", \"SGP\", \"SVK\", \"SVN\", \"ESP\", \"TUR\", \"ARE\", \"GBR\", \"USA\", null], \"name\": \"\", \"z\": [305880.0, 150933.0, 241101.0, 848883.0, 29122.0, 827042.0, 66569.0, 751452.1692307693, 225316.0, 216589.0, 751452.1692307693, 6665861.0, 27180.0, 117007.0, 1136906.0, 2012130.0, 11073.0, 195783.0, 170476.0, 751452.1692307693, 2029480.0, 245685.0, 751452.1692307693, 4886.0, 4146493.0, 1553191.0, 20537.0, 70803.0, 9525.0, 22371.0, 652319.0, 0.0, 173638.0, 191050.0, 83883.0, 36206.0, 905457.0, 263499.0, 528378.0, 468688.0, 319504.0, 20650.0, 751452.1692307693, 109012.0, 60979.0, 1291216.0, 1410273.0, 2677680.0, 7638543.0, 23540994.0, 312944.0], \"type\": \"choropleth\"}], \"name\": \"2021-01-26\"}, {\"data\": [{\"coloraxis\": \"coloraxis\", \"geo\": \"geo\", \"hovertemplate\": \"<b>%{hovertext}</b><br><br>date=2021-01-27<br>iso_code=%{location}<br>total_vaccinations=%{z}<extra></extra>\", \"hovertext\": [\"Argentina\", \"Austria\", \"Belgium\", \"Brazil\", \"Bulgaria\", \"Canada\", \"Chile\", \"China\", \"Czechia\", \"Denmark\", \"Ecuador\", \"England\", \"Estonia\", \"Finland\", \"Germany\", \"Gibraltar\", \"Greece\", \"Hungary\", \"Iceland\", \"India\", \"Indonesia\", \"Ireland\", \"Isle of Man\", \"Israel\", \"Italy\", \"Latvia\", \"Lithuania\", \"Luxembourg\", \"Malta\", \"Mexico\", \"Myanmar\", \"Netherlands\", \"Northern Ireland\", \"Norway\", \"Oman\", \"Poland\", \"Portugal\", \"Romania\", \"Serbia\", \"Seychelles\", \"Singapore\", \"Slovakia\", \"Slovenia\", \"Spain\", \"Turkey\", \"United Arab Emirates\", \"United Kingdom\", \"United States\", \"Wales\"], \"locations\": [\"ARG\", \"AUT\", \"BEL\", \"BRA\", \"BGR\", \"CAN\", \"CHL\", \"CHN\", \"CZE\", \"DNK\", \"ECU\", null, \"EST\", \"FIN\", \"DEU\", \"GIB\", \"GRC\", \"HUN\", \"ISL\", \"IND\", \"IDN\", \"IRL\", \"IMN\", \"ISR\", \"ITA\", \"LVA\", \"LTU\", \"LUX\", \"MLT\", \"MEX\", \"MMR\", \"NLD\", null, \"NOR\", \"OMN\", \"POL\", \"PRT\", \"ROU\", \"SRB\", \"SYC\", \"SGP\", \"SVK\", \"SVN\", \"ESP\", \"TUR\", \"ARE\", \"GBR\", \"USA\", null], \"name\": \"\", \"z\": [318033.0, 158985.0, 246870.0, 1129885.0, 32917.0, 890536.0, 67096.0, 22767000.0, 236697.0, 221067.0, 751452.1692307693, 6918853.0, 29594.0, 126910.0, 2104317.0, 11607.0, 213735.0, 187508.0, 15522.0, 2355979.0, 308003.0, 161500.0, 5587.0, 4346937.0, 1620727.0, 21355.0, 76387.0, 10449.0, 23512.0, 656044.0, 3800.0, 185356.0, 199211.0, 83883.0, 37045.0, 1008253.0, 278413.0, 570704.0, 361830.0, 25587.0, 751452.1692307693, 115399.0, 64972.0, 1356461.0, 1522580.0, 2764450.0, 7923497.0, 24652634.0, 336745.0], \"type\": \"choropleth\"}], \"name\": \"2021-01-27\"}, {\"data\": [{\"coloraxis\": \"coloraxis\", \"geo\": \"geo\", \"hovertemplate\": \"<b>%{hovertext}</b><br><br>date=2021-01-28<br>iso_code=%{location}<br>total_vaccinations=%{z}<extra></extra>\", \"hovertext\": [\"Argentina\", \"Austria\", \"Brazil\", \"Canada\", \"Ecuador\", \"Estonia\", \"Finland\", \"Greece\", \"Indonesia\", \"Isle of Man\", \"Israel\", \"Italy\", \"Netherlands\", \"Portugal\", \"Romania\", \"Singapore\", \"Turkey\", \"United Arab Emirates\"], \"locations\": [\"ARG\", \"AUT\", \"BRA\", \"CAN\", \"ECU\", \"EST\", \"FIN\", \"GRC\", \"IDN\", \"IMN\", \"ISR\", \"ITA\", \"NLD\", \"PRT\", \"ROU\", \"SGP\", \"TUR\", \"ARE\"], \"name\": \"\", \"z\": [327999.0, 169439.0, 1450900.0, 903664.0, 2982.0, 31629.0, 138323.0, 232070.0, 373786.0, 6281.0, 4347206.0, 1653027.0, 203450.0, 296004.0, 609396.0, 113050.0, 1697575.0, 2868650.0], \"type\": \"choropleth\"}], \"name\": \"2021-01-28\"}, {\"data\": [{\"coloraxis\": \"coloraxis\", \"geo\": \"geo\", \"hovertemplate\": \"<b>%{hovertext}</b><br><br>date=2020-12-23<br>iso_code=%{location}<br>total_vaccinations=%{z}<extra></extra>\", \"hovertext\": [\"Bahrain\", \"China\", \"England\", \"France\", \"Israel\", \"Northern Ireland\", \"Russia\", \"Scotland\", \"Switzerland\", \"United Kingdom\", \"United States\", \"Wales\"], \"locations\": [\"BHR\", \"CHN\", null, \"FRA\", \"ISR\", null, \"RUS\", null, \"CHE\", \"GBR\", \"USA\", null], \"name\": \"\", \"z\": [38965.0, 751452.1692307693, 751452.1692307693, 3.0, 137767.0, 751452.1692307693, 751452.1692307693, 751452.1692307693, 0.0, 751452.1692307693, 1008025.0, 751452.1692307693], \"type\": \"choropleth\"}], \"name\": \"2020-12-23\"}, {\"data\": [{\"coloraxis\": \"coloraxis\", \"geo\": \"geo\", \"hovertemplate\": \"<b>%{hovertext}</b><br><br>date=2020-12-24<br>iso_code=%{location}<br>total_vaccinations=%{z}<extra></extra>\", \"hovertext\": [\"Bahrain\", \"Chile\", \"China\", \"Costa Rica\", \"England\", \"France\", \"Israel\", \"Mexico\", \"Northern Ireland\", \"Russia\", \"Scotland\", \"Switzerland\", \"United Kingdom\", \"United States\", \"Wales\"], \"locations\": [\"BHR\", \"CHL\", \"CHN\", \"CRI\", null, \"FRA\", \"ISR\", \"MEX\", null, \"RUS\", null, \"CHE\", \"GBR\", \"USA\", null], \"name\": \"\", \"z\": [50071.0, 420.0, 751452.1692307693, 55.0, 751452.1692307693, 751452.1692307693, 209711.0, 2924.0, 751452.1692307693, 751452.1692307693, 751452.1692307693, 751452.1692307693, 751452.1692307693, 751452.1692307693, 751452.1692307693], \"type\": \"choropleth\"}], \"name\": \"2020-12-24\"}, {\"data\": [{\"coloraxis\": \"coloraxis\", \"geo\": \"geo\", \"hovertemplate\": \"<b>%{hovertext}</b><br><br>date=2020-12-25<br>iso_code=%{location}<br>total_vaccinations=%{z}<extra></extra>\", \"hovertext\": [\"Bahrain\", \"Chile\", \"China\", \"Costa Rica\", \"England\", \"France\", \"Israel\", \"Mexico\", \"Northern Ireland\", \"Russia\", \"Scotland\", \"Switzerland\", \"United Kingdom\", \"United States\", \"Wales\"], \"locations\": [\"BHR\", \"CHL\", \"CHN\", \"CRI\", null, \"FRA\", \"ISR\", \"MEX\", null, \"RUS\", null, \"CHE\", \"GBR\", \"USA\", null], \"name\": \"\", \"z\": [50543.0, 5191.0, 751452.1692307693, 751452.1692307693, 751452.1692307693, 751452.1692307693, 247398.0, 751452.1692307693, 751452.1692307693, 751452.1692307693, 751452.1692307693, 751452.1692307693, 751452.1692307693, 751452.1692307693, 751452.1692307693], \"type\": \"choropleth\"}], \"name\": \"2020-12-25\"}, {\"data\": [{\"coloraxis\": \"coloraxis\", \"geo\": \"geo\", \"hovertemplate\": \"<b>%{hovertext}</b><br><br>date=2020-12-26<br>iso_code=%{location}<br>total_vaccinations=%{z}<extra></extra>\", \"hovertext\": [\"Bahrain\", \"Canada\", \"Chile\", \"China\", \"Costa Rica\", \"England\", \"France\", \"Israel\", \"Mexico\", \"Northern Ireland\", \"Russia\", \"Scotland\", \"Switzerland\", \"United Kingdom\", \"United States\", \"Wales\"], \"locations\": [\"BHR\", \"CAN\", \"CHL\", \"CHN\", \"CRI\", null, \"FRA\", \"ISR\", \"MEX\", null, \"RUS\", null, \"CHE\", \"GBR\", \"USA\", null], \"name\": \"\", \"z\": [51556.0, 751452.1692307693, 8335.0, 751452.1692307693, 751452.1692307693, 751452.1692307693, 751452.1692307693, 279370.0, 751452.1692307693, 751452.1692307693, 751452.1692307693, 751452.1692307693, 751452.1692307693, 751452.1692307693, 1944585.0, 751452.1692307693], \"type\": \"choropleth\"}], \"name\": \"2020-12-26\"}, {\"data\": [{\"coloraxis\": \"coloraxis\", \"geo\": \"geo\", \"hovertemplate\": \"<b>%{hovertext}</b><br><br>date=2020-12-27<br>iso_code=%{location}<br>total_vaccinations=%{z}<extra></extra>\", \"hovertext\": [\"Bahrain\", \"Chile\", \"China\", \"Costa Rica\", \"Czechia\", \"Denmark\", \"England\", \"France\", \"Germany\", \"Israel\", \"Italy\", \"Lithuania\", \"Mexico\", \"Northern Ireland\", \"Norway\", \"Russia\", \"Scotland\", \"Sweden\", \"Switzerland\", \"United Kingdom\", \"United States\", \"Wales\"], \"locations\": [\"BHR\", \"CHL\", \"CHN\", \"CRI\", \"CZE\", \"DNK\", null, \"FRA\", \"DEU\", \"ISR\", \"ITA\", \"LTU\", \"MEX\", null, \"NOR\", \"RUS\", null, \"SWE\", \"CHE\", \"GBR\", \"USA\", null], \"name\": \"\", \"z\": [53614.0, 8646.0, 751452.1692307693, 751452.1692307693, 1251.0, 6646.0, 835475.0, 16.0, 24258.0, 381931.0, 6947.0, 2418.0, 6824.0, 31016.0, 5.0, 751452.1692307693, 94173.0, 451.0, 751452.1692307693, 996616.0, 751452.1692307693, 35952.0], \"type\": \"choropleth\"}], \"name\": \"2020-12-27\"}, {\"data\": [{\"coloraxis\": \"coloraxis\", \"geo\": \"geo\", \"hovertemplate\": \"<b>%{hovertext}</b><br><br>date=2020-12-28<br>iso_code=%{location}<br>total_vaccinations=%{z}<extra></extra>\", \"hovertext\": [\"Bahrain\", \"Belgium\", \"Chile\", \"China\", \"Costa Rica\", \"Czechia\", \"Denmark\", \"England\", \"Estonia\", \"France\", \"Germany\", \"Greece\", \"Hungary\", \"Israel\", \"Italy\", \"Kuwait\", \"Latvia\", \"Lithuania\", \"Malta\", \"Mexico\", \"Northern Ireland\", \"Norway\", \"Oman\", \"Poland\", \"Portugal\", \"Romania\", \"Russia\", \"Scotland\", \"Sweden\", \"Switzerland\", \"United Kingdom\", \"United States\", \"Wales\"], \"locations\": [\"BHR\", \"BEL\", \"CHL\", \"CHN\", \"CRI\", \"CZE\", \"DNK\", null, \"EST\", \"FRA\", \"DEU\", \"GRC\", \"HUN\", \"ISR\", \"ITA\", \"KWT\", \"LVA\", \"LTU\", \"MLT\", \"MEX\", null, \"NOR\", \"OMN\", \"POL\", \"PRT\", \"ROU\", \"RUS\", null, \"SWE\", \"CHE\", \"GBR\", \"USA\", null], \"name\": \"\", \"z\": [55014.0, 298.0, 751452.1692307693, 751452.1692307693, 751452.1692307693, 3533.0, 8641.0, 751452.1692307693, 207.0, 54.0, 44094.0, 386.0, 1094.0, 513769.0, 7895.0, 2500.0, 595.0, 5203.0, 130.0, 9579.0, 751452.1692307693, 605.0, 1717.0, 2000.0, 4828.0, 2066.0, 751452.1692307693, 751452.1692307693, 751452.1692307693, 751452.1692307693, 751452.1692307693, 2127143.0, 751452.1692307693], \"type\": \"choropleth\"}], \"name\": \"2020-12-28\"}, {\"data\": [{\"coloraxis\": \"coloraxis\", \"geo\": \"geo\", \"hovertemplate\": \"<b>%{hovertext}</b><br><br>date=2020-12-19<br>iso_code=%{location}<br>total_vaccinations=%{z}<extra></extra>\", \"hovertext\": [\"Canada\", \"China\", \"France\", \"Israel\", \"Northern Ireland\", \"Russia\", \"Scotland\", \"Wales\"], \"locations\": [\"CAN\", \"CHN\", \"FRA\", \"ISR\", null, \"RUS\", null, null], \"name\": \"\", \"z\": [751452.1692307693, 751452.1692307693, 751452.1692307693, 57.0, 751452.1692307693, 751452.1692307693, 751452.1692307693, 751452.1692307693], \"type\": \"choropleth\"}], \"name\": \"2020-12-19\"}, {\"data\": [{\"coloraxis\": \"coloraxis\", \"geo\": \"geo\", \"hovertemplate\": \"<b>%{hovertext}</b><br><br>date=2020-12-15<br>iso_code=%{location}<br>total_vaccinations=%{z}<extra></extra>\", \"hovertext\": [\"China\", \"Northern Ireland\", \"Russia\", \"Scotland\", \"Wales\"], \"locations\": [\"CHN\", null, \"RUS\", null, null], \"name\": \"\", \"z\": [1500000.0, 751452.1692307693, 28500.0, 751452.1692307693, 751452.1692307693], \"type\": \"choropleth\"}], \"name\": \"2020-12-15\"}, {\"data\": [{\"coloraxis\": \"coloraxis\", \"geo\": \"geo\", \"hovertemplate\": \"<b>%{hovertext}</b><br><br>date=2020-12-16<br>iso_code=%{location}<br>total_vaccinations=%{z}<extra></extra>\", \"hovertext\": [\"China\", \"Northern Ireland\", \"Russia\", \"Scotland\", \"Wales\"], \"locations\": [\"CHN\", null, \"RUS\", null, null], \"name\": \"\", \"z\": [751452.1692307693, 751452.1692307693, 751452.1692307693, 751452.1692307693, 751452.1692307693], \"type\": \"choropleth\"}], \"name\": \"2020-12-16\"}, {\"data\": [{\"coloraxis\": \"coloraxis\", \"geo\": \"geo\", \"hovertemplate\": \"<b>%{hovertext}</b><br><br>date=2020-12-17<br>iso_code=%{location}<br>total_vaccinations=%{z}<extra></extra>\", \"hovertext\": [\"China\", \"Northern Ireland\", \"Russia\", \"Scotland\", \"Wales\"], \"locations\": [\"CHN\", null, \"RUS\", null, null], \"name\": \"\", \"z\": [751452.1692307693, 751452.1692307693, 751452.1692307693, 751452.1692307693, 751452.1692307693], \"type\": \"choropleth\"}], \"name\": \"2020-12-17\"}, {\"data\": [{\"coloraxis\": \"coloraxis\", \"geo\": \"geo\", \"hovertemplate\": \"<b>%{hovertext}</b><br><br>date=2020-12-18<br>iso_code=%{location}<br>total_vaccinations=%{z}<extra></extra>\", \"hovertext\": [\"China\", \"France\", \"Northern Ireland\", \"Russia\", \"Scotland\", \"Wales\"], \"locations\": [\"CHN\", \"FRA\", null, \"RUS\", null, null], \"name\": \"\", \"z\": [751452.1692307693, 2.0, 751452.1692307693, 751452.1692307693, 751452.1692307693, 751452.1692307693], \"type\": \"choropleth\"}], \"name\": \"2020-12-18\"}, {\"data\": [{\"coloraxis\": \"coloraxis\", \"geo\": \"geo\", \"hovertemplate\": \"<b>%{hovertext}</b><br><br>date=2020-12-20<br>iso_code=%{location}<br>total_vaccinations=%{z}<extra></extra>\", \"hovertext\": [\"China\", \"England\", \"France\", \"Israel\", \"Northern Ireland\", \"Russia\", \"Scotland\", \"United Kingdom\", \"United States\", \"Wales\"], \"locations\": [\"CHN\", null, \"FRA\", \"ISR\", null, \"RUS\", null, \"GBR\", \"USA\", null], \"name\": \"\", \"z\": [751452.1692307693, 570199.0, 751452.1692307693, 7359.0, 16068.0, 751452.1692307693, 59832.0, 669674.0, 556208.0, 23575.0], \"type\": \"choropleth\"}], \"name\": \"2020-12-20\"}, {\"data\": [{\"coloraxis\": \"coloraxis\", \"geo\": \"geo\", \"hovertemplate\": \"<b>%{hovertext}</b><br><br>date=2020-12-21<br>iso_code=%{location}<br>total_vaccinations=%{z}<extra></extra>\", \"hovertext\": [\"China\", \"England\", \"France\", \"Israel\", \"Northern Ireland\", \"Russia\", \"Scotland\", \"United Kingdom\", \"United States\", \"Wales\"], \"locations\": [\"CHN\", null, \"FRA\", \"ISR\", null, \"RUS\", null, \"GBR\", \"USA\", null], \"name\": \"\", \"z\": [751452.1692307693, 751452.1692307693, 751452.1692307693, 32087.0, 751452.1692307693, 751452.1692307693, 751452.1692307693, 751452.1692307693, 614117.0, 751452.1692307693], \"type\": \"choropleth\"}], \"name\": \"2020-12-21\"}, {\"data\": [{\"coloraxis\": \"coloraxis\", \"geo\": \"geo\", \"hovertemplate\": \"<b>%{hovertext}</b><br><br>date=2020-12-22<br>iso_code=%{location}<br>total_vaccinations=%{z}<extra></extra>\", \"hovertext\": [\"China\", \"England\", \"France\", \"Israel\", \"Northern Ireland\", \"Russia\", \"Scotland\", \"United Kingdom\", \"United States\", \"Wales\"], \"locations\": [\"CHN\", null, \"FRA\", \"ISR\", null, \"RUS\", null, \"GBR\", \"USA\", null], \"name\": \"\", \"z\": [751452.1692307693, 751452.1692307693, 751452.1692307693, 76254.0, 751452.1692307693, 52000.0, 751452.1692307693, 751452.1692307693, 751452.1692307693, 751452.1692307693], \"type\": \"choropleth\"}], \"name\": \"2020-12-22\"}, {\"data\": [{\"coloraxis\": \"coloraxis\", \"geo\": \"geo\", \"hovertemplate\": \"<b>%{hovertext}</b><br><br>date=2020-12-13<br>iso_code=%{location}<br>total_vaccinations=%{z}<extra></extra>\", \"hovertext\": [\"Northern Ireland\", \"Scotland\", \"Wales\"], \"locations\": [null, null, null], \"name\": \"\", \"z\": [3623.0, 18967.0, 8181.0], \"type\": \"choropleth\"}], \"name\": \"2020-12-13\"}, {\"data\": [{\"coloraxis\": \"coloraxis\", \"geo\": \"geo\", \"hovertemplate\": \"<b>%{hovertext}</b><br><br>date=2020-12-14<br>iso_code=%{location}<br>total_vaccinations=%{z}<extra></extra>\", \"hovertext\": [\"Northern Ireland\", \"Scotland\", \"Wales\"], \"locations\": [null, null, null], \"name\": \"\", \"z\": [751452.1692307693, 751452.1692307693, 751452.1692307693], \"type\": \"choropleth\"}], \"name\": \"2020-12-14\"}]);\n",
       "                        }).then(function(){\n",
       "                            \n",
       "var gd = document.getElementById('d987bcb8-cd32-4174-86b4-dabbd323fb57');\n",
       "var x = new MutationObserver(function (mutations, observer) {{\n",
       "        var display = window.getComputedStyle(gd).display;\n",
       "        if (!display || display === 'none') {{\n",
       "            console.log([gd, 'removed!']);\n",
       "            Plotly.purge(gd);\n",
       "            observer.disconnect();\n",
       "        }}\n",
       "}});\n",
       "\n",
       "// Listen for the removal of the full notebook cells\n",
       "var notebookContainer = gd.closest('#notebook-container');\n",
       "if (notebookContainer) {{\n",
       "    x.observe(notebookContainer, {childList: true});\n",
       "}}\n",
       "\n",
       "// Listen for the clearing of the current output cell\n",
       "var outputEl = gd.closest('.output');\n",
       "if (outputEl) {{\n",
       "    x.observe(outputEl, {childList: true});\n",
       "}}\n",
       "\n",
       "                        })                };                });            </script>        </div>"
      ]
     },
     "metadata": {},
     "output_type": "display_data"
    },
    {
     "ename": "NameError",
     "evalue": "name 'write_html' is not defined",
     "output_type": "error",
     "traceback": [
      "\u001b[1;31m---------------------------------------------------------------------------\u001b[0m",
      "\u001b[1;31mNameError\u001b[0m                                 Traceback (most recent call last)",
      "\u001b[1;32m<ipython-input-14-179b44fdbb33>\u001b[0m in \u001b[0;36m<module>\u001b[1;34m\u001b[0m\n\u001b[0;32m      9\u001b[0m \u001b[1;33m\u001b[0m\u001b[0m\n\u001b[0;32m     10\u001b[0m \u001b[0mfig\u001b[0m\u001b[1;33m.\u001b[0m\u001b[0mshow\u001b[0m\u001b[1;33m(\u001b[0m\u001b[1;33m)\u001b[0m\u001b[1;33m\u001b[0m\u001b[1;33m\u001b[0m\u001b[0m\n\u001b[1;32m---> 11\u001b[1;33m \u001b[0mwrite_html\u001b[0m\u001b[1;33m(\u001b[0m\u001b[0mfig\u001b[0m\u001b[1;33m)\u001b[0m\u001b[1;33m\u001b[0m\u001b[1;33m\u001b[0m\u001b[0m\n\u001b[0m",
      "\u001b[1;31mNameError\u001b[0m: name 'write_html' is not defined"
     ]
    }
   ],
   "source": [
    "fig = px.choropleth(data,\n",
    "                   locations='iso_code',\n",
    "                   color='total_vaccinations',\n",
    "                   hover_name='country',\n",
    "                   projection='natural earth',\n",
    "                   animation_frame='date',\n",
    "                   color_continuous_scale = 'ylgnbu',\n",
    "                   range_color=[0,10000000])\n",
    "\n",
    "fig.show()\n",
    "write_html(fig)"
   ]
  },
  {
   "cell_type": "markdown",
   "metadata": {},
   "source": [
    "# India Vaccination Rate"
   ]
  },
  {
   "cell_type": "code",
   "execution_count": null,
   "metadata": {},
   "outputs": [],
   "source": [
    "plt.figure(figsize=(16,6))\n",
    "sns.lineplot(data=IND.daily_vaccinations)\n",
    "plt.ylabel(\"number of vaccination\")\n",
    "plt.xlabel(\"Date\")\n",
    "plt.title(\"India's Daily Vaccination Rate\")\n",
    "plt.show()"
   ]
  },
  {
   "cell_type": "code",
   "execution_count": null,
   "metadata": {},
   "outputs": [],
   "source": []
  },
  {
   "cell_type": "code",
   "execution_count": null,
   "metadata": {},
   "outputs": [],
   "source": []
  },
  {
   "cell_type": "code",
   "execution_count": null,
   "metadata": {},
   "outputs": [],
   "source": []
  },
  {
   "cell_type": "code",
   "execution_count": null,
   "metadata": {},
   "outputs": [],
   "source": []
  },
  {
   "cell_type": "code",
   "execution_count": null,
   "metadata": {},
   "outputs": [],
   "source": []
  }
 ],
 "metadata": {
  "kernelspec": {
   "display_name": "Python 3",
   "language": "python",
   "name": "python3"
  },
  "language_info": {
   "codemirror_mode": {
    "name": "ipython",
    "version": 3
   },
   "file_extension": ".py",
   "mimetype": "text/x-python",
   "name": "python",
   "nbconvert_exporter": "python",
   "pygments_lexer": "ipython3",
   "version": "3.8.3"
  }
 },
 "nbformat": 4,
 "nbformat_minor": 4
}
